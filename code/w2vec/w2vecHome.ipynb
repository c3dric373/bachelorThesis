{
 "cells": [
  {
   "cell_type": "markdown",
   "metadata": {},
   "source": [
    "### Getting and preprocessing the data\n",
    "First we get the dataset online, then apply subsampling, then divide the dataset in equally long sentences"
   ]
  },
  {
   "cell_type": "code",
   "execution_count": 1,
   "metadata": {},
   "outputs": [
    {
     "name": "stdout",
     "output_type": "stream",
     "text": [
      "CPU times: user 18.3 s, sys: 880 ms, total: 19.1 s\n",
      "Wall time: 19.5 s\n"
     ]
    }
   ],
   "source": [
    "%%time\n",
    "from collections import Counter\n",
    "import numpy as np\n",
    "from gensim.test.utils import datapath\n",
    "import gensim.downloader as api\n",
    "import random\n",
    "from itertools import dropwhile\n",
    "\n",
    "def sampling(dataset,threshold=1e-4, min_count=5):\n",
    "    \n",
    "    # Count occurences of each word in the dataset \n",
    "    word_counts = Counter(dataset)  \n",
    "    total_count = len(dataset)\n",
    "    \n",
    "    freqs = {word: count/total_count for word, count in word_counts.items()}\n",
    "    p_drop = {word: 1 - np.sqrt(threshold/freqs[word]) for word in word_counts}\n",
    "    train_words = [word for word in dataset if random.random() < (1 - p_drop[word]) and word_counts[word]>min_count]\n",
    "    return train_words\n",
    "\n",
    "\"Transforms a list of words to a list of sentences with length=len_sen\"\n",
    "def words_to_sentences(words):\n",
    "    new_ds = []\n",
    "    len_sen = int(len(words)/1700)\n",
    "    for i in range(0, len(words), len_sen):\n",
    "        y = [words[i:i + len_sen]]\n",
    "        new_ds.extend(y)\n",
    "    return new_ds\n",
    "    \n",
    "\n",
    "# Get dataset online\n",
    "dataset = api.load('text8')\n",
    "\n",
    "# Convert to list of words\n",
    "text8_ds = []\n",
    "for x in dataset: \n",
    "    for y in x:\n",
    "        text8_ds.append(y)\n",
    "        \n",
    "# Subsampling\n",
    "text8_ds1 = sampling(text8_ds)\n",
    "\n",
    "# New dataset with sentences of length=20\n",
    "text8_dataset = words_to_sentences(text8_ds)"
   ]
  },
  {
   "cell_type": "markdown",
   "metadata": {},
   "source": [
    "### Evaluation methods"
   ]
  },
  {
   "cell_type": "code",
   "execution_count": 2,
   "metadata": {},
   "outputs": [],
   "source": [
    "from scipy import stats, spatial \n",
    "import csv, numpy as np\n",
    "from scipy.stats.stats import pearsonr\n",
    "from scipy import spatial \n",
    "#IMPORT DATA\n",
    "def get_wordsim_data():\n",
    "    wordsim_data = [] \n",
    "    with open('./data/wordsim/set1.csv', newline='') as csvfile:\n",
    "        reader = csv.reader(csvfile, delimiter=' ',quotechar='|')\n",
    "        for row in reader: \n",
    "            wordsim_data.append(row[0].split(',')[0:3])\n",
    "    del wordsim_data[0]\n",
    "    with open('./data/wordsim/set2.csv', newline='') as csvfile:\n",
    "        reader = csv.reader(csvfile, delimiter=' ',quotechar='|')\n",
    "        for i,row in enumerate(reader):\n",
    "            if i!=0:\n",
    "                wordsim_data.append(row[0].split(',')[0:3])\n",
    "\n",
    "    wordsim_vocab = set()\n",
    "    for x in wordsim_data:\n",
    "        wordsim_vocab.add(x[0])\n",
    "        wordsim_vocab.add(x[1])\n",
    "    return wordsim_data\n",
    "\n",
    "#len(wordsim_vocab.intersection(text8_dataset_first_sentence.vocab))\n",
    "def wordsim_task(dict_emb):\n",
    "    wordsim_data = get_wordsim_data()\n",
    "    scores = []\n",
    "    distances = []\n",
    "    for task in wordsim_data: \n",
    "        if (task[0] in dict_emb.keys() ) and (task[1] in dict_emb.keys()):\n",
    "            scores.append(float(task[2]))\n",
    "            distances.append(spatial.distance.cosine(dict_emb[task[0]], dict_emb[task[1]]))\n",
    "            \n",
    "            \n",
    "    #return stats.zscore(np.array([x[1] for x in out],dtype=float))\n",
    "    return np.corrcoef(scores,distances)\n",
    "\n",
    "#print(wordsim_task(gensim_emb))\n",
    "#wordsim_task(dict_emb)"
   ]
  },
  {
   "cell_type": "markdown",
   "metadata": {},
   "source": [
    "### Model"
   ]
  },
  {
   "cell_type": "code",
   "execution_count": 3,
   "metadata": {},
   "outputs": [],
   "source": [
    "import torch\n",
    "from torch.autograd import Variable\n",
    "import torch.nn as nn\n",
    "import torch.nn.functional as F\n",
    "import pdb\n",
    "\n",
    "device = torch.device(\"cuda:0\" if torch.cuda.is_available() else \"cpu\")\n",
    "cpu = torch.device('cpu')\n",
    "gpu = torch.device(\"cuda:0\")\n",
    "\n",
    "\n",
    "class SkipGramModel(nn.Module):\n",
    "\n",
    "    def __init__(self, vocab_size, emb_dimension):\n",
    "        super(SkipGramModel, self).__init__()\n",
    "        self.emb_dimension = emb_dimension\n",
    "        self.u_embeddings = nn.Embedding(vocab_size, emb_dimension, sparse=False)\n",
    "        self.v_embeddings = nn.Embedding(vocab_size, emb_dimension, sparse=False)\n",
    "        self.init_emb()\n",
    "        \n",
    "\n",
    "    def init_emb(self):\n",
    "        initrange = 0.5 / self.emb_dimension\n",
    "        self.u_embeddings.weight.data.uniform_(-initrange, initrange)\n",
    "        self.v_embeddings.weight.data.uniform_(-1,1)\n",
    "        \n",
    "            \n",
    "    def forward(self, pos_u, pos_v,neg_v):\n",
    "        pos_u = pos_u.view(-1).to(device)\n",
    "        pos_v = pos_v.to(device)\n",
    "        neg_v = neg_v.to(device)\n",
    "        emb_u = self.u_embeddings(pos_u)\n",
    "        samples = torch.cat([pos_v,Variable(neg_v)],1)\n",
    "        emb_v = self.v_embeddings(samples)\n",
    "        score = torch.bmm(emb_v, emb_u.unsqueeze(2)).squeeze()\n",
    "        score[:,1:]=score[:,1:].neg()\n",
    "        score = F.logsigmoid(score)\n",
    "        return -1 * (torch.sum(score))/ pos_u.size(0)"
   ]
  },
  {
   "cell_type": "code",
   "execution_count": 4,
   "metadata": {},
   "outputs": [],
   "source": [
    "from torch.utils.data import Dataset\n",
    "from collections import defaultdict\n",
    "import random\n",
    "\n",
    "class wDataSet(Dataset):\n",
    "    def __init__(self, dataset, power=0.75,ctx_window=2,):\n",
    "        self.ctx_window = ctx_window\n",
    "        self.dataset = dataset\n",
    "        self.word2idx = dict()\n",
    "        self.idx2word = dict()\n",
    "        self.word_count = defaultdict(int)\n",
    "        self.vocab_size = int()\n",
    "        self.vocab = set()\n",
    "        self.create_vocab()\n",
    "        self.pairs = self.generate_pairs()\n",
    "        self.key_pairs = self.generate_key_pairs(self.pairs)\n",
    "        self.power = power        \n",
    "        self.neg_table = self.make_neg_table(self.power)\n",
    "\n",
    "        \n",
    "    def generate_pairs(self):\n",
    "        print(\"Generating pairs\")\n",
    "        pairs = []\n",
    "        for sentence in self.dataset:\n",
    "            for i,word in enumerate(sentence):\n",
    "                for j in range(1,random.randint(2,self.ctx_window+1)):\n",
    "                    if(i+j<len(sentence)):\n",
    "                        pairs.append((word,sentence[i+j]))\n",
    "                    if((i-j)>0):\n",
    "                        pairs.append((word,sentence[i-j]))\n",
    "\n",
    "        return pairs\n",
    "        \n",
    "    def __len__(self):\n",
    "        return len(self.key_pairs)\n",
    "        \n",
    "        \n",
    "    def __getitem__(self, idx):\n",
    "        return self.key_pairs\n",
    "    \n",
    "    def get_neg_samples(self, count, batch_size):\n",
    "        return torch.tensor(np.random.choice(list(self.idx2word.keys()),size=(batch_size)*count,replace=True,p=self.neg_table)).view(batch_size,-1)\n",
    "   \n",
    "    \"\"\" Defines the probability of choosing a negative sampling, set empiraccaly by mikolov\"\"\"\n",
    "    def make_neg_table(self, power):\n",
    "        pow_frequency = np.array([self.word_count[self.idx2word[i]] for i in range(len(self.word_count))])**power\n",
    "        return pow_frequency / pow_frequency.sum()\n",
    "        \n",
    "\n",
    "    def generate_key_pairs(self,pairs):\n",
    "        print(\"Generating key_pairs\")\n",
    "        key_pairs = []\n",
    "        for x,y in pairs:\n",
    "            key_pairs.append((self.word2idx.get(x),self.word2idx.get(y)))\n",
    "        print(\"finished creating key_pairs\")\n",
    "        return key_pairs\n",
    "    \n",
    "    \"\"\"\"Creating vocabulary and creating dictionary with a one to one mapping int to word\"\"\"\n",
    "    def create_vocab(self):\n",
    "        print(\"Creating vocab\")\n",
    "        for i,sentence in enumerate(self.dataset):\n",
    "            for word in sentence:\n",
    "                self.word_count[word] += 1\n",
    "                self.vocab.add(word)\n",
    "        self.word2idx = {w: idx for (idx, w) in enumerate(self.vocab)}\n",
    "        self.idx2word = {idx: w for (idx, w) in enumerate(self.vocab)}\n",
    "        self.vocab_size = len(self.vocab)\n",
    "        "
   ]
  },
  {
   "cell_type": "code",
   "execution_count": 5,
   "metadata": {},
   "outputs": [],
   "source": [
    "import torch\n",
    "import pickle\n",
    "from torch.utils.data import DataLoader\n",
    "import copy\n",
    "import time\n",
    "\n",
    "class W2V():\n",
    "    def __init__(self, data,dim=100, neg_samples=10, alpha=0.4, iterations=20, batch_size=5000, \n",
    "                 shuffle=False,workers=1,momentum=0,nesterov=False,step_size=1,gamma=1,rho=0.9):\n",
    "        #Param for sgd with momentum\n",
    "        self.momentum = momentum\n",
    "        self.nesterov = nesterov\n",
    "        \n",
    "        # Params for decayin the learning rate \n",
    "        self.step_size = step_size\n",
    "        self.gamma = gamma\n",
    "        \n",
    "        # General training params\n",
    "        self.shuffle = shuffle        \n",
    "        self.batch_size = batch_size\n",
    "        self.alpha = alpha\n",
    "        self.dim = dim\n",
    "        self.data = data\n",
    "        self.workers = workers\n",
    "        self.ctxw = self.data.ctx_window\n",
    "        self.neg_samples = neg_samples\n",
    "        self.models = []\n",
    "        self.optimizers = []\n",
    "        self.loss_list = []\n",
    "        self.model = SkipGramModel(len(self.data.vocab), self.dim)\n",
    "        self.model.to(device)\n",
    "        # Param needed for adadelta \n",
    "        self.rho = rho \n",
    "        print(device)\n",
    "        #self.optimizer = torch.optim.SGD(self.model.parameters(), lr=alpha, momentum=momentum,nesterov=nesterov)\n",
    "        self.optimizer = torch.optim.Adadelta(self.model.parameters(),rho=self.rho)\n",
    "        self.scheduler = StepLR(self.optimizer, step_size=step_size, gamma=gamma)\n",
    "\n",
    "\n",
    "        self.iterations = iterations\n",
    " \n",
    "    def train_with_loader(self,save_embedding=True):\n",
    "        loader = DataLoader(self.data.key_pairs, self.batch_size, self.shuffle, num_workers=self.workers)\n",
    "        print('starting training')\n",
    "        tenth = int(len(loader)/10)\n",
    "        no_improvement = 0\n",
    "        for epoch in range(self.iterations):\n",
    "\n",
    "            self.scheduler.step()\n",
    "            for x in self.optimizer.param_groups:\n",
    "                print(\"Learning rate = \" + str(x['lr']))\n",
    "            percent = 0\n",
    "            start = time.time()\n",
    "            processed_batches = 0 \n",
    "            pairs = 0\n",
    "            cum_loss = 0 \n",
    "            avg_loss =0\n",
    "            best_loss = 10 \n",
    "            \n",
    "            for i,(pos_u,pos_v) in enumerate(loader):\n",
    "                if(i%tenth == 0 ):\n",
    "                    end = time.time()\n",
    "                    hours, rem = divmod(end-start, 3600)\n",
    "                    minutes, seconds = divmod(rem, 60)\n",
    "                    time_since_start = \"Time:  {:0>2}:{:0>2}:{:05.2f}\".format(int(hours),int(minutes),seconds)\n",
    "                    if(processed_batches!=0):\n",
    "                        avg_loss = cum_loss / processed_batches\n",
    "                    print(\"0%\" + \"=\" *(int(percent/10))+ str(percent) +\"%, \" + time_since_start + \", avg_loss = {}\".format(avg_loss),end=\"\\r\" )\n",
    "                    percent+=10\n",
    "                    \n",
    "                neg_v = self.data.get_neg_samples(self.neg_samples,pos_v.size()[0])\n",
    "                pos_v = pos_v.view(len(neg_v),-1)\n",
    "                self.optimizer.zero_grad()\n",
    "                loss = self.model.forward(pos_u,pos_v,neg_v)\n",
    "                cum_loss += loss\n",
    "                loss.backward()\n",
    "                self.optimizer.step()\n",
    "                pairs += len(pos_u)\n",
    "                processed_batches += 1\n",
    "                \n",
    "            print(\"\\n{0:d} epoch of {1:d}\".format(epoch+1, self.iterations))\n",
    "            avg_loss = cum_loss / processed_batches\n",
    "            print(\" {0:d} {1:d} batches, pairs {2:d}, avg loss: {3:.5f}\".format(i,processed_batches, pairs,avg_loss))\n",
    "            self.loss_list.append(avg_loss)\n",
    "            self.time = time_since_start\n",
    "            self.model = self.model.to(cpu)\n",
    "            print(\"Current score on wordsim Task: {}\".format(wordsim_task(self.get_embedding())[0][1]))\n",
    "            self.model = self.model.to(gpu)\n",
    "        \n",
    "            if(avg_loss<best_loss):\n",
    "                best_loss = avg_loss\n",
    "            else:\n",
    "                no_improvement +=1\n",
    "        \n",
    "            if(no_improvement > 3):\n",
    "                self.iterations = epoch\n",
    "                break\n",
    "            \n",
    "        if(save_embedding):\n",
    "            self.save_embedding()\n",
    "            \n",
    "\n",
    "    def get_embedding(self):\n",
    "        embedding_dict = dict()\n",
    "        embedding = self.model.u_embeddings.weight.data.numpy()\n",
    "        for i in range(len(self.data.idx2word)):\n",
    "            embedding_dict[self.data.idx2word[i]]= embedding[i]\n",
    "        return embedding_dict\n",
    "    \n",
    "    def save_embedding(self, with_loss=True):\n",
    "        print('ntm')\n",
    "        # Creating filename\n",
    "        optim = \"Optim\" + str(self.optimizer).split(\" \")[0] + \"_\"\n",
    "        filename = \"dict_emb_\" +  optim + \"_\".join([x + str(y) for x,y in vars(self).items() if isinstance(y, numbers.Number)]) + \".pkl\"\n",
    "        \n",
    "        # Getting Embedding\n",
    "        self.model.to(torch.device('cpu'))\n",
    "        dict_emb = w2v.get_embedding()\n",
    "        \n",
    "        # Adding loss history to embedding\n",
    "        dict_emb['loss_list'] = [x.to(torch.device('cpu')) for x in self.loss_list]\n",
    "        \n",
    "        # Evaluating the model on the word similarity task, saving the score to the embedding \n",
    "        dict_emb['ws_score'] = wordsim_task(dict_emb)[0][1]\n",
    "        \n",
    "        # Saving time spent to calculate 1 epoch\n",
    "        dict_emb['time'] = self.time\n",
    "        \n",
    "        # Logging\n",
    "        print(\"Saving embedding: {} to disk with ws_score: {} \".format(filename,dict_emb['ws_score']))\n",
    "    \n",
    "        # Writing embedding dictionnary to disk\n",
    "        with open(filename, 'wb') as output:\n",
    "            pickle.dump(dict_emb, output, pickle.HIGHEST_PROTOCOL)\n",
    "        \n",
    "        self.model.to(device)\n",
    "        self.loss_list = [x.to(device) for x in self.loss_list]\n",
    "    \n",
    " \n",
    "\n",
    "            "
   ]
  },
  {
   "cell_type": "code",
   "execution_count": 8,
   "metadata": {},
   "outputs": [
    {
     "name": "stdout",
     "output_type": "stream",
     "text": [
      "Creating vocab\n",
      "Generating pairs\n",
      "Generating key_pairs\n"
     ]
    },
    {
     "ename": "KeyboardInterrupt",
     "evalue": "",
     "output_type": "error",
     "traceback": [
      "\u001b[0;31m---------------------------------------------------------------------------\u001b[0m",
      "\u001b[0;31mKeyboardInterrupt\u001b[0m                         Traceback (most recent call last)",
      "\u001b[0;32m<ipython-input-8-84c0296484f5>\u001b[0m in \u001b[0;36m<module>\u001b[0;34m\u001b[0m\n\u001b[0;32m----> 1\u001b[0;31m \u001b[0mtext8_dataset_first_sentence\u001b[0m \u001b[0;34m=\u001b[0m \u001b[0mwDataSet\u001b[0m\u001b[0;34m(\u001b[0m\u001b[0;34m(\u001b[0m\u001b[0mtext8_dataset\u001b[0m\u001b[0;34m[\u001b[0m\u001b[0;36m0\u001b[0m\u001b[0;34m:\u001b[0m\u001b[0;36m500\u001b[0m\u001b[0;34m]\u001b[0m\u001b[0;34m)\u001b[0m\u001b[0;34m,\u001b[0m\u001b[0mctx_window\u001b[0m\u001b[0;34m=\u001b[0m\u001b[0;36m2\u001b[0m\u001b[0;34m)\u001b[0m\u001b[0;34m\u001b[0m\u001b[0;34m\u001b[0m\u001b[0m\n\u001b[0m\u001b[1;32m      2\u001b[0m \u001b[0mw2v\u001b[0m \u001b[0;34m=\u001b[0m \u001b[0mW2V\u001b[0m\u001b[0;34m(\u001b[0m\u001b[0mtext8_dataset_first_sentence\u001b[0m\u001b[0;34m,\u001b[0m \u001b[0mbatch_size\u001b[0m\u001b[0;34m=\u001b[0m\u001b[0;36m18\u001b[0m\u001b[0;34m,\u001b[0m\u001b[0miterations\u001b[0m\u001b[0;34m=\u001b[0m\u001b[0;36m3\u001b[0m\u001b[0;34m,\u001b[0m\u001b[0malpha\u001b[0m\u001b[0;34m=\u001b[0m\u001b[0;36m10\u001b[0m\u001b[0;34m)\u001b[0m\u001b[0;34m\u001b[0m\u001b[0;34m\u001b[0m\u001b[0m\n\u001b[1;32m      3\u001b[0m \u001b[0;31m#w2v.train_with_loader()\u001b[0m\u001b[0;34m\u001b[0m\u001b[0;34m\u001b[0m\u001b[0;34m\u001b[0m\u001b[0m\n",
      "\u001b[0;32m<ipython-input-4-8e1b9d63d7e2>\u001b[0m in \u001b[0;36m__init__\u001b[0;34m(self, dataset, power, ctx_window)\u001b[0m\n\u001b[1;32m     14\u001b[0m         \u001b[0mself\u001b[0m\u001b[0;34m.\u001b[0m\u001b[0mcreate_vocab\u001b[0m\u001b[0;34m(\u001b[0m\u001b[0;34m)\u001b[0m\u001b[0;34m\u001b[0m\u001b[0;34m\u001b[0m\u001b[0m\n\u001b[1;32m     15\u001b[0m         \u001b[0mself\u001b[0m\u001b[0;34m.\u001b[0m\u001b[0mpairs\u001b[0m \u001b[0;34m=\u001b[0m \u001b[0mself\u001b[0m\u001b[0;34m.\u001b[0m\u001b[0mgenerate_pairs\u001b[0m\u001b[0;34m(\u001b[0m\u001b[0;34m)\u001b[0m\u001b[0;34m\u001b[0m\u001b[0;34m\u001b[0m\u001b[0m\n\u001b[0;32m---> 16\u001b[0;31m         \u001b[0mself\u001b[0m\u001b[0;34m.\u001b[0m\u001b[0mkey_pairs\u001b[0m \u001b[0;34m=\u001b[0m \u001b[0mself\u001b[0m\u001b[0;34m.\u001b[0m\u001b[0mgenerate_key_pairs\u001b[0m\u001b[0;34m(\u001b[0m\u001b[0mself\u001b[0m\u001b[0;34m.\u001b[0m\u001b[0mpairs\u001b[0m\u001b[0;34m)\u001b[0m\u001b[0;34m\u001b[0m\u001b[0;34m\u001b[0m\u001b[0m\n\u001b[0m\u001b[1;32m     17\u001b[0m         \u001b[0mself\u001b[0m\u001b[0;34m.\u001b[0m\u001b[0mpower\u001b[0m \u001b[0;34m=\u001b[0m \u001b[0mpower\u001b[0m\u001b[0;34m\u001b[0m\u001b[0;34m\u001b[0m\u001b[0m\n\u001b[1;32m     18\u001b[0m         \u001b[0mself\u001b[0m\u001b[0;34m.\u001b[0m\u001b[0mneg_table\u001b[0m \u001b[0;34m=\u001b[0m \u001b[0mself\u001b[0m\u001b[0;34m.\u001b[0m\u001b[0mmake_neg_table\u001b[0m\u001b[0;34m(\u001b[0m\u001b[0mself\u001b[0m\u001b[0;34m.\u001b[0m\u001b[0mpower\u001b[0m\u001b[0;34m)\u001b[0m\u001b[0;34m\u001b[0m\u001b[0;34m\u001b[0m\u001b[0m\n",
      "\u001b[0;32m<ipython-input-4-8e1b9d63d7e2>\u001b[0m in \u001b[0;36mgenerate_key_pairs\u001b[0;34m(self, pairs)\u001b[0m\n\u001b[1;32m     52\u001b[0m         \u001b[0mkey_pairs\u001b[0m \u001b[0;34m=\u001b[0m \u001b[0;34m[\u001b[0m\u001b[0;34m]\u001b[0m\u001b[0;34m\u001b[0m\u001b[0;34m\u001b[0m\u001b[0m\n\u001b[1;32m     53\u001b[0m         \u001b[0;32mfor\u001b[0m \u001b[0mx\u001b[0m\u001b[0;34m,\u001b[0m\u001b[0my\u001b[0m \u001b[0;32min\u001b[0m \u001b[0mpairs\u001b[0m\u001b[0;34m:\u001b[0m\u001b[0;34m\u001b[0m\u001b[0;34m\u001b[0m\u001b[0m\n\u001b[0;32m---> 54\u001b[0;31m             \u001b[0mkey_pairs\u001b[0m\u001b[0;34m.\u001b[0m\u001b[0mappend\u001b[0m\u001b[0;34m(\u001b[0m\u001b[0;34m(\u001b[0m\u001b[0mself\u001b[0m\u001b[0;34m.\u001b[0m\u001b[0mword2idx\u001b[0m\u001b[0;34m.\u001b[0m\u001b[0mget\u001b[0m\u001b[0;34m(\u001b[0m\u001b[0mx\u001b[0m\u001b[0;34m)\u001b[0m\u001b[0;34m,\u001b[0m\u001b[0mself\u001b[0m\u001b[0;34m.\u001b[0m\u001b[0mword2idx\u001b[0m\u001b[0;34m.\u001b[0m\u001b[0mget\u001b[0m\u001b[0;34m(\u001b[0m\u001b[0my\u001b[0m\u001b[0;34m)\u001b[0m\u001b[0;34m)\u001b[0m\u001b[0;34m)\u001b[0m\u001b[0;34m\u001b[0m\u001b[0;34m\u001b[0m\u001b[0m\n\u001b[0m\u001b[1;32m     55\u001b[0m         \u001b[0mprint\u001b[0m\u001b[0;34m(\u001b[0m\u001b[0;34m\"finished creating key_pairs\"\u001b[0m\u001b[0;34m)\u001b[0m\u001b[0;34m\u001b[0m\u001b[0;34m\u001b[0m\u001b[0m\n\u001b[1;32m     56\u001b[0m         \u001b[0;32mreturn\u001b[0m \u001b[0mkey_pairs\u001b[0m\u001b[0;34m\u001b[0m\u001b[0;34m\u001b[0m\u001b[0m\n",
      "\u001b[0;31mKeyboardInterrupt\u001b[0m: "
     ]
    }
   ],
   "source": [
    "text8_dataset_first_sentence = wDataSet((text8_dataset[0:500]),ctx_window=2)\n",
    "w2v = W2V(text8_dataset_first_sentence, batch_size=18,iterations=3,alpha=10)\n",
    "#w2v.train_with_loader()"
   ]
  },
  {
   "cell_type": "code",
   "execution_count": 88,
   "metadata": {},
   "outputs": [
    {
     "name": "stdout",
     "output_type": "stream",
     "text": [
      "cpu\n"
     ]
    }
   ],
   "source": [
    "text8_wDataset = wDataSet((text8_dataset),ctx_window=5)"
   ]
  },
  {
   "cell_type": "code",
   "execution_count": 89,
   "metadata": {},
   "outputs": [
    {
     "name": "stdout",
     "output_type": "stream",
     "text": [
      "starting training\n",
      "0%==========100% Time:  00:00:03.29\n",
      "1 epoch of 10\n",
      " 369 370 batches, pairs 7400, avg loss: 2.08\n",
      "0%==========100% Time:  00:00:02.86\n",
      "2 epoch of 10\n",
      " 369 370 batches, pairs 7400, avg loss: 2.07\n",
      "0%==========100% Time:  00:00:03.11\n",
      "3 epoch of 10\n",
      " 369 370 batches, pairs 7400, avg loss: 2.07\n",
      "0%==========100% Time:  00:00:02.92\n",
      "4 epoch of 10\n",
      " 369 370 batches, pairs 7400, avg loss: 2.06\n",
      "0%==========100% Time:  00:00:03.81\n",
      "5 epoch of 10\n",
      " 369 370 batches, pairs 7400, avg loss: 2.06\n",
      "0%==========100% Time:  00:00:03.47\n",
      "6 epoch of 10\n",
      " 369 370 batches, pairs 7400, avg loss: 2.06\n",
      "0%==========100% Time:  00:00:02.98\n",
      "7 epoch of 10\n",
      " 369 370 batches, pairs 7400, avg loss: 2.05\n",
      "0%==========100% Time:  00:00:03.42\n",
      "8 epoch of 10\n",
      " 369 370 batches, pairs 7400, avg loss: 2.05\n",
      "0%========80% Time:  00:00:02.34\r"
     ]
    },
    {
     "ename": "KeyboardInterrupt",
     "evalue": "",
     "output_type": "error",
     "traceback": [
      "\u001b[0;31m---------------------------------------------------------------------------\u001b[0m",
      "\u001b[0;31mKeyboardInterrupt\u001b[0m                         Traceback (most recent call last)",
      "\u001b[0;32m<ipython-input-89-31067b1ba487>\u001b[0m in \u001b[0;36m<module>\u001b[0;34m\u001b[0m\n\u001b[0;32m----> 1\u001b[0;31m \u001b[0mw2v\u001b[0m\u001b[0;34m.\u001b[0m\u001b[0mtrain_with_loader\u001b[0m\u001b[0;34m(\u001b[0m\u001b[0;34m)\u001b[0m\u001b[0;34m\u001b[0m\u001b[0;34m\u001b[0m\u001b[0m\n\u001b[0m",
      "\u001b[0;32m<ipython-input-87-14f02b4fd312>\u001b[0m in \u001b[0;36mtrain_with_loader\u001b[0;34m(self, save_embedding)\u001b[0m\n\u001b[1;32m     50\u001b[0m                 \u001b[0mpos_v\u001b[0m \u001b[0;34m=\u001b[0m \u001b[0mpos_v\u001b[0m\u001b[0;34m.\u001b[0m\u001b[0mview\u001b[0m\u001b[0;34m(\u001b[0m\u001b[0mlen\u001b[0m\u001b[0;34m(\u001b[0m\u001b[0mneg_v\u001b[0m\u001b[0;34m)\u001b[0m\u001b[0;34m,\u001b[0m\u001b[0;34m-\u001b[0m\u001b[0;36m1\u001b[0m\u001b[0;34m)\u001b[0m\u001b[0;34m\u001b[0m\u001b[0;34m\u001b[0m\u001b[0m\n\u001b[1;32m     51\u001b[0m                 \u001b[0mself\u001b[0m\u001b[0;34m.\u001b[0m\u001b[0moptimizer\u001b[0m\u001b[0;34m.\u001b[0m\u001b[0mzero_grad\u001b[0m\u001b[0;34m(\u001b[0m\u001b[0;34m)\u001b[0m\u001b[0;34m\u001b[0m\u001b[0;34m\u001b[0m\u001b[0m\n\u001b[0;32m---> 52\u001b[0;31m                 \u001b[0mloss\u001b[0m \u001b[0;34m=\u001b[0m \u001b[0mself\u001b[0m\u001b[0;34m.\u001b[0m\u001b[0mmodel\u001b[0m\u001b[0;34m.\u001b[0m\u001b[0mforward\u001b[0m\u001b[0;34m(\u001b[0m\u001b[0mpos_u\u001b[0m\u001b[0;34m,\u001b[0m\u001b[0mpos_v\u001b[0m\u001b[0;34m,\u001b[0m\u001b[0mneg_v\u001b[0m\u001b[0;34m)\u001b[0m\u001b[0;34m\u001b[0m\u001b[0;34m\u001b[0m\u001b[0m\n\u001b[0m\u001b[1;32m     53\u001b[0m                 \u001b[0mcum_loss\u001b[0m \u001b[0;34m+=\u001b[0m \u001b[0mloss\u001b[0m\u001b[0;34m\u001b[0m\u001b[0;34m\u001b[0m\u001b[0m\n\u001b[1;32m     54\u001b[0m                 \u001b[0mloss\u001b[0m\u001b[0;34m.\u001b[0m\u001b[0mbackward\u001b[0m\u001b[0;34m(\u001b[0m\u001b[0;34m)\u001b[0m\u001b[0;34m\u001b[0m\u001b[0;34m\u001b[0m\u001b[0m\n",
      "\u001b[0;32m<ipython-input-26-caf058025281>\u001b[0m in \u001b[0;36mforward\u001b[0;34m(self, pos_u, pos_v, neg_v)\u001b[0m\n\u001b[1;32m     33\u001b[0m         \u001b[0msamples\u001b[0m \u001b[0;34m=\u001b[0m \u001b[0mtorch\u001b[0m\u001b[0;34m.\u001b[0m\u001b[0mcat\u001b[0m\u001b[0;34m(\u001b[0m\u001b[0;34m[\u001b[0m\u001b[0mpos_v\u001b[0m\u001b[0;34m,\u001b[0m\u001b[0mVariable\u001b[0m\u001b[0;34m(\u001b[0m\u001b[0mneg_v\u001b[0m\u001b[0;34m)\u001b[0m\u001b[0;34m]\u001b[0m\u001b[0;34m,\u001b[0m\u001b[0;36m1\u001b[0m\u001b[0;34m)\u001b[0m\u001b[0;34m\u001b[0m\u001b[0;34m\u001b[0m\u001b[0m\n\u001b[1;32m     34\u001b[0m         \u001b[0memb_v\u001b[0m \u001b[0;34m=\u001b[0m \u001b[0mself\u001b[0m\u001b[0;34m.\u001b[0m\u001b[0mv_embeddings\u001b[0m\u001b[0;34m(\u001b[0m\u001b[0msamples\u001b[0m\u001b[0;34m)\u001b[0m\u001b[0;34m\u001b[0m\u001b[0;34m\u001b[0m\u001b[0m\n\u001b[0;32m---> 35\u001b[0;31m         \u001b[0mscore\u001b[0m \u001b[0;34m=\u001b[0m \u001b[0mtorch\u001b[0m\u001b[0;34m.\u001b[0m\u001b[0mbmm\u001b[0m\u001b[0;34m(\u001b[0m\u001b[0memb_v\u001b[0m\u001b[0;34m,\u001b[0m \u001b[0memb_u\u001b[0m\u001b[0;34m.\u001b[0m\u001b[0munsqueeze\u001b[0m\u001b[0;34m(\u001b[0m\u001b[0;36m2\u001b[0m\u001b[0;34m)\u001b[0m\u001b[0;34m)\u001b[0m\u001b[0;34m.\u001b[0m\u001b[0msqueeze\u001b[0m\u001b[0;34m(\u001b[0m\u001b[0;34m)\u001b[0m\u001b[0;34m\u001b[0m\u001b[0;34m\u001b[0m\u001b[0m\n\u001b[0m\u001b[1;32m     36\u001b[0m         \u001b[0mscore\u001b[0m\u001b[0;34m[\u001b[0m\u001b[0;34m:\u001b[0m\u001b[0;34m,\u001b[0m\u001b[0;36m1\u001b[0m\u001b[0;34m:\u001b[0m\u001b[0;34m]\u001b[0m\u001b[0;34m=\u001b[0m\u001b[0mscore\u001b[0m\u001b[0;34m[\u001b[0m\u001b[0;34m:\u001b[0m\u001b[0;34m,\u001b[0m\u001b[0;36m1\u001b[0m\u001b[0;34m:\u001b[0m\u001b[0;34m]\u001b[0m\u001b[0;34m.\u001b[0m\u001b[0mneg\u001b[0m\u001b[0;34m(\u001b[0m\u001b[0;34m)\u001b[0m\u001b[0;34m\u001b[0m\u001b[0;34m\u001b[0m\u001b[0m\n\u001b[1;32m     37\u001b[0m         \u001b[0mscore\u001b[0m \u001b[0;34m=\u001b[0m \u001b[0mF\u001b[0m\u001b[0;34m.\u001b[0m\u001b[0mlogsigmoid\u001b[0m\u001b[0;34m(\u001b[0m\u001b[0mscore\u001b[0m\u001b[0;34m)\u001b[0m\u001b[0;34m\u001b[0m\u001b[0;34m\u001b[0m\u001b[0m\n",
      "\u001b[0;31mKeyboardInterrupt\u001b[0m: "
     ]
    }
   ],
   "source": [
    "l_rho = [0.9,0.85,0.8,0.95]\n",
    "for rho in l_rho:\n",
    "    w2v = W2V(text8_wDataset, rho=rho)\n",
    "    w2v.train_with_loader()"
   ]
  },
  {
   "cell_type": "markdown",
   "metadata": {},
   "source": [
    "### EVALUATION"
   ]
  },
  {
   "cell_type": "code",
   "execution_count": 32,
   "metadata": {},
   "outputs": [
    {
     "ename": "ImportError",
     "evalue": "No module named 'torch'",
     "output_type": "error",
     "traceback": [
      "\u001b[0;31m---------------------------------------------------------------------------\u001b[0m",
      "\u001b[0;31mImportError\u001b[0m                               Traceback (most recent call last)",
      "\u001b[0;32m<ipython-input-32-e901cb14a9bd>\u001b[0m in \u001b[0;36m<module>\u001b[0;34m\u001b[0m\n\u001b[1;32m      1\u001b[0m \u001b[0;32mimport\u001b[0m \u001b[0mpickle\u001b[0m\u001b[0;34m\u001b[0m\u001b[0m\n\u001b[0;32m----> 2\u001b[0;31m \u001b[0;32mimport\u001b[0m \u001b[0mtorch\u001b[0m\u001b[0;34m\u001b[0m\u001b[0m\n\u001b[0m\u001b[1;32m      3\u001b[0m \u001b[0;32mwith\u001b[0m \u001b[0mopen\u001b[0m\u001b[0;34m(\u001b[0m\u001b[0;34m\"dict_emb_w2vbs7000_neg7_dim100_epochs20_ctxw10_alpha0-075decayhalf.pkl\"\u001b[0m\u001b[0;34m,\u001b[0m \u001b[0;34m'rb'\u001b[0m\u001b[0;34m)\u001b[0m \u001b[0;32mas\u001b[0m \u001b[0moutput\u001b[0m\u001b[0;34m:\u001b[0m\u001b[0;34m\u001b[0m\u001b[0m\n\u001b[1;32m      4\u001b[0m         \u001b[0mdict_emb\u001b[0m \u001b[0;34m=\u001b[0m \u001b[0mpickle\u001b[0m\u001b[0;34m.\u001b[0m\u001b[0mload\u001b[0m\u001b[0;34m(\u001b[0m\u001b[0moutput\u001b[0m\u001b[0;34m)\u001b[0m\u001b[0;34m\u001b[0m\u001b[0m\n",
      "\u001b[0;31mImportError\u001b[0m: No module named 'torch'"
     ]
    }
   ],
   "source": [
    "import pickle\n",
    "import torch\n",
    "with open(\"dict_emb_w2vbs7000_neg7_dim100_epochs20_ctxw10_alpha0-075decayhalf.pkl\", 'rb') as output:\n",
    "        dict_emb = pickle.load(output)"
   ]
  },
  {
   "cell_type": "code",
   "execution_count": 57,
   "metadata": {},
   "outputs": [
    {
     "name": "stdout",
     "output_type": "stream",
     "text": [
      "0.30364346504211426\n",
      "0.45958149433135986\n"
     ]
    },
    {
     "data": {
      "text/plain": [
       "0.5577877461910248"
      ]
     },
     "execution_count": 57,
     "metadata": {},
     "output_type": "execute_result"
    }
   ],
   "source": [
    "from scipy import spatial\n",
    "\n",
    "x = spatial.distance.cosine(gensim_emb['love'], gensim_emb['music'])\n",
    "y = spatial.distance.cosine(gensim_emb['anarchism'],gensim_emb['music'])\n",
    "z = spatial.distance.cosine(gensim_emb['revolution'],gensim_emb['creatine'])\n",
    "\n",
    "l = ['music','anarchism','revolution','philosophy','creatine']\n",
    "print(x)\n",
    "print(y)\n",
    "z"
   ]
  },
  {
   "cell_type": "code",
   "execution_count": 10,
   "metadata": {},
   "outputs": [
    {
     "data": {
      "text/plain": [
       "[tensor(5.5450, requires_grad=True),\n",
       " tensor(5.5439, requires_grad=True),\n",
       " tensor(5.5429, requires_grad=True),\n",
       " tensor(5.5426, requires_grad=True),\n",
       " tensor(5.5412, requires_grad=True),\n",
       " tensor(5.5425, requires_grad=True),\n",
       " tensor(5.5414, requires_grad=True),\n",
       " tensor(5.5402, requires_grad=True),\n",
       " tensor(5.5409, requires_grad=True),\n",
       " tensor(5.5391, requires_grad=True),\n",
       " tensor(5.5376, requires_grad=True),\n",
       " tensor(5.5360, requires_grad=True),\n",
       " tensor(5.5368, requires_grad=True),\n",
       " tensor(5.5365, requires_grad=True),\n",
       " tensor(5.5357, requires_grad=True),\n",
       " tensor(5.5351, requires_grad=True),\n",
       " tensor(5.5354, requires_grad=True),\n",
       " tensor(5.5333, requires_grad=True),\n",
       " tensor(5.5336, requires_grad=True)]"
      ]
     },
     "execution_count": 10,
     "metadata": {},
     "output_type": "execute_result"
    }
   ],
   "source": [
    "dict_emb.pop('loss_list')"
   ]
  },
  {
   "cell_type": "code",
   "execution_count": 59,
   "metadata": {},
   "outputs": [],
   "source": [
    "gensim_emb = dict()\n",
    "for sentences in text8_dataset:\n",
    "    for word in sentences:\n",
    "        gensim_emb[word] = model.wv[word]"
   ]
  },
  {
   "cell_type": "code",
   "execution_count": 1,
   "metadata": {},
   "outputs": [],
   "source": [
    "from gensim.models.callbacks import CallbackAny2Vec\n",
    "from gensim.models import Word2Vec\n",
    "\n",
    "\n",
    "class EpochLogger(CallbackAny2Vec):\n",
    "    def __init__(self):\n",
    "        self.epoch = 0\n",
    "        self.cum_loss = 0\n",
    "        self.processed_batches = 0\n",
    "\n",
    "\n",
    "    def on_epoch_end(self, model):\n",
    "        avg_loss = self.cum_loss/self.processed_batches\n",
    "        print(\"Epoch #{} end: avg_loss={}\".format(self.epoch,avg_loss))\n",
    "        self.epoch += 1\n",
    "    \n",
    "    def on_batch_end(self, model):\n",
    "        \"\"\"Method called at the end of each batch.\n",
    "        Parameters\n",
    "        ----------\n",
    "        model : :class:`~gensim.models.base_any2vec.BaseWordEmbeddingsModel`\n",
    "            Current model.\n",
    "        \"\"\"\n",
    "        self.cum_loss += model.get_latest_training_loss()\n",
    "        self.processed_batches +=1\n",
    "        \n"
   ]
  },
  {
   "cell_type": "code",
   "execution_count": 23,
   "metadata": {},
   "outputs": [],
   "source": [
    "def get_distances(word):\n",
    "    for x in dict_emb.keys():\n",
    "        yield(x, spatial.distance.cosine(dict_emb[word],dict_emb[x]))"
   ]
  },
  {
   "cell_type": "code",
   "execution_count": 54,
   "metadata": {},
   "outputs": [
    {
     "ename": "RuntimeError",
     "evalue": "Can't call numpy() on Variable that requires grad. Use var.detach().numpy() instead.",
     "output_type": "error",
     "traceback": [
      "\u001b[0;31m---------------------------------------------------------------------------\u001b[0m",
      "\u001b[0;31mRuntimeError\u001b[0m                              Traceback (most recent call last)",
      "\u001b[0;32m<ipython-input-54-0927695588b9>\u001b[0m in \u001b[0;36m<module>\u001b[0;34m\u001b[0m\n\u001b[0;32m----> 1\u001b[0;31m \u001b[0mn_dict_emb\u001b[0m \u001b[0;34m=\u001b[0m \u001b[0;34m{\u001b[0m\u001b[0;34m(\u001b[0m\u001b[0mword\u001b[0m\u001b[0;34m)\u001b[0m\u001b[0;34m:\u001b[0m \u001b[0;34m(\u001b[0m\u001b[0mx\u001b[0m \u001b[0;34m/\u001b[0m \u001b[0mnp\u001b[0m\u001b[0;34m.\u001b[0m\u001b[0mlinalg\u001b[0m\u001b[0;34m.\u001b[0m\u001b[0mnorm\u001b[0m\u001b[0;34m(\u001b[0m\u001b[0mx\u001b[0m\u001b[0;34m)\u001b[0m\u001b[0;34m)\u001b[0m \u001b[0;32mfor\u001b[0m \u001b[0;34m(\u001b[0m\u001b[0mword\u001b[0m\u001b[0;34m,\u001b[0m \u001b[0mx\u001b[0m\u001b[0;34m)\u001b[0m \u001b[0;32min\u001b[0m \u001b[0;34m(\u001b[0m\u001b[0mdict_emb\u001b[0m\u001b[0;34m.\u001b[0m\u001b[0mitems\u001b[0m\u001b[0;34m(\u001b[0m\u001b[0;34m)\u001b[0m\u001b[0;34m)\u001b[0m\u001b[0;34m}\u001b[0m\u001b[0;34m\u001b[0m\u001b[0;34m\u001b[0m\u001b[0m\n\u001b[0m\u001b[1;32m      2\u001b[0m \u001b[0mn_dict_emb_gensim\u001b[0m \u001b[0;34m=\u001b[0m \u001b[0;34m{\u001b[0m\u001b[0;34m(\u001b[0m\u001b[0mword\u001b[0m\u001b[0;34m)\u001b[0m\u001b[0;34m:\u001b[0m \u001b[0;34m(\u001b[0m\u001b[0mx\u001b[0m \u001b[0;34m/\u001b[0m \u001b[0mnp\u001b[0m\u001b[0;34m.\u001b[0m\u001b[0mlinalg\u001b[0m\u001b[0;34m.\u001b[0m\u001b[0mnorm\u001b[0m\u001b[0;34m(\u001b[0m\u001b[0mx\u001b[0m\u001b[0;34m)\u001b[0m\u001b[0;34m)\u001b[0m \u001b[0;32mfor\u001b[0m \u001b[0;34m(\u001b[0m\u001b[0mword\u001b[0m\u001b[0;34m,\u001b[0m \u001b[0mx\u001b[0m\u001b[0;34m)\u001b[0m \u001b[0;32min\u001b[0m \u001b[0;34m(\u001b[0m\u001b[0mgensim_emb\u001b[0m\u001b[0;34m.\u001b[0m\u001b[0mitems\u001b[0m\u001b[0;34m(\u001b[0m\u001b[0;34m)\u001b[0m\u001b[0;34m)\u001b[0m\u001b[0;34m}\u001b[0m\u001b[0;34m\u001b[0m\u001b[0;34m\u001b[0m\u001b[0m\n",
      "\u001b[0;32m<ipython-input-54-0927695588b9>\u001b[0m in \u001b[0;36m<dictcomp>\u001b[0;34m(.0)\u001b[0m\n\u001b[0;32m----> 1\u001b[0;31m \u001b[0mn_dict_emb\u001b[0m \u001b[0;34m=\u001b[0m \u001b[0;34m{\u001b[0m\u001b[0;34m(\u001b[0m\u001b[0mword\u001b[0m\u001b[0;34m)\u001b[0m\u001b[0;34m:\u001b[0m \u001b[0;34m(\u001b[0m\u001b[0mx\u001b[0m \u001b[0;34m/\u001b[0m \u001b[0mnp\u001b[0m\u001b[0;34m.\u001b[0m\u001b[0mlinalg\u001b[0m\u001b[0;34m.\u001b[0m\u001b[0mnorm\u001b[0m\u001b[0;34m(\u001b[0m\u001b[0mx\u001b[0m\u001b[0;34m)\u001b[0m\u001b[0;34m)\u001b[0m \u001b[0;32mfor\u001b[0m \u001b[0;34m(\u001b[0m\u001b[0mword\u001b[0m\u001b[0;34m,\u001b[0m \u001b[0mx\u001b[0m\u001b[0;34m)\u001b[0m \u001b[0;32min\u001b[0m \u001b[0;34m(\u001b[0m\u001b[0mdict_emb\u001b[0m\u001b[0;34m.\u001b[0m\u001b[0mitems\u001b[0m\u001b[0;34m(\u001b[0m\u001b[0;34m)\u001b[0m\u001b[0;34m)\u001b[0m\u001b[0;34m}\u001b[0m\u001b[0;34m\u001b[0m\u001b[0;34m\u001b[0m\u001b[0m\n\u001b[0m\u001b[1;32m      2\u001b[0m \u001b[0mn_dict_emb_gensim\u001b[0m \u001b[0;34m=\u001b[0m \u001b[0;34m{\u001b[0m\u001b[0;34m(\u001b[0m\u001b[0mword\u001b[0m\u001b[0;34m)\u001b[0m\u001b[0;34m:\u001b[0m \u001b[0;34m(\u001b[0m\u001b[0mx\u001b[0m \u001b[0;34m/\u001b[0m \u001b[0mnp\u001b[0m\u001b[0;34m.\u001b[0m\u001b[0mlinalg\u001b[0m\u001b[0;34m.\u001b[0m\u001b[0mnorm\u001b[0m\u001b[0;34m(\u001b[0m\u001b[0mx\u001b[0m\u001b[0;34m)\u001b[0m\u001b[0;34m)\u001b[0m \u001b[0;32mfor\u001b[0m \u001b[0;34m(\u001b[0m\u001b[0mword\u001b[0m\u001b[0;34m,\u001b[0m \u001b[0mx\u001b[0m\u001b[0;34m)\u001b[0m \u001b[0;32min\u001b[0m \u001b[0;34m(\u001b[0m\u001b[0mgensim_emb\u001b[0m\u001b[0;34m.\u001b[0m\u001b[0mitems\u001b[0m\u001b[0;34m(\u001b[0m\u001b[0;34m)\u001b[0m\u001b[0;34m)\u001b[0m\u001b[0;34m}\u001b[0m\u001b[0;34m\u001b[0m\u001b[0;34m\u001b[0m\u001b[0m\n",
      "\u001b[0;32m/usr/lib/python3.7/site-packages/numpy/linalg/linalg.py\u001b[0m in \u001b[0;36mnorm\u001b[0;34m(x, ord, axis, keepdims)\u001b[0m\n\u001b[1;32m   2449\u001b[0m             \u001b[0;32melse\u001b[0m\u001b[0;34m:\u001b[0m\u001b[0;34m\u001b[0m\u001b[0;34m\u001b[0m\u001b[0m\n\u001b[1;32m   2450\u001b[0m                 \u001b[0msqnorm\u001b[0m \u001b[0;34m=\u001b[0m \u001b[0mdot\u001b[0m\u001b[0;34m(\u001b[0m\u001b[0mx\u001b[0m\u001b[0;34m,\u001b[0m \u001b[0mx\u001b[0m\u001b[0;34m)\u001b[0m\u001b[0;34m\u001b[0m\u001b[0;34m\u001b[0m\u001b[0m\n\u001b[0;32m-> 2451\u001b[0;31m             \u001b[0mret\u001b[0m \u001b[0;34m=\u001b[0m \u001b[0msqrt\u001b[0m\u001b[0;34m(\u001b[0m\u001b[0msqnorm\u001b[0m\u001b[0;34m)\u001b[0m\u001b[0;34m\u001b[0m\u001b[0;34m\u001b[0m\u001b[0m\n\u001b[0m\u001b[1;32m   2452\u001b[0m             \u001b[0;32mif\u001b[0m \u001b[0mkeepdims\u001b[0m\u001b[0;34m:\u001b[0m\u001b[0;34m\u001b[0m\u001b[0;34m\u001b[0m\u001b[0m\n\u001b[1;32m   2453\u001b[0m                 \u001b[0mret\u001b[0m \u001b[0;34m=\u001b[0m \u001b[0mret\u001b[0m\u001b[0;34m.\u001b[0m\u001b[0mreshape\u001b[0m\u001b[0;34m(\u001b[0m\u001b[0mndim\u001b[0m\u001b[0;34m*\u001b[0m\u001b[0;34m[\u001b[0m\u001b[0;36m1\u001b[0m\u001b[0;34m]\u001b[0m\u001b[0;34m)\u001b[0m\u001b[0;34m\u001b[0m\u001b[0;34m\u001b[0m\u001b[0m\n",
      "\u001b[0;32m/usr/lib/python3.7/site-packages/torch/tensor.py\u001b[0m in \u001b[0;36m__array__\u001b[0;34m(self, dtype)\u001b[0m\n\u001b[1;32m    448\u001b[0m     \u001b[0;32mdef\u001b[0m \u001b[0m__array__\u001b[0m\u001b[0;34m(\u001b[0m\u001b[0mself\u001b[0m\u001b[0;34m,\u001b[0m \u001b[0mdtype\u001b[0m\u001b[0;34m=\u001b[0m\u001b[0;32mNone\u001b[0m\u001b[0;34m)\u001b[0m\u001b[0;34m:\u001b[0m\u001b[0;34m\u001b[0m\u001b[0;34m\u001b[0m\u001b[0m\n\u001b[1;32m    449\u001b[0m         \u001b[0;32mif\u001b[0m \u001b[0mdtype\u001b[0m \u001b[0;32mis\u001b[0m \u001b[0;32mNone\u001b[0m\u001b[0;34m:\u001b[0m\u001b[0;34m\u001b[0m\u001b[0;34m\u001b[0m\u001b[0m\n\u001b[0;32m--> 450\u001b[0;31m             \u001b[0;32mreturn\u001b[0m \u001b[0mself\u001b[0m\u001b[0;34m.\u001b[0m\u001b[0mnumpy\u001b[0m\u001b[0;34m(\u001b[0m\u001b[0;34m)\u001b[0m\u001b[0;34m\u001b[0m\u001b[0;34m\u001b[0m\u001b[0m\n\u001b[0m\u001b[1;32m    451\u001b[0m         \u001b[0;32melse\u001b[0m\u001b[0;34m:\u001b[0m\u001b[0;34m\u001b[0m\u001b[0;34m\u001b[0m\u001b[0m\n\u001b[1;32m    452\u001b[0m             \u001b[0;32mreturn\u001b[0m \u001b[0mself\u001b[0m\u001b[0;34m.\u001b[0m\u001b[0mnumpy\u001b[0m\u001b[0;34m(\u001b[0m\u001b[0;34m)\u001b[0m\u001b[0;34m.\u001b[0m\u001b[0mastype\u001b[0m\u001b[0;34m(\u001b[0m\u001b[0mdtype\u001b[0m\u001b[0;34m,\u001b[0m \u001b[0mcopy\u001b[0m\u001b[0;34m=\u001b[0m\u001b[0;32mFalse\u001b[0m\u001b[0;34m)\u001b[0m\u001b[0;34m\u001b[0m\u001b[0;34m\u001b[0m\u001b[0m\n",
      "\u001b[0;31mRuntimeError\u001b[0m: Can't call numpy() on Variable that requires grad. Use var.detach().numpy() instead."
     ]
    }
   ],
   "source": [
    "n_dict_emb = {(word): (x / np.linalg.norm(x)) for (word, x) in (dict_emb.items())}\n",
    "n_dict_emb_gensim = {(word): (x / np.linalg.norm(x)) for (word, x) in (gensim_emb.items())}"
   ]
  },
  {
   "cell_type": "markdown",
   "metadata": {},
   "source": [
    "### ANALOGY TASK"
   ]
  },
  {
   "cell_type": "code",
   "execution_count": null,
   "metadata": {},
   "outputs": [],
   "source": [
    "file = open(\"./data/questions-words.txt\")\n",
    "questions = file.readlines()\n",
    "qeustions_vocab = set()\n",
    "for i,x in enumerate(questions): \n",
    "    questions[i] = x.rstrip(\"\\n\").split()\n",
    "    if x[0]==':':\n",
    "        del questions[i]\n",
    "    else: \n",
    "        for word in x:\n",
    "            questions_vocab.add(y)\n",
    "\n"
   ]
  },
  {
   "cell_type": "code",
   "execution_count": 2,
   "metadata": {},
   "outputs": [],
   "source": [
    "def read_in_chunks(file_object, chunk_size=1024):\n",
    "    \"\"\"Lazy function (generator) to read a file piece by piece.\n",
    "    Default chunk size: 1k.\"\"\"\n",
    "    while True:\n",
    "        data = file_object.read(chunk_size)\n",
    "        if not data:\n",
    "            break\n",
    "        yield data\n"
   ]
  },
  {
   "cell_type": "code",
   "execution_count": 3,
   "metadata": {},
   "outputs": [],
   "source": [
    "file = open(\"./data/enwik9\")\n",
    "enwik9 = read_in_chunks(file)\n",
    "l = []\n",
    "for x in enwik9:\n",
    "    l.append(x)\n",
    "\n"
   ]
  },
  {
   "cell_type": "code",
   "execution_count": null,
   "metadata": {},
   "outputs": [],
   "source": [
    "#TODO: logging, save loss, batch_size\n",
    "epoch_logger = EpochLogger()\n",
    "model = Word2Vec(l, size=100,window=5,negative=10, alpha=0.01, min_count=5, workers=4,sg=1, callbacks=[epoch_logger],compute_loss=True)\n"
   ]
  },
  {
   "cell_type": "code",
   "execution_count": 19,
   "metadata": {},
   "outputs": [],
   "source": [
    "def analogy_task(questions,dict_emb):\n",
    "    score = []\n",
    "    if all(word in dict_emb for word in questions):\n",
    "        y = dict_emb[questions[0]] -  dict_emb[questions[1]] +  dict_emb[questions[2]]\n",
    "        x = get_closest_with_score(dict_emb,y)\n",
    "        if x == questions[3]:\n",
    "            score.append(1)\n",
    "        else: \n",
    "            score.append(0)\n",
    "    return score\n",
    "        "
   ]
  },
  {
   "cell_type": "code",
   "execution_count": 31,
   "metadata": {},
   "outputs": [],
   "source": [
    "import numpy as np\n",
    "# TODO: calculate closest only for a given set of words to get faster computation for analogy task\n",
    "def calculate_sim(dict_emb): \n",
    "    # Create dictionnary with id for every word, this is needed because sometimes we only have access to the dict_emb\n",
    "    # and not the whole model \n",
    "    idx2word = {idx: w for (idx, w) in enumerate(dict_emb.keys())}\n",
    "    word2idx = {w: idx for (idx, w) in enumerate(dict_emb.keys())}\n",
    "    \n",
    "    emb_size = len(next(iter(dict_emb.values())))\n",
    "    \n",
    "    # Create an embedding dictionnary with normalized vectors\n",
    "    normalized_dict_emb = {(word): (x / np.linalg.norm(x)) for (word, x) in (dict_emb.items())}\n",
    "    \n",
    "    # Create an vocab_size*emb_size Matrix that holds the normalized embeding of each word in it's row called matrix_row\n",
    "    # Create an emb_size*vocab_size Matrix that holds the normalized embeding of each word in it's colomn  matrix_colomn\n",
    "    for i in range(0,len(dict_emb.keys())):\n",
    "        y = normalized_dict_emb[idx2word[i]]\n",
    "        if i ==0:\n",
    "            matrix_colomn = torch.tensor(y).view(emb_size,1)\n",
    "            matrix_row = torch.tensor(y)\n",
    "        else:\n",
    "            matrix_colomn = torch.cat([matrix_colomn,torch.tensor(y).view(emb_size,1)],1)\n",
    "            matrix_row = torch.cat([matrix_row,torch.tensor(y)])\n",
    "    \n",
    "    matrix_row = matrix_row.view(-1,emb_size)\n",
    "    \n",
    "    matrix_row = matrix_row.to(device)\n",
    "    matrix_colomn = matrix_colomn.to(device)\n",
    "    \n",
    "    return 1-(torch.matmul(matrix_row,matrix_colomn)),word2idx\n",
    "\n",
    "\n",
    "\n",
    "\n",
    "\n",
    "\n",
    "    "
   ]
  },
  {
   "cell_type": "code",
   "execution_count": 221,
   "metadata": {},
   "outputs": [],
   "source": [
    "import random\n",
    "def get_closest(score_dict, word):\n",
    "    closest = ()\n",
    "    distance = 3\n",
    "    for (x,y),score in score_dict.items():\n",
    "        #print(x,y,score)\n",
    "        if((x != y) and ((x==word)or(y==word))):\n",
    "            if (distance > score):\n",
    "                closest = (x,y)\n",
    "                distance = score\n",
    "    return closest\n",
    "\n",
    "def get_closest_with_score(dict_emb,y):\n",
    "    distance = 100\n",
    "    for x,emb in dict_emb.items():\n",
    "        if(spatial.distance.cosine(dict_emb[x], dict_emb[y])<distance):\n",
    "            closest = x\n",
    "    return x\n",
    "        "
   ]
  },
  {
   "cell_type": "markdown",
   "metadata": {},
   "source": [
    "### Visualization of the Data"
   ]
  },
  {
   "cell_type": "code",
   "execution_count": 281,
   "metadata": {},
   "outputs": [],
   "source": [
    "import os\n",
    "list_of_files = []\n",
    "for file in os.listdir(\"/home/c3dric/model/todo\"):\n",
    "        list_of_files.append(file)\n"
   ]
  },
  {
   "cell_type": "code",
   "execution_count": 282,
   "metadata": {
    "scrolled": true
   },
   "outputs": [],
   "source": [
    "list_of_files.remove('.ipynb_checkpoints')"
   ]
  },
  {
   "cell_type": "code",
   "execution_count": 283,
   "metadata": {
    "scrolled": true
   },
   "outputs": [],
   "source": [
    "import pickle\n",
    "file_emb = []\n",
    "for file in list_of_files:\n",
    "    with open(\"/home/c3dric/model/todo/\" + file, 'rb') as output:\n",
    "        dict_emb = pickle.load(output)\n",
    "    file_emb.append((file, dict_emb['ws_score'], [float(x) for x in dict_emb['loss_list']]))"
   ]
  },
  {
   "cell_type": "code",
   "execution_count": 287,
   "metadata": {},
   "outputs": [
    {
     "name": "stderr",
     "output_type": "stream",
     "text": [
      "ERROR:root:Internal Python error in the inspect module.\n",
      "Below is the traceback from this internal error.\n",
      "\n"
     ]
    },
    {
     "name": "stdout",
     "output_type": "stream",
     "text": [
      "Traceback (most recent call last):\n",
      "  File \"/usr/lib/python3.7/site-packages/IPython/core/interactiveshell.py\", line 3291, in run_code\n",
      "    exec(code_obj, self.user_global_ns, self.user_ns)\n",
      "  File \"<ipython-input-287-1966ddd67d2a>\", line 1, in <module>\n",
      "    file_emb[3]\n",
      "IndexError: list index out of range\n",
      "\n",
      "During handling of the above exception, another exception occurred:\n",
      "\n",
      "Traceback (most recent call last):\n",
      "  File \"/usr/lib/python3.7/site-packages/IPython/core/interactiveshell.py\", line 2033, in showtraceback\n",
      "    stb = value._render_traceback_()\n",
      "AttributeError: 'IndexError' object has no attribute '_render_traceback_'\n",
      "\n",
      "During handling of the above exception, another exception occurred:\n",
      "\n",
      "Traceback (most recent call last):\n",
      "  File \"/usr/lib/python3.7/site-packages/IPython/core/ultratb.py\", line 1095, in get_records\n",
      "    return _fixed_getinnerframes(etb, number_of_lines_of_context, tb_offset)\n",
      "  File \"/usr/lib/python3.7/site-packages/IPython/core/ultratb.py\", line 313, in wrapped\n",
      "    return f(*args, **kwargs)\n",
      "  File \"/usr/lib/python3.7/site-packages/IPython/core/ultratb.py\", line 347, in _fixed_getinnerframes\n",
      "    records = fix_frame_records_filenames(inspect.getinnerframes(etb, context))\n",
      "  File \"/usr/lib/python3.7/inspect.py\", line 1502, in getinnerframes\n",
      "    frameinfo = (tb.tb_frame,) + getframeinfo(tb, context)\n",
      "  File \"/usr/lib/python3.7/inspect.py\", line 1460, in getframeinfo\n",
      "    filename = getsourcefile(frame) or getfile(frame)\n",
      "  File \"/usr/lib/python3.7/inspect.py\", line 696, in getsourcefile\n",
      "    if getattr(getmodule(object, filename), '__loader__', None) is not None:\n",
      "  File \"/usr/lib/python3.7/inspect.py\", line 725, in getmodule\n",
      "    file = getabsfile(object, _filename)\n",
      "  File \"/usr/lib/python3.7/inspect.py\", line 709, in getabsfile\n",
      "    return os.path.normcase(os.path.abspath(_filename))\n",
      "  File \"/usr/lib/python3.7/posixpath.py\", line 383, in abspath\n",
      "    cwd = os.getcwd()\n",
      "FileNotFoundError: [Errno 2] No such file or directory\n"
     ]
    },
    {
     "ename": "IndexError",
     "evalue": "list index out of range",
     "output_type": "error",
     "traceback": [
      "\u001b[0;31m---------------------------------------------------------------------------\u001b[0m"
     ]
    }
   ],
   "source": [
    "file_emb[3]"
   ]
  },
  {
   "cell_type": "code",
   "execution_count": 23,
   "metadata": {},
   "outputs": [],
   "source": [
    "with open(\"/home/c3dric/model/Adagrad/dict_emb_OptimAdagrad_momentum0_nesterovFalse_step_size1_gamma1_shuffleFalse_batch_size5000_alpha0.25_dim100_workers1_ctxw5_neg_samples10_use_cudaTrue_iterations20.pkl\", 'rb') as output:\n",
    "    dict_emb = pickle.load(output)"
   ]
  },
  {
   "cell_type": "code",
   "execution_count": 12,
   "metadata": {},
   "outputs": [],
   "source": [
    "## Taken from https://github.com/RaRe-Technologies/gensim/blob/develop/docs/notebooks/word2vec.ipynb##\n",
    "import logging\n",
    "from sklearn.decomposition import IncrementalPCA    # inital reduction\n",
    "from sklearn.manifold import TSNE                   # final reduction\n",
    "import numpy as np                                  # array handling\n",
    "\n",
    "from plotly.offline import init_notebook_mode, iplot, plot\n",
    "import plotly.graph_objs as go\n",
    "\n",
    "def reduce_dimensions(model,vocab, vocab_plot, plot_in_notebook = True):\n",
    "\n",
    "    num_dimensions = 2  # final num dimensions (2D, 3D, etc)\n",
    "\n",
    "    vectors = []        # positions in vector space\n",
    "    labels = []         # keep track of words to label our data again later\n",
    "    for word in vocab:\n",
    "        vectors.append(model[word])\n",
    "        labels.append(word)\n",
    "        \n",
    "    \n",
    "    # convert both lists into numpy vectors for reduction\n",
    "    vectors = np.asarray(vectors)\n",
    "    labels = np.asarray(labels)\n",
    "    \n",
    "    # reduce using t-SNE\n",
    "    vectors = np.asarray(vectors)\n",
    "    logging.info('starting tSNE dimensionality reduction. This may take some time.')\n",
    "    tsne = TSNE(n_components=num_dimensions, random_state=0)\n",
    "    vectors = tsne.fit_transform(vectors)\n",
    "\n",
    "    \n",
    "    x_vals = [v[0] for i,v in enumerate(vectors) if labels[i] in vocab_plot]\n",
    "    y_vals = [v[1] for i,v in enumerate(vectors) if labels[i] in vocab_plot]\n",
    "        \n",
    "    # Create a trace\n",
    "    trace = go.Scatter(\n",
    "        x=x_vals,\n",
    "        y=y_vals,\n",
    "        mode='text',\n",
    "        text=labels\n",
    "        )\n",
    "    \n",
    "    data = [trace]\n",
    "    \n",
    "    logging.info('All done. Plotting.')\n",
    "    \n",
    "    if plot_in_notebook:\n",
    "        init_notebook_mode(connected=True)\n",
    "        iplot(data, filename='word-embedding-plot')\n",
    "    else:\n",
    "        plot(data, filename='word-embedding-plot.html')\n",
    "\n"
   ]
  },
  {
   "cell_type": "code",
   "execution_count": null,
   "metadata": {
    "scrolled": false
   },
   "outputs": [
    {
     "name": "stdout",
     "output_type": "stream",
     "text": [
      "['popcorn', 'fruit', 'eat', 'grocery', 'potato', 'seafood', 'butter', 'cabbage', 'drink', 'wine', 'brandy', 'vodka', 'oil', 'grocery', 'cucumber', 'wine']\n",
      "['card', 'luxury', 'gem', 'investor', 'rading', 'earning', 'insuracnce,', 'dividend', 'profit', 'wealth', 'market', 'stock', 'payment', 'money']\n"
     ]
    }
   ],
   "source": [
    "money_vocab = 'card luxury gem investor rading earning insuracnce, dividend profit wealth market stock payment money'.split(\" \")\n",
    "foods_vocab = \"popcorn fruit eat grocery potato seafood butter cabbage drink wine brandy vodka oil grocery cucumber wine \".split()\n",
    "print(foods_vocab)\n",
    "print(money_vocab)\n",
    "dict_emb.pop(\"time\")\n",
    "dict_emb.pop(\"loss_list\")\n",
    "    \n",
    "reduce_dimensions(dict_emb, dict_emb.keys(),money_vocab + foods_vocab)\n"
   ]
  },
  {
   "cell_type": "code",
   "execution_count": 30,
   "metadata": {},
   "outputs": [
    {
     "data": {
      "text/plain": [
       "<function matplotlib.pyplot.show(*args, **kw)>"
      ]
     },
     "execution_count": 30,
     "metadata": {},
     "output_type": "execute_result"
    },
    {
     "data": {
      "image/png": "[encoded data removed]",
      "text/plain": [
       "<Figure size 432x288 with 1 Axes>"
      ]
     },
     "metadata": {
      "needs_background": "light"
     },
     "output_type": "display_data"
    }
   ],
   "source": [
    "import math\n",
    "import matplotlib.pyplot as plt\n",
    "l = []\n",
    "for x in list_of_files:\n",
    "    with open(\"models/SGD/test/\" + x, 'rb') as output:\n",
    "            dict_emb = pickle.load(output)\n",
    "    if (x!= \"dict_emb_OptimSGD_momentum0_nesterovFalse_step_size1_gamma1_shuffleFalse_batch_size5000_alpha30_dim100_workers1_ctxw5_neg_samples10_use_cudaTrue_iterations20.pkl\"):\n",
    "        l.append([x/ 1000 for x in dict_emb['loss_list']])\n",
    "    \n",
    "for x in l:\n",
    "    plt.plot(x)\n",
    "plt.show"
   ]
  },
  {
   "cell_type": "code",
   "execution_count": 86,
   "metadata": {},
   "outputs": [
    {
     "ename": "AttributeError",
     "evalue": "'Figure' object has no attribute 'xticks'",
     "output_type": "error",
     "traceback": [
      "\u001b[0;31m---------------------------------------------------------------------------\u001b[0m",
      "\u001b[0;31mAttributeError\u001b[0m                            Traceback (most recent call last)",
      "\u001b[0;32m<ipython-input-86-dccadbf41d4a>\u001b[0m in \u001b[0;36m<module>\u001b[0;34m\u001b[0m\n\u001b[1;32m     13\u001b[0m \u001b[0msgd\u001b[0m\u001b[0;34m.\u001b[0m\u001b[0mplot\u001b[0m\u001b[0;34m(\u001b[0m\u001b[0;36m22\u001b[0m\u001b[0;34m,\u001b[0m\u001b[0;36m16\u001b[0m\u001b[0;34m,\u001b[0m \u001b[0;34m'ro'\u001b[0m\u001b[0;34m)\u001b[0m\u001b[0;34m\u001b[0m\u001b[0;34m\u001b[0m\u001b[0m\n\u001b[1;32m     14\u001b[0m \u001b[0;31m#fig.xscale('log', basex=2)\u001b[0m\u001b[0;34m\u001b[0m\u001b[0;34m\u001b[0m\u001b[0;34m\u001b[0m\u001b[0m\n\u001b[0;32m---> 15\u001b[0;31m \u001b[0mfig\u001b[0m\u001b[0;34m.\u001b[0m\u001b[0mxticks\u001b[0m\u001b[0;34m(\u001b[0m\u001b[0;34m[\u001b[0m\u001b[0;36m0.0001\u001b[0m\u001b[0;34m,\u001b[0m\u001b[0;36m0.001\u001b[0m\u001b[0;34m,\u001b[0m\u001b[0;36m0.01\u001b[0m\u001b[0;34m,\u001b[0m\u001b[0;36m0.1\u001b[0m\u001b[0;34m,\u001b[0m\u001b[0;36m1\u001b[0m\u001b[0;34m,\u001b[0m\u001b[0;36m10\u001b[0m\u001b[0;34m,\u001b[0m\u001b[0;36m100\u001b[0m\u001b[0;34m]\u001b[0m\u001b[0;34m)\u001b[0m\u001b[0;34m\u001b[0m\u001b[0;34m\u001b[0m\u001b[0m\n\u001b[0m\u001b[1;32m     16\u001b[0m \u001b[0mplt\u001b[0m\u001b[0;34m.\u001b[0m\u001b[0mshow\u001b[0m\u001b[0;34m(\u001b[0m\u001b[0;34m)\u001b[0m\u001b[0;34m\u001b[0m\u001b[0;34m\u001b[0m\u001b[0m\n",
      "\u001b[0;31mAttributeError\u001b[0m: 'Figure' object has no attribute 'xticks'"
     ]
    },
    {
     "data": {
      "image/png": "[encoded data removed]",
      "text/plain": [
       "<Figure size 432x288 with 1 Axes>"
      ]
     },
     "metadata": {
      "needs_background": "light"
     },
     "output_type": "display_data"
    }
   ],
   "source": [
    "import matplotlib.pyplot as plt\n",
    "tr_time_sgd = [30,30,30,25,24,21,20,27,30]\n",
    "lr_sgd      = [1,5,10,15,17.5,20,22.5,25,30]\n",
    "tr_time_adam = [30,25,27,30,30,30,30]\n",
    "lr_adam = [0.00025,0.0005,.00075,.001,.0025,0.005,0.1]\n",
    "assert( len(lr_sgd) == len(tr_time_sgd))\n",
    "fig = plt.figure()\n",
    "sgd = fig.add_subplot(111)\n",
    "#adam = fig.add_subplot(252)\n",
    "sgd.plot(lr_sgd,tr_time_sgd)\n",
    "#adam.plot(lr_adam,tr_time_adam)\n",
    "sgd.plot(20,17,'ro')\n",
    "sgd.plot(22,16, 'ro')\n",
    "#fig.xscale('log', basex=2)\n",
    "fig.xticks([0.0001,0.001,0.01,0.1,1,10,100])\n",
    "plt.show()"
   ]
  },
  {
   "cell_type": "code",
   "execution_count": 290,
   "metadata": {},
   "outputs": [
    {
     "name": "stdout",
     "output_type": "stream",
     "text": [
      "[0, 1, 2, 3, 4, 5, 6, 7, 8, 9, 10, 11, 12, 13, 14, 15, 16, 17, 18, 19, 20, 21]\n"
     ]
    },
    {
     "data": {
      "text/html": [
       "<script type=\"text/javascript\">window.PlotlyConfig = {MathJaxConfig: 'local'};</script><script type=\"text/javascript\">if (window.MathJax) {MathJax.Hub.Config({SVG: {font: \"STIX-Web\"}});}</script><script>requirejs.config({paths: { 'plotly': ['https://cdn.plot.ly/plotly-latest.min']},});if(!window._Plotly) {require(['plotly'],function(plotly) {window._Plotly=plotly;});}</script>"
      ],
      "text/vnd.plotly.v1+html": [
       "<script type=\"text/javascript\">window.PlotlyConfig = {MathJaxConfig: 'local'};</script><script type=\"text/javascript\">if (window.MathJax) {MathJax.Hub.Config({SVG: {font: \"STIX-Web\"}});}</script><script>requirejs.config({paths: { 'plotly': ['https://cdn.plot.ly/plotly-latest.min']},});if(!window._Plotly) {require(['plotly'],function(plotly) {window._Plotly=plotly;});}</script>"
      ]
     },
     "metadata": {},
     "output_type": "display_data"
    },
    {
     "name": "stderr",
     "output_type": "stream",
     "text": [
      "ERROR:root:Internal Python error in the inspect module.\n",
      "Below is the traceback from this internal error.\n",
      "\n"
     ]
    },
    {
     "name": "stdout",
     "output_type": "stream",
     "text": [
      "Traceback (most recent call last):\n",
      "  File \"/usr/lib/python3.7/site-packages/IPython/core/interactiveshell.py\", line 3291, in run_code\n",
      "    exec(code_obj, self.user_global_ns, self.user_ns)\n",
      "  File \"<ipython-input-290-5a96a4f51a4f>\", line 102, in <module>\n",
      "    plot(fig, filename='word-embedding-plot.html')\n",
      "  File \"/usr/lib/python3.7/site-packages/plotly/offline/offline.py\", line 721, in plot\n",
      "    with open(filename, 'w') as f:\n",
      "FileNotFoundError: [Errno 2] No such file or directory: 'word-embedding-plot.html'\n",
      "\n",
      "During handling of the above exception, another exception occurred:\n",
      "\n",
      "Traceback (most recent call last):\n",
      "  File \"/usr/lib/python3.7/site-packages/IPython/core/interactiveshell.py\", line 2033, in showtraceback\n",
      "    stb = value._render_traceback_()\n",
      "AttributeError: 'FileNotFoundError' object has no attribute '_render_traceback_'\n",
      "\n",
      "During handling of the above exception, another exception occurred:\n",
      "\n",
      "Traceback (most recent call last):\n",
      "  File \"/usr/lib/python3.7/site-packages/IPython/core/ultratb.py\", line 1095, in get_records\n",
      "    return _fixed_getinnerframes(etb, number_of_lines_of_context, tb_offset)\n",
      "  File \"/usr/lib/python3.7/site-packages/IPython/core/ultratb.py\", line 313, in wrapped\n",
      "    return f(*args, **kwargs)\n",
      "  File \"/usr/lib/python3.7/site-packages/IPython/core/ultratb.py\", line 347, in _fixed_getinnerframes\n",
      "    records = fix_frame_records_filenames(inspect.getinnerframes(etb, context))\n",
      "  File \"/usr/lib/python3.7/inspect.py\", line 1502, in getinnerframes\n",
      "    frameinfo = (tb.tb_frame,) + getframeinfo(tb, context)\n",
      "  File \"/usr/lib/python3.7/inspect.py\", line 1460, in getframeinfo\n",
      "    filename = getsourcefile(frame) or getfile(frame)\n",
      "  File \"/usr/lib/python3.7/inspect.py\", line 696, in getsourcefile\n",
      "    if getattr(getmodule(object, filename), '__loader__', None) is not None:\n",
      "  File \"/usr/lib/python3.7/inspect.py\", line 725, in getmodule\n",
      "    file = getabsfile(object, _filename)\n",
      "  File \"/usr/lib/python3.7/inspect.py\", line 709, in getabsfile\n",
      "    return os.path.normcase(os.path.abspath(_filename))\n",
      "  File \"/usr/lib/python3.7/posixpath.py\", line 383, in abspath\n",
      "    cwd = os.getcwd()\n",
      "FileNotFoundError: [Errno 2] No such file or directory\n"
     ]
    },
    {
     "ename": "FileNotFoundError",
     "evalue": "[Errno 2] No such file or directory: 'word-embedding-plot.html'",
     "output_type": "error",
     "traceback": [
      "\u001b[0;31m---------------------------------------------------------------------------\u001b[0m"
     ]
    }
   ],
   "source": [
    "\n",
    "from plotly.offline import init_notebook_mode, iplot, plot\n",
    "import plotly.plotly as py\n",
    "import plotly.graph_objs as go\n",
    "\n",
    "\n",
    "learning_rates = [0.00025,0.0005,.00075,.001,.0025,0.005,.025,.05,0.1,0.25,0.5] + [1,2.5,5,7.5,10,15,17.5,20,22.5,25,30]\n",
    "lr_dict = {x: i for i,x in enumerate(learning_rates)}\n",
    "# SGD\n",
    "lr_sgd      = [1,5,10,15,17.5,20,22.5,25,30]\n",
    "tr_time_sgd = [30,30,30,25,24,21,20,27,30]\n",
    "lr_sgd_dict = [lr_dict[x] for x in lr_sgd]\n",
    "# ADAM\n",
    "lr_adam = [0.00025,0.0005,.00075,.001,.0025,0.005,0.1]\n",
    "lr_adam_dict = [lr_dict[x] for x in lr_adam]\n",
    "tr_time_adam = [30,25,27,30,30,30,30]\n",
    "# adagrad\n",
    "lr_adagrad = [0.025,0.05,0.1,0.25,0.5,1,2.5,5,10,15]\n",
    "lr_adagrad_dict = [lr_dict[x] for x in lr_adagrad]\n",
    "tr_time_adagrad = [25,30,10,6,6,11,25,30,30,30,30]\n",
    "# momentum\n",
    "lr_mom = [2.5,5,7.5,10,15] \n",
    "lr_mom_dict = [lr_dict[x] for x in lr_mom]\n",
    "tr_time_mom = [25, 25, 22, 14,27]\n",
    "# NAG\n",
    "lr_nag = [1,2.5,5,7.5,10,15]\n",
    "lr_nag_dict = [lr_dict[x] for x in lr_nag]\n",
    "tr_time_nag = [17,25, 22, 20, 12,21]\n",
    "\n",
    "trace1 = go.Scatter(\n",
    "    x=lr_sgd_dict,\n",
    "    y=tr_time_sgd,\n",
    "    mode='lines+markers',\n",
    "    name=\"sgd\",\n",
    "    hoverinfo='name',\n",
    "    line=dict(\n",
    "        shape='linear',color='rgb(20,125,190)'\n",
    "    )\n",
    ")\n",
    "trace2 = go.Scatter(\n",
    "    x= lr_adam_dict,\n",
    "    y=tr_time_adam,\n",
    "    mode='lines+markers',\n",
    "    name=\"adam\",\n",
    "    hoverinfo='text+name',\n",
    "    line=dict(\n",
    "        shape='linear',color='rgb(245,145,30)'\n",
    "        \n",
    "    )\n",
    ")\n",
    "trace3 = go.Scatter(\n",
    "    x= lr_adagrad_dict,\n",
    "    y=tr_time_adagrad,\n",
    "    mode='lines+markers',\n",
    "    name=\"adagrad\",\n",
    "    hoverinfo='text+name',\n",
    "    line=dict(\n",
    "        shape='linear',color='rgb(25,160,75)'\n",
    "    )\n",
    ")\n",
    "trace4 = go.Scatter(\n",
    "    x= lr_mom_suffle_dict,\n",
    "    y=tr_time_mom,\n",
    "    mode='lines+markers',\n",
    "    name=\"momentum\",\n",
    "    hoverinfo='text+name',\n",
    "    line=dict(\n",
    "        shape='linear',color='rgb(200,30,135)'\n",
    "    )\n",
    ")\n",
    "trace5 = go.Scatter(\n",
    "    x= lr_nag_dict,\n",
    "    y=tr_time_nag,\n",
    "    mode='lines+markers',\n",
    "    name=\"nag\",\n",
    "    hoverinfo='text+name',\n",
    "    line=dict(\n",
    "        shape='linear',color='rgb(0,0,0)'\n",
    "    )\n",
    ")\n",
    "\n",
    "\n",
    "data = [trace1,trace2,trace3,trace4,trace5]\n",
    "layout = dict(title = 'Time to train vs. learning rate, by optimizer',\n",
    "                 width = 800,\n",
    "    height = 500,\n",
    "    xaxis = dict(\n",
    "        tickvals = list(lr_dict.values()),\n",
    "        ticktext = list(lr_dict.keys()),\n",
    "      title = \"Learning rate\"\n",
    "    ),\n",
    "    yaxis=dict(\n",
    "        type='linear',\n",
    "        title = 'Training time in number of Epochs',\n",
    "        autorange=True\n",
    "    )\n",
    "              )\n",
    "\n",
    "print(layout[\"xaxis\"][\"tickvals\"])\n",
    "fig = dict(data=data, layout=layout)\n",
    "init_notebook_mode(connected=True)\n",
    "plot(fig, filename='word-embedding-plot.html')\n"
   ]
  },
  {
   "cell_type": "code",
   "execution_count": 280,
   "metadata": {},
   "outputs": [
    {
     "data": {
      "text/html": [
       "<script type=\"text/javascript\">window.PlotlyConfig = {MathJaxConfig: 'local'};</script><script type=\"text/javascript\">if (window.MathJax) {MathJax.Hub.Config({SVG: {font: \"STIX-Web\"}});}</script><script>requirejs.config({paths: { 'plotly': ['https://cdn.plot.ly/plotly-latest.min']},});if(!window._Plotly) {require(['plotly'],function(plotly) {window._Plotly=plotly;});}</script>"
      ],
      "text/vnd.plotly.v1+html": [
       "<script type=\"text/javascript\">window.PlotlyConfig = {MathJaxConfig: 'local'};</script><script type=\"text/javascript\">if (window.MathJax) {MathJax.Hub.Config({SVG: {font: \"STIX-Web\"}});}</script><script>requirejs.config({paths: { 'plotly': ['https://cdn.plot.ly/plotly-latest.min']},});if(!window._Plotly) {require(['plotly'],function(plotly) {window._Plotly=plotly;});}</script>"
      ]
     },
     "metadata": {},
     "output_type": "display_data"
    },
    {
     "data": {
      "application/vnd.plotly.v1+json": {
       "config": {
        "linkText": "Export to plot.ly",
        "plotlyServerURL": "https://plot.ly",
        "showLink": false
       },
       "data": [
        {
         "hoverinfo": "name",
         "line": {
          "color": "rgb(20,125,190)",
          "shape": "linear"
         },
         "mode": "lines+markers",
         "name": "sgd",
         "type": "scatter",
         "uid": "ac2c6234-ddb6-4b93-8541-c3606db4da73",
         "x": [
          11,
          13,
          15,
          16,
          17,
          18,
          19,
          20,
          21
         ],
         "y": [
          30,
          30,
          30,
          25,
          24,
          21,
          20,
          27,
          30
         ]
        },
        {
         "hoverinfo": "text+name",
         "line": {
          "color": "rgb(245,145,30)",
          "shape": "linear"
         },
         "mode": "lines+markers",
         "name": "adam",
         "type": "scatter",
         "uid": "7cf1ebc2-7f13-43c7-930f-8bdad65f2e83",
         "x": [
          0,
          1,
          2,
          3,
          4,
          5,
          8
         ],
         "y": [
          30,
          25,
          27,
          30,
          30,
          30,
          30
         ]
        },
        {
         "hoverinfo": "text+name",
         "line": {
          "color": "rgb(25,160,75)",
          "shape": "linear"
         },
         "mode": "lines+markers",
         "name": "adagrad",
         "type": "scatter",
         "uid": "1f35cda2-0cdd-4b9f-8353-193f93d7623f",
         "x": [
          6,
          7,
          8,
          9,
          10,
          11,
          12,
          13,
          15,
          16
         ],
         "y": [
          25,
          30,
          10,
          6,
          6,
          11,
          25,
          30,
          30,
          30,
          30
         ]
        },
        {
         "hoverinfo": "text+name",
         "line": {
          "color": "rgb(200,30,135)",
          "shape": "linear"
         },
         "mode": "lines+markers",
         "name": "momentum",
         "type": "scatter",
         "uid": "1e5ed328-f691-49bd-9233-c0d038c63260",
         "x": [
          12,
          13,
          14,
          15,
          16,
          17,
          18
         ],
         "y": [
          25,
          25,
          22,
          14,
          27
         ]
        },
        {
         "hoverinfo": "text+name",
         "line": {
          "color": "rgb(0,0,0)",
          "shape": "linear"
         },
         "mode": "lines+markers",
         "name": "nag",
         "type": "scatter",
         "uid": "9d1743d5-5092-4bf3-a1ea-2883068beb0f",
         "x": [
          12,
          13,
          14,
          15,
          16
         ],
         "y": [
          17,
          25,
          22,
          20,
          12,
          21
         ]
        },
        {
         "hoverinfo": "name",
         "line": {
          "color": "rgb(20,125,190)",
          "dash": "dot",
          "shape": "linear"
         },
         "mode": "lines+markers",
         "name": "sgd_shuffle",
         "type": "scatter",
         "uid": "be8efcb4-4f9f-45e7-8af6-41b06bd9b0f0",
         "x": [
          16,
          17,
          18,
          19
         ],
         "y": [
          23,
          20,
          17,
          16,
          14
         ]
        },
        {
         "hoverinfo": "text+name",
         "line": {
          "color": "rgb(245,145,30)",
          "dash": "dot",
          "shape": "linear"
         },
         "mode": "lines+markers",
         "name": "adam_shuffle",
         "type": "scatter",
         "uid": "5bcfbabd-1e19-4222-8982-4db5e94d8a0a",
         "x": [
          0,
          1,
          2,
          3,
          4,
          5
         ],
         "y": [
          4,
          7,
          5,
          4,
          3,
          30
         ]
        },
        {
         "hoverinfo": "text+name",
         "line": {
          "color": "rgb(25,160,75)",
          "dash": "dot",
          "shape": "linear"
         },
         "mode": "lines+markers",
         "name": "adagrad_shuffle",
         "type": "scatter",
         "uid": "1cae2c85-e1ff-4a77-ba8e-affa66c98ce2",
         "x": [
          7,
          8,
          9,
          10,
          11,
          12
         ],
         "y": [
          6,
          3,
          3,
          4,
          8,
          25
         ]
        },
        {
         "hoverinfo": "text+name",
         "line": {
          "color": "rgb(200,30,135)",
          "dash": "dot",
          "shape": "linear"
         },
         "mode": "lines+markers",
         "name": "momentum_suffle",
         "type": "scatter",
         "uid": "6f3de4db-4cdf-4a5d-850f-35db65aab4f1",
         "x": [
          12,
          13,
          14,
          15,
          16,
          17,
          18
         ],
         "y": [
          25,
          25,
          22,
          14,
          22,
          22,
          22
         ]
        },
        {
         "hoverinfo": "text+name",
         "line": {
          "color": "rgb(0,0,0)",
          "dash": "dot",
          "shape": "linear"
         },
         "mode": "lines+markers",
         "name": "nag_shuffle",
         "type": "scatter",
         "uid": "6fb99473-66e6-46ce-a788-ebf8833299e4",
         "x": [
          12,
          13,
          14,
          15,
          16,
          17,
          18
         ],
         "y": [
          9,
          10,
          12,
          15
         ]
        }
       ],
       "layout": {
        "height": 500,
        "title": {
         "text": "Time to train vs. learning rate, by optimizer"
        },
        "width": 800,
        "xaxis": {
         "ticktext": [
          0.00025,
          0.0005,
          0.00075,
          0.001,
          0.0025,
          0.005,
          0.025,
          0.05,
          0.1,
          0.25,
          0.5,
          1,
          2.5,
          5,
          7.5,
          10,
          15,
          17.5,
          20,
          22.5,
          25,
          30
         ],
         "tickvals": [
          0,
          1,
          2,
          3,
          4,
          5,
          6,
          7,
          8,
          9,
          10,
          11,
          12,
          13,
          14,
          15,
          16,
          17,
          18,
          19,
          20,
          21
         ],
         "title": {
          "text": "Learning rate"
         }
        },
        "yaxis": {
         "autorange": true,
         "title": {
          "text": "Training time in number of Epochs"
         },
         "type": "linear"
        }
       }
      },
      "text/html": [
       "<div id=\"41474854-6329-4960-911d-59f0c26b2c28\" style=\"height: 500px; width: 800px;\" class=\"plotly-graph-div\"></div><script type=\"text/javascript\">require([\"plotly\"], function(Plotly) { window.PLOTLYENV=window.PLOTLYENV || {};window.PLOTLYENV.BASE_URL=\"https://plot.ly\";\n",
       "if (document.getElementById(\"41474854-6329-4960-911d-59f0c26b2c28\")) {\n",
       "    Plotly.newPlot(\"41474854-6329-4960-911d-59f0c26b2c28\", [{\"hoverinfo\": \"name\", \"line\": {\"color\": \"rgb(20,125,190)\", \"shape\": \"linear\"}, \"mode\": \"lines+markers\", \"name\": \"sgd\", \"x\": [11, 13, 15, 16, 17, 18, 19, 20, 21], \"y\": [30, 30, 30, 25, 24, 21, 20, 27, 30], \"type\": \"scatter\", \"uid\": \"931bf59f-5e12-4b65-952c-948b30bfee0f\"}, {\"hoverinfo\": \"text+name\", \"line\": {\"color\": \"rgb(245,145,30)\", \"shape\": \"linear\"}, \"mode\": \"lines+markers\", \"name\": \"adam\", \"x\": [0, 1, 2, 3, 4, 5, 8], \"y\": [30, 25, 27, 30, 30, 30, 30], \"type\": \"scatter\", \"uid\": \"5313d168-f16d-4923-8add-56921bfeccf8\"}, {\"hoverinfo\": \"text+name\", \"line\": {\"color\": \"rgb(25,160,75)\", \"shape\": \"linear\"}, \"mode\": \"lines+markers\", \"name\": \"adagrad\", \"x\": [6, 7, 8, 9, 10, 11, 12, 13, 15, 16], \"y\": [25, 30, 10, 6, 6, 11, 25, 30, 30, 30, 30], \"type\": \"scatter\", \"uid\": \"9f010dbd-bf5d-4846-a5a5-88819a3ba909\"}, {\"hoverinfo\": \"text+name\", \"line\": {\"color\": \"rgb(200,30,135)\", \"shape\": \"linear\"}, \"mode\": \"lines+markers\", \"name\": \"momentum\", \"x\": [12, 13, 14, 15, 16, 17, 18], \"y\": [25, 25, 22, 14, 27], \"type\": \"scatter\", \"uid\": \"866c1783-2398-464c-8542-bd1cf16ebf34\"}, {\"hoverinfo\": \"text+name\", \"line\": {\"color\": \"rgb(0,0,0)\", \"shape\": \"linear\"}, \"mode\": \"lines+markers\", \"name\": \"nag\", \"x\": [12, 13, 14, 15, 16], \"y\": [17, 25, 22, 20, 12, 21], \"type\": \"scatter\", \"uid\": \"58ad8dd0-1ff6-4504-b5fd-226480ca776b\"}, {\"hoverinfo\": \"name\", \"line\": {\"color\": \"rgb(20,125,190)\", \"dash\": \"dot\", \"shape\": \"linear\"}, \"mode\": \"lines+markers\", \"name\": \"sgd_shuffle\", \"x\": [16, 17, 18, 19], \"y\": [23, 20, 17, 16, 14], \"type\": \"scatter\", \"uid\": \"43861ae0-95c6-484a-b773-1268b81e07e5\"}, {\"hoverinfo\": \"text+name\", \"line\": {\"color\": \"rgb(245,145,30)\", \"dash\": \"dot\", \"shape\": \"linear\"}, \"mode\": \"lines+markers\", \"name\": \"adam_shuffle\", \"x\": [0, 1, 2, 3, 4, 5], \"y\": [4, 7, 5, 4, 3, 30], \"type\": \"scatter\", \"uid\": \"5cb8dd2b-f4e4-4dbb-83f4-1896a242800c\"}, {\"hoverinfo\": \"text+name\", \"line\": {\"color\": \"rgb(25,160,75)\", \"dash\": \"dot\", \"shape\": \"linear\"}, \"mode\": \"lines+markers\", \"name\": \"adagrad_shuffle\", \"x\": [7, 8, 9, 10, 11, 12], \"y\": [6, 3, 3, 4, 8, 25], \"type\": \"scatter\", \"uid\": \"9ef2730f-844c-4b1b-baf1-75123a91a4b9\"}, {\"hoverinfo\": \"text+name\", \"line\": {\"color\": \"rgb(200,30,135)\", \"dash\": \"dot\", \"shape\": \"linear\"}, \"mode\": \"lines+markers\", \"name\": \"momentum_suffle\", \"x\": [12, 13, 14, 15, 16, 17, 18], \"y\": [25, 25, 22, 14, 22, 22, 22], \"type\": \"scatter\", \"uid\": \"6fdbbb1d-1e1b-4546-8ebe-cfc2e512332d\"}, {\"hoverinfo\": \"text+name\", \"line\": {\"color\": \"rgb(0,0,0)\", \"dash\": \"dot\", \"shape\": \"linear\"}, \"mode\": \"lines+markers\", \"name\": \"nag_shuffle\", \"x\": [12, 13, 14, 15, 16, 17, 18], \"y\": [9, 10, 12, 15], \"type\": \"scatter\", \"uid\": \"da11c585-e72c-4c81-b880-847c7e785144\"}], {\"height\": 500, \"title\": {\"text\": \"Time to train vs. learning rate, by optimizer\"}, \"width\": 800, \"xaxis\": {\"ticktext\": [0.00025, 0.0005, 0.00075, 0.001, 0.0025, 0.005, 0.025, 0.05, 0.1, 0.25, 0.5, 1, 2.5, 5, 7.5, 10, 15, 17.5, 20, 22.5, 25, 30], \"tickvals\": [0, 1, 2, 3, 4, 5, 6, 7, 8, 9, 10, 11, 12, 13, 14, 15, 16, 17, 18, 19, 20, 21], \"title\": {\"text\": \"Learning rate\"}}, \"yaxis\": {\"autorange\": true, \"title\": {\"text\": \"Training time in number of Epochs\"}, \"type\": \"linear\"}}, {\"showLink\": false, \"linkText\": \"Export to plot.ly\", \"plotlyServerURL\": \"https://plot.ly\"}); \n",
       "}\n",
       "});</script>"
      ],
      "text/vnd.plotly.v1+html": [
       "<div id=\"41474854-6329-4960-911d-59f0c26b2c28\" style=\"height: 500px; width: 800px;\" class=\"plotly-graph-div\"></div><script type=\"text/javascript\">require([\"plotly\"], function(Plotly) { window.PLOTLYENV=window.PLOTLYENV || {};window.PLOTLYENV.BASE_URL=\"https://plot.ly\";\n",
       "if (document.getElementById(\"41474854-6329-4960-911d-59f0c26b2c28\")) {\n",
       "    Plotly.newPlot(\"41474854-6329-4960-911d-59f0c26b2c28\", [{\"hoverinfo\": \"name\", \"line\": {\"color\": \"rgb(20,125,190)\", \"shape\": \"linear\"}, \"mode\": \"lines+markers\", \"name\": \"sgd\", \"x\": [11, 13, 15, 16, 17, 18, 19, 20, 21], \"y\": [30, 30, 30, 25, 24, 21, 20, 27, 30], \"type\": \"scatter\", \"uid\": \"931bf59f-5e12-4b65-952c-948b30bfee0f\"}, {\"hoverinfo\": \"text+name\", \"line\": {\"color\": \"rgb(245,145,30)\", \"shape\": \"linear\"}, \"mode\": \"lines+markers\", \"name\": \"adam\", \"x\": [0, 1, 2, 3, 4, 5, 8], \"y\": [30, 25, 27, 30, 30, 30, 30], \"type\": \"scatter\", \"uid\": \"5313d168-f16d-4923-8add-56921bfeccf8\"}, {\"hoverinfo\": \"text+name\", \"line\": {\"color\": \"rgb(25,160,75)\", \"shape\": \"linear\"}, \"mode\": \"lines+markers\", \"name\": \"adagrad\", \"x\": [6, 7, 8, 9, 10, 11, 12, 13, 15, 16], \"y\": [25, 30, 10, 6, 6, 11, 25, 30, 30, 30, 30], \"type\": \"scatter\", \"uid\": \"9f010dbd-bf5d-4846-a5a5-88819a3ba909\"}, {\"hoverinfo\": \"text+name\", \"line\": {\"color\": \"rgb(200,30,135)\", \"shape\": \"linear\"}, \"mode\": \"lines+markers\", \"name\": \"momentum\", \"x\": [12, 13, 14, 15, 16, 17, 18], \"y\": [25, 25, 22, 14, 27], \"type\": \"scatter\", \"uid\": \"866c1783-2398-464c-8542-bd1cf16ebf34\"}, {\"hoverinfo\": \"text+name\", \"line\": {\"color\": \"rgb(0,0,0)\", \"shape\": \"linear\"}, \"mode\": \"lines+markers\", \"name\": \"nag\", \"x\": [12, 13, 14, 15, 16], \"y\": [17, 25, 22, 20, 12, 21], \"type\": \"scatter\", \"uid\": \"58ad8dd0-1ff6-4504-b5fd-226480ca776b\"}, {\"hoverinfo\": \"name\", \"line\": {\"color\": \"rgb(20,125,190)\", \"dash\": \"dot\", \"shape\": \"linear\"}, \"mode\": \"lines+markers\", \"name\": \"sgd_shuffle\", \"x\": [16, 17, 18, 19], \"y\": [23, 20, 17, 16, 14], \"type\": \"scatter\", \"uid\": \"43861ae0-95c6-484a-b773-1268b81e07e5\"}, {\"hoverinfo\": \"text+name\", \"line\": {\"color\": \"rgb(245,145,30)\", \"dash\": \"dot\", \"shape\": \"linear\"}, \"mode\": \"lines+markers\", \"name\": \"adam_shuffle\", \"x\": [0, 1, 2, 3, 4, 5], \"y\": [4, 7, 5, 4, 3, 30], \"type\": \"scatter\", \"uid\": \"5cb8dd2b-f4e4-4dbb-83f4-1896a242800c\"}, {\"hoverinfo\": \"text+name\", \"line\": {\"color\": \"rgb(25,160,75)\", \"dash\": \"dot\", \"shape\": \"linear\"}, \"mode\": \"lines+markers\", \"name\": \"adagrad_shuffle\", \"x\": [7, 8, 9, 10, 11, 12], \"y\": [6, 3, 3, 4, 8, 25], \"type\": \"scatter\", \"uid\": \"9ef2730f-844c-4b1b-baf1-75123a91a4b9\"}, {\"hoverinfo\": \"text+name\", \"line\": {\"color\": \"rgb(200,30,135)\", \"dash\": \"dot\", \"shape\": \"linear\"}, \"mode\": \"lines+markers\", \"name\": \"momentum_suffle\", \"x\": [12, 13, 14, 15, 16, 17, 18], \"y\": [25, 25, 22, 14, 22, 22, 22], \"type\": \"scatter\", \"uid\": \"6fdbbb1d-1e1b-4546-8ebe-cfc2e512332d\"}, {\"hoverinfo\": \"text+name\", \"line\": {\"color\": \"rgb(0,0,0)\", \"dash\": \"dot\", \"shape\": \"linear\"}, \"mode\": \"lines+markers\", \"name\": \"nag_shuffle\", \"x\": [12, 13, 14, 15, 16, 17, 18], \"y\": [9, 10, 12, 15], \"type\": \"scatter\", \"uid\": \"da11c585-e72c-4c81-b880-847c7e785144\"}], {\"height\": 500, \"title\": {\"text\": \"Time to train vs. learning rate, by optimizer\"}, \"width\": 800, \"xaxis\": {\"ticktext\": [0.00025, 0.0005, 0.00075, 0.001, 0.0025, 0.005, 0.025, 0.05, 0.1, 0.25, 0.5, 1, 2.5, 5, 7.5, 10, 15, 17.5, 20, 22.5, 25, 30], \"tickvals\": [0, 1, 2, 3, 4, 5, 6, 7, 8, 9, 10, 11, 12, 13, 14, 15, 16, 17, 18, 19, 20, 21], \"title\": {\"text\": \"Learning rate\"}}, \"yaxis\": {\"autorange\": true, \"title\": {\"text\": \"Training time in number of Epochs\"}, \"type\": \"linear\"}}, {\"showLink\": false, \"linkText\": \"Export to plot.ly\", \"plotlyServerURL\": \"https://plot.ly\"}); \n",
       "}\n",
       "});</script>"
      ]
     },
     "metadata": {},
     "output_type": "display_data"
    }
   ],
   "source": [
    "\n",
    "from plotly.offline import init_notebook_mode, iplot, plot\n",
    "import plotly.plotly as py\n",
    "import plotly.graph_objs as go\n",
    "\n",
    "#learning_rates = [0.00025,0.0005,.00075,.001,0.1,0.25,0.5] + [2.5,5,7.5,10,15,20,22.5]\n",
    "#lr_dict = {x: i for i,x in enumerate(learning_rates)}\n",
    "# sgd_shuffle\n",
    "lr_sgd_shuffle    = [15,17.5,20,22.5]\n",
    "tr_time_sgd_shuffle = [23,20,17,16,14]\n",
    "lr_sgd_shuffle_dict = [lr_dict[x] for x in lr_sgd_shuffle]\n",
    "# adam_shuffle\n",
    "lr_adam_shuffle = [0.00025,0.0005,.00075,.001,0.0025,0.005]\n",
    "lr_adam_shuffle_dict = [lr_dict[x] for x in lr_adam_shuffle]\n",
    "tr_time_adam_shuffle = [4,7,5,4,3,30]\n",
    "# adagrad_shuffle\n",
    "lr_adagrad_shuffle = [0.05,0.01,0.1,0.25,0.5,1,2.5]\n",
    "lr_adagrad_shuffle_dict = [lr_dict[x] for x in lr_adagrad_shuffle]\n",
    "tr_time_adagrad_shuffle = [6,30,3,3,4,8,25]\n",
    "# mom_suffleentum\n",
    "lr_mom_suffle = [2.5,5,7.5,10,15,17.5,20,22.5] \n",
    "lr_mom_suffle_dict = [lr_dict[x] for x in lr_mom_suffle]\n",
    "tr_time_mom_suffle = [25, 25, 22, 14,22,22,22,22]\n",
    "# nag_shuffle\n",
    "lr_nag_shuffle = [2.5,5,7.5,15]\n",
    "lr_nag_shuffle_dict = [lr_dict[x] for x in lr_nag_shuffle]\n",
    "tr_time_nag_shuffle = [9,10, 12,14a]\n",
    "\n",
    "\n",
    "\n",
    "trace1a = go.Scatter(\n",
    "    x=lr_sgd_shuffle_dict,\n",
    "    y=tr_time_sgd_shuffle,\n",
    "    mode='lines+markers',\n",
    "    name=\"sgd_shuffle\",\n",
    "    hoverinfo='name',\n",
    "    line=dict(\n",
    "        shape='linear',dash='dot',color='rgb(20,125,190)'\n",
    "    )\n",
    ")\n",
    "trace2a = go.Scatter(\n",
    "    x= lr_adam_shuffle_dict,\n",
    "    y=tr_time_adam_shuffle,\n",
    "    mode='lines+markers',\n",
    "    name=\"adam_shuffle\",\n",
    "    hoverinfo='text+name',\n",
    "    line=dict(\n",
    "        shape='linear',dash='dot',color='rgb(245,145,30)'\n",
    "        \n",
    "    )\n",
    ")\n",
    "trace3a = go.Scatter(\n",
    "    x= lr_adagrad_shuffle_dict,\n",
    "    y=tr_time_adagrad_shuffle,\n",
    "    mode='lines+markers',\n",
    "    name=\"adagrad_shuffle\",\n",
    "    hoverinfo='text+name',\n",
    "    line=dict(\n",
    "        shape='linear',dash='dot',color='rgb(25,160,75)'\n",
    "    )\n",
    ")\n",
    "trace4a = go.Scatter(\n",
    "    x= lr_mom_suffle_dict,\n",
    "    y=tr_time_mom_suffle,\n",
    "    mode='lines+markers',\n",
    "    name=\"momentum_suffle\",\n",
    "    hoverinfo='text+name',\n",
    "    line=dict(\n",
    "        shape='linear',dash='dot',color='rgb(200,30,135)'\n",
    "    )\n",
    ")\n",
    "trace5a = go.Scatter(\n",
    "    x= lr_nag_shuffle_dict,\n",
    "    y=tr_time_nag_shuffle,\n",
    "    mode='lines+markers',\n",
    "    name=\"nag_shuffle\",\n",
    "    hoverinfo='text+name',\n",
    "    line=dict(\n",
    "        shape='linear',dash='dot',color='rgb(0,0,0)'\n",
    "    )\n",
    ")\n",
    "data_a = [trace1a,trace2a,trace3a,trace4a,trace5a] \n",
    "data = data + data_a\n",
    "layout = dict(title = 'Time to train vs. learning rate, by optimizer',\n",
    "                 width = 800,\n",
    "    height = 500,\n",
    "    xaxis = dict(\n",
    "        tickvals = list(lr_dict.values()),\n",
    "        ticktext = list(lr_dict.keys()),\n",
    "      title = \"Learning rate\"\n",
    "    ),\n",
    "    yaxis=dict(\n",
    "        type='linear',\n",
    "        title = 'Training time in number of Epochs',\n",
    "        autorange=True\n",
    "    )\n",
    "              )\n",
    "\n",
    "fig = dict(data=data, layout=layout)\n",
    "init_notebook_mode(connected=True)\n",
    "iplot(fig, filename='word-embedding-plot')\n"
   ]
  },
  {
   "cell_type": "code",
   "execution_count": null,
   "metadata": {},
   "outputs": [],
   "source": []
  }
 ],
 "metadata": {
  "kernelspec": {
   "display_name": "Python 3",
   "language": "python",
   "name": "python3"
  },
  "language_info": {
   "codemirror_mode": {
    "name": "ipython",
    "version": 3
   },
   "file_extension": ".py",
   "mimetype": "text/x-python",
   "name": "python",
   "nbconvert_exporter": "python",
   "pygments_lexer": "ipython3",
   "version": "3.7.2"
  }
 },
 "nbformat": 4,
 "nbformat_minor": 2
}
