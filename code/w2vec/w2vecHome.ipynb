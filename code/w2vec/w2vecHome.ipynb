{
 "cells": [
  {
   "cell_type": "code",
   "execution_count": 22,
   "metadata": {},
   "outputs": [],
   "source": [
    "import torch\n",
    "from torch.autograd import Variable\n",
    "import torch.nn as nn\n",
    "import torch.nn.functional as F\n",
    "import pdb\n",
    "\n",
    "device = torch.device(\"cuda:0\" if torch.cuda.is_available() else \"cpu\")\n",
    "\n",
    "\n",
    "class SkipGramModel(nn.Module):\n",
    "\n",
    "    def __init__(self, vocab_size, emb_dimension):\n",
    "        super(SkipGramModel, self).__init__()\n",
    "        self.emb_dimension = emb_dimension\n",
    "        self.u_embeddings = nn.Embedding(vocab_size, emb_dimension, sparse=False)\n",
    "        self.v_embeddings = nn.Embedding(vocab_size, emb_dimension, sparse=False)\n",
    "        self.init_emb()\n",
    "        \n",
    "\n",
    "    def init_emb(self):\n",
    "        initrange = 0.5 / self.emb_dimension\n",
    "        self.u_embeddings.weight.data.uniform_(-initrange, initrange)\n",
    "        self.v_embeddings.weight.data.uniform_(-1,1)\n",
    "        \n",
    "            \n",
    "    def forward(self, pos_u, pos_v,neg_v):\n",
    "        #pdb.set_trace()\n",
    "        pos_u = pos_u.view(-1)\n",
    "        emb_u = self.u_embeddings(pos_u)\n",
    "        #neg_v = neg_v.view(len(pos_u),-1)\n",
    "        #pdb.set_trace()\n",
    "        samples = torch.cat([pos_v,Variable(neg_v)],1)\n",
    "        emb_v = self.v_embeddings(samples)\n",
    "        #pdb.set_trace()\n",
    "        score = torch.bmm(emb_v, emb_u.unsqueeze(2)).squeeze()\n",
    "        #pdb.set_trace()\n",
    "        score[:,1:]=score[:,1:].neg()\n",
    "        score = F.logsigmoid(score)\n",
    "        return -1 * (torch.sum(score))/ pos_u.size(0)"
   ]
  },
  {
   "cell_type": "code",
   "execution_count": 229,
   "metadata": {},
   "outputs": [],
   "source": [
    "from torch.utils.data import Dataset\n",
    "from collections import defaultdict\n",
    "import random\n",
    "\n",
    "class wDataSet(Dataset):\n",
    "    def __init__(self, dataset, power=0.75, neg_samples=2,sampling=True,sampling_treshhold=0.001):\n",
    "        self.dataset = dataset\n",
    "        self.word2idx = dict()\n",
    "        self.idx2word = dict()\n",
    "        self.word_count = defaultdict(int)\n",
    "        self.vocab_size = int()\n",
    "        self.vocab = set()\n",
    "        self.create_vocab(sampling, sampling_treshhold)\n",
    "        self.pairs = self.generate_pairs(dataset,neg_samples)\n",
    "        self.key_pairs = self.generate_key_pairs(self.pairs)\n",
    "        self.neg_samples=neg_samples\n",
    "        #self.dataset_tensors=self.create_dataset_tensors()\n",
    "        \n",
    "\n",
    "        \n",
    "    def generate_pairs(self, dataset, ctx_window):\n",
    "            print(\"Generating pairs\")\n",
    "            pairs = []\n",
    "            for sentence in dataset:\n",
    "                for i,word in enumerate(sentence):\n",
    "                    for j in range(1,ctx_window):\n",
    "                        if(i+j<len(sentence)):\n",
    "                            pairs.append((word,sentence[i+j]))\n",
    "                        if((i-j)>0):\n",
    "                            pairs.append((word,sentence[i-j]))\n",
    "                            \n",
    "            return pairs\n",
    "        \n",
    "    def __len__(self):\n",
    "        return len(self.key_pairs)\n",
    "        \n",
    "        \n",
    "    def __getitem__(self, idx):\n",
    "        return self.key_pairs\n",
    "    \n",
    "    def get_neg_samples(self, count, batch_size):\n",
    "        neg_v = []\n",
    "        for x in range(1,batch_size+1):\n",
    "            neg_v.append(random.sample(range(0,self.vocab_size),count))\n",
    "        return torch.tensor(neg_v).view(batch_size,-1)\n",
    "        \n",
    "    \n",
    "    def generate_key_pairs(self,pairs):\n",
    "        print(\"Generating key_pairs\")\n",
    "        key_pairs = []\n",
    "        #print(pairs)\n",
    "        for x,y in pairs:\n",
    "            key_pairs.append((self.word2idx.get(x),self.word2idx.get(y)))\n",
    "        print(\"finished creating key_pairs\")\n",
    "        return key_pairs\n",
    "    \n",
    "    \"\"\"\"Creating vocabulary: first counting all words then deleting all frequent\n",
    "    words, then creating dictionary with a one to one mapping int to word\"\"\"\n",
    "    def create_vocab(self,sampling, treshhold):\n",
    "        print(\"Creating vocab\")\n",
    "        if sampling:\n",
    "            self.create_vocab_with_sampling(treshhold)\n",
    "        else:\n",
    "            for i,sentence in enumerate(self.dataset):\n",
    "                for word in sentence:\n",
    "                    self.word_count[word] += 1\n",
    "                    self.vocab.add(word)\n",
    "\n",
    "        self.word2idx = {w: idx for (idx, w) in enumerate(self.vocab)}\n",
    "        self.idx2word = {idx: w for (idx, w) in enumerate(self.vocab)}\n",
    "        self.vocab_size = len(self.vocab)\n",
    "        \n",
    "    def create_vocab_with_sampling(self,treshhold):\n",
    "        for i,sentence in enumerate(self.dataset):\n",
    "                for word in sentence:\n",
    "                    self.word_count[word] += 1\n",
    "                    \n",
    "        sampling_table = make_sampling_table(tresshold)  \n",
    "        assert len(sampling_table)== len(self.word_count)\n",
    "        sampled_words = [word for word in enumerate(i,self.word_count.keys) if random.random < sampling_table[i]]\n",
    "        \n",
    "        for i,sentence in enumerate(self.dataset):\n",
    "            for word in sentence: \n",
    "                if word in sampled_words:\n",
    "                    sentence.remove(word)\n",
    "                else: \n",
    "                    self.vocab.add(word)\n",
    "                    \n",
    "        \n",
    "    def make_sampling_table(self,treshhold): \n",
    "        count = np.array([x for x in text8_dataset_first_sentence.word_count.values()])\n",
    "        table = [1-x for x in list( np.sqrt(treshhold/ (count / count.sum())))]\n",
    "        return table\n",
    "   \n"
   ]
  },
  {
   "cell_type": "code",
   "execution_count": 24,
   "metadata": {},
   "outputs": [
    {
     "data": {
      "text/plain": [
       "tensor([[41,  9],\n",
       "        [21, 34],\n",
       "        [ 2, 42],\n",
       "        [14, 21],\n",
       "        [47, 43],\n",
       "        [ 1, 18],\n",
       "        [21,  7],\n",
       "        [40, 34],\n",
       "        [47, 22],\n",
       "        [46,  3]])"
      ]
     },
     "execution_count": 24,
     "metadata": {},
     "output_type": "execute_result"
    }
   ],
   "source": [
    "tmp = []\n",
    "for x in range(1,11):\n",
    "    tmp.append(random.sample(range(0,50),2))\n",
    "t = torch.tensor(tmp)\n",
    "t.view(10,-1)\n",
    "    "
   ]
  },
  {
   "cell_type": "code",
   "execution_count": 25,
   "metadata": {},
   "outputs": [],
   "source": [
    "import numpy as np\n",
    "import torch\n",
    "from torch.utils.data import DataLoader\n",
    "import copy\n",
    "\n",
    "class W2V():\n",
    "    def __init__(self, data,dim=100, neg_samples=3, alpha=0.01, iterations=10, batch_size=500, \n",
    "                 shuffle=False,use_cuda=True,workers=4):\n",
    "        self.shuffle = shuffle        \n",
    "        self.batch_size = batch_size\n",
    "        self.alpha = alpha\n",
    "        self.dim = dim\n",
    "        self.data = data\n",
    "        self.workers = workers\n",
    "\n",
    "        self.neg_samples = neg_samples\n",
    "        self.use_cuda = use_cuda\n",
    "        \n",
    "        self.models = []\n",
    "        self.optimizers = []\n",
    "        self.model = SkipGramModel(len(self.data.vocab), self.dim)\n",
    "        #self.model.cuda()\n",
    "        print(device)\n",
    "        self.optimizer = torch.optim.SGD(self.model.parameters(), lr=alpha)\n",
    "\n",
    "        self.iterations = iterations\n",
    "        #self.train()        \n",
    " \n",
    "    def train_with_loader(self):\n",
    "        loader = DataLoader(self.data.key_pairs, self.batch_size, self.shuffle, num_workers=self.workers)\n",
    "        print('starting training')\n",
    "        tenth = int(len(loader)/10)\n",
    "        for epoch in range(1,self.iterations):\n",
    "            percent = 0\n",
    "            for i,(pos_u,pos_v) in enumerate(loader):\n",
    "                neg_v = self.data.get_neg_samples(self.data.neg_samples,pos_v.size()[0])\n",
    "                pos_v = pos_v.view(len(neg_v),-1)\n",
    "                #pos_v.cuda()\n",
    "                #pos_u.cuda()\n",
    "                #neg_v.cuda()\n",
    "                self.optimizer.zero_grad()\n",
    "                loss = self.model.forward(pos_u,pos_v,neg_v)\n",
    "                loss.backward()\n",
    "                self.optimizer.step()\n",
    "                prev_loss = loss\n",
    "            print(\"loss = \" + str(loss))\n",
    "            print(\"{0:d} epoch of {1:d}\".format(epoch+1, self.iterations))\n",
    "\n",
    "    def get_embedding(self):\n",
    "        embedding_dict = dict()\n",
    "        embedding = self.model.u_embeddings.weight.data.numpy()\n",
    "        for i in range(len(self.data.idx2word)):\n",
    "            embedding_dict[self.data.idx2word[i]]= embedding[i]\n",
    "        return embedding_dict"
   ]
  },
  {
   "cell_type": "code",
   "execution_count": 26,
   "metadata": {},
   "outputs": [],
   "source": [
    "def train(model, dataset, epochs):\n",
    "    optimizer = torch.optim.SGD(model.parameters(), lr=0.01)\n",
    "    print('starting training')\n",
    "    for epoch in range(1,epochs):\n",
    "        for i,(pos_u,pos_v,neg_v) in enumerate(dataset):\n",
    "            pos_v = pos_v.view(-1,1)\n",
    "            optimizer.zero_grad()\n",
    "            loss = model.forward(pos_u,pos_v,neg_v)\n",
    "            loss.backward()\n",
    "            optimizer.step()\n",
    "        print(\"loss = \" + str(loss))\n",
    "        print(\"{0:d} epoch of {1:d}\".format(epoch+1, epochs))"
   ]
  },
  {
   "cell_type": "code",
   "execution_count": 27,
   "metadata": {},
   "outputs": [],
   "source": [
    "from gensim.test.utils import datapath\n",
    "import gensim.downloader as api\n",
    "#sentences = LineSentence(datapath('lee_background.cor'))\n",
    "dataset = api.load('text8')\n",
    "text8_dataset = []\n",
    "for x in dataset: \n",
    "    text8_dataset.append(x)   "
   ]
  },
  {
   "cell_type": "code",
   "execution_count": 28,
   "metadata": {},
   "outputs": [],
   "source": [
    "text8_first_sentence = []\n",
    "sentence = []\n",
    "for i,x in enumerate(text8_dataset[0]):\n",
    "    sentence.append(x)\n",
    "    if (i%30 == 0 and i>0):\n",
    "        text8_first_sentence.append(sentence)\n",
    "        sentence=[]"
   ]
  },
  {
   "cell_type": "code",
   "execution_count": 230,
   "metadata": {},
   "outputs": [
    {
     "name": "stdout",
     "output_type": "stream",
     "text": [
      "Creating vocab\n"
     ]
    },
    {
     "ename": "NameError",
     "evalue": "name 'tresshold' is not defined",
     "output_type": "error",
     "traceback": [
      "\u001b[0;31m---------------------------------------------------------------------------\u001b[0m",
      "\u001b[0;31mNameError\u001b[0m                                 Traceback (most recent call last)",
      "\u001b[0;32m<ipython-input-230-5d49948889bf>\u001b[0m in \u001b[0;36m<module>\u001b[0;34m\u001b[0m\n\u001b[0;32m----> 1\u001b[0;31m \u001b[0mtext8_dataset_first_sentence\u001b[0m \u001b[0;34m=\u001b[0m \u001b[0mwDataSet\u001b[0m\u001b[0;34m(\u001b[0m\u001b[0;34m(\u001b[0m\u001b[0mtext8_first_sentence\u001b[0m\u001b[0;34m)\u001b[0m\u001b[0;34m)\u001b[0m\u001b[0;34m\u001b[0m\u001b[0;34m\u001b[0m\u001b[0m\n\u001b[0m\u001b[1;32m      2\u001b[0m \u001b[0;31m#text8_wDataset = wDataSet((text8_dataset))\u001b[0m\u001b[0;34m\u001b[0m\u001b[0;34m\u001b[0m\u001b[0;34m\u001b[0m\u001b[0m\n",
      "\u001b[0;32m<ipython-input-229-71ec8fc27005>\u001b[0m in \u001b[0;36m__init__\u001b[0;34m(self, dataset, power, neg_samples, sampling, sampling_treshhold)\u001b[0m\n\u001b[1;32m     11\u001b[0m         \u001b[0mself\u001b[0m\u001b[0;34m.\u001b[0m\u001b[0mvocab_size\u001b[0m \u001b[0;34m=\u001b[0m \u001b[0mint\u001b[0m\u001b[0;34m(\u001b[0m\u001b[0;34m)\u001b[0m\u001b[0;34m\u001b[0m\u001b[0;34m\u001b[0m\u001b[0m\n\u001b[1;32m     12\u001b[0m         \u001b[0mself\u001b[0m\u001b[0;34m.\u001b[0m\u001b[0mvocab\u001b[0m \u001b[0;34m=\u001b[0m \u001b[0mset\u001b[0m\u001b[0;34m(\u001b[0m\u001b[0;34m)\u001b[0m\u001b[0;34m\u001b[0m\u001b[0;34m\u001b[0m\u001b[0m\n\u001b[0;32m---> 13\u001b[0;31m         \u001b[0mself\u001b[0m\u001b[0;34m.\u001b[0m\u001b[0mcreate_vocab\u001b[0m\u001b[0;34m(\u001b[0m\u001b[0msampling\u001b[0m\u001b[0;34m,\u001b[0m \u001b[0msampling_treshhold\u001b[0m\u001b[0;34m)\u001b[0m\u001b[0;34m\u001b[0m\u001b[0;34m\u001b[0m\u001b[0m\n\u001b[0m\u001b[1;32m     14\u001b[0m         \u001b[0mself\u001b[0m\u001b[0;34m.\u001b[0m\u001b[0mpairs\u001b[0m \u001b[0;34m=\u001b[0m \u001b[0mself\u001b[0m\u001b[0;34m.\u001b[0m\u001b[0mgenerate_pairs\u001b[0m\u001b[0;34m(\u001b[0m\u001b[0mdataset\u001b[0m\u001b[0;34m,\u001b[0m\u001b[0mneg_samples\u001b[0m\u001b[0;34m)\u001b[0m\u001b[0;34m\u001b[0m\u001b[0;34m\u001b[0m\u001b[0m\n\u001b[1;32m     15\u001b[0m         \u001b[0mself\u001b[0m\u001b[0;34m.\u001b[0m\u001b[0mkey_pairs\u001b[0m \u001b[0;34m=\u001b[0m \u001b[0mself\u001b[0m\u001b[0;34m.\u001b[0m\u001b[0mgenerate_key_pairs\u001b[0m\u001b[0;34m(\u001b[0m\u001b[0mself\u001b[0m\u001b[0;34m.\u001b[0m\u001b[0mpairs\u001b[0m\u001b[0;34m)\u001b[0m\u001b[0;34m\u001b[0m\u001b[0;34m\u001b[0m\u001b[0m\n",
      "\u001b[0;32m<ipython-input-229-71ec8fc27005>\u001b[0m in \u001b[0;36mcreate_vocab\u001b[0;34m(self, sampling, treshhold)\u001b[0m\n\u001b[1;32m     60\u001b[0m         \u001b[0mprint\u001b[0m\u001b[0;34m(\u001b[0m\u001b[0;34m\"Creating vocab\"\u001b[0m\u001b[0;34m)\u001b[0m\u001b[0;34m\u001b[0m\u001b[0;34m\u001b[0m\u001b[0m\n\u001b[1;32m     61\u001b[0m         \u001b[0;32mif\u001b[0m \u001b[0msampling\u001b[0m\u001b[0;34m:\u001b[0m\u001b[0;34m\u001b[0m\u001b[0;34m\u001b[0m\u001b[0m\n\u001b[0;32m---> 62\u001b[0;31m             \u001b[0mself\u001b[0m\u001b[0;34m.\u001b[0m\u001b[0mcreate_vocab_with_sampling\u001b[0m\u001b[0;34m(\u001b[0m\u001b[0mtreshhold\u001b[0m\u001b[0;34m)\u001b[0m\u001b[0;34m\u001b[0m\u001b[0;34m\u001b[0m\u001b[0m\n\u001b[0m\u001b[1;32m     63\u001b[0m         \u001b[0;32melse\u001b[0m\u001b[0;34m:\u001b[0m\u001b[0;34m\u001b[0m\u001b[0;34m\u001b[0m\u001b[0m\n\u001b[1;32m     64\u001b[0m             \u001b[0;32mfor\u001b[0m \u001b[0mi\u001b[0m\u001b[0;34m,\u001b[0m\u001b[0msentence\u001b[0m \u001b[0;32min\u001b[0m \u001b[0menumerate\u001b[0m\u001b[0;34m(\u001b[0m\u001b[0mself\u001b[0m\u001b[0;34m.\u001b[0m\u001b[0mdataset\u001b[0m\u001b[0;34m)\u001b[0m\u001b[0;34m:\u001b[0m\u001b[0;34m\u001b[0m\u001b[0;34m\u001b[0m\u001b[0m\n",
      "\u001b[0;32m<ipython-input-229-71ec8fc27005>\u001b[0m in \u001b[0;36mcreate_vocab_with_sampling\u001b[0;34m(self, treshhold)\u001b[0m\n\u001b[1;32m     76\u001b[0m                     \u001b[0mself\u001b[0m\u001b[0;34m.\u001b[0m\u001b[0mword_count\u001b[0m\u001b[0;34m[\u001b[0m\u001b[0mword\u001b[0m\u001b[0;34m]\u001b[0m \u001b[0;34m+=\u001b[0m \u001b[0;36m1\u001b[0m\u001b[0;34m\u001b[0m\u001b[0;34m\u001b[0m\u001b[0m\n\u001b[1;32m     77\u001b[0m \u001b[0;34m\u001b[0m\u001b[0m\n\u001b[0;32m---> 78\u001b[0;31m         \u001b[0msampling_table\u001b[0m \u001b[0;34m=\u001b[0m \u001b[0mmake_sampling_table\u001b[0m\u001b[0;34m(\u001b[0m\u001b[0mtresshold\u001b[0m\u001b[0;34m)\u001b[0m\u001b[0;34m\u001b[0m\u001b[0;34m\u001b[0m\u001b[0m\n\u001b[0m\u001b[1;32m     79\u001b[0m         \u001b[0;32massert\u001b[0m \u001b[0mlen\u001b[0m\u001b[0;34m(\u001b[0m\u001b[0msampling_table\u001b[0m\u001b[0;34m)\u001b[0m\u001b[0;34m==\u001b[0m \u001b[0mlen\u001b[0m\u001b[0;34m(\u001b[0m\u001b[0mself\u001b[0m\u001b[0;34m.\u001b[0m\u001b[0mword_count\u001b[0m\u001b[0;34m)\u001b[0m\u001b[0;34m\u001b[0m\u001b[0;34m\u001b[0m\u001b[0m\n\u001b[1;32m     80\u001b[0m         \u001b[0msampled_words\u001b[0m \u001b[0;34m=\u001b[0m \u001b[0;34m[\u001b[0m\u001b[0mword\u001b[0m \u001b[0;32mfor\u001b[0m \u001b[0mword\u001b[0m \u001b[0;32min\u001b[0m \u001b[0menumerate\u001b[0m\u001b[0;34m(\u001b[0m\u001b[0mi\u001b[0m\u001b[0;34m,\u001b[0m\u001b[0mself\u001b[0m\u001b[0;34m.\u001b[0m\u001b[0mword_count\u001b[0m\u001b[0;34m.\u001b[0m\u001b[0mkeys\u001b[0m\u001b[0;34m)\u001b[0m \u001b[0;32mif\u001b[0m \u001b[0mrandom\u001b[0m\u001b[0;34m.\u001b[0m\u001b[0mrandom\u001b[0m \u001b[0;34m<\u001b[0m \u001b[0msampling_table\u001b[0m\u001b[0;34m[\u001b[0m\u001b[0mi\u001b[0m\u001b[0;34m]\u001b[0m\u001b[0;34m]\u001b[0m\u001b[0;34m\u001b[0m\u001b[0;34m\u001b[0m\u001b[0m\n",
      "\u001b[0;31mNameError\u001b[0m: name 'tresshold' is not defined"
     ]
    }
   ],
   "source": [
    "text8_dataset_first_sentence = wDataSet((text8_first_sentence))\n",
    "#text8_wDataset = wDataSet((text8_dataset))"
   ]
  },
  {
   "cell_type": "code",
   "execution_count": 32,
   "metadata": {},
   "outputs": [
    {
     "name": "stdout",
     "output_type": "stream",
     "text": [
      "cpu\n"
     ]
    }
   ],
   "source": [
    "w2v = W2V(text8_dataset_first_sentence)\n",
    "#w2v = W2V(text8_wDataset)"
   ]
  },
  {
   "cell_type": "code",
   "execution_count": 87,
   "metadata": {},
   "outputs": [
    {
     "name": "stdout",
     "output_type": "stream",
     "text": [
      "[['anarchism', 'originated', 'as', 'a', 'term', 'of', 'abuse', 'first', 'used', 'against', 'early', 'working', 'class', 'radicals', 'including', 'the', 'diggers', 'of', 'the', 'english', 'revolution', 'and', 'the', 'sans', 'culottes', 'of', 'the', 'french', 'revolution', 'whilst', 'the'], ['term', 'is', 'still', 'used', 'in', 'a', 'pejorative', 'way', 'to', 'describe', 'any', 'act', 'that', 'used', 'violent', 'means', 'to', 'destroy', 'the', 'organization', 'of', 'society', 'it', 'has', 'also', 'been', 'taken', 'up', 'as', 'a'], ['positive', 'label', 'by', 'self', 'defined', 'anarchists', 'the', 'word', 'anarchism', 'is', 'derived', 'from', 'the', 'greek', 'without', 'archons', 'ruler', 'chief', 'king', 'anarchism', 'as', 'a', 'political', 'philosophy', 'is', 'the', 'belief', 'that', 'rulers', 'are'], ['unnecessary', 'and', 'should', 'be', 'abolished', 'although', 'there', 'are', 'differing', 'interpretations', 'of', 'what', 'this', 'means', 'anarchism', 'also', 'refers', 'to', 'related', 'social', 'movements', 'that', 'advocate', 'the', 'elimination', 'of', 'authoritarian', 'institutions', 'particularly', 'the'], ['state', 'the', 'word', 'anarchy', 'as', 'most', 'anarchists', 'use', 'it', 'does', 'not', 'imply', 'chaos', 'nihilism', 'or', 'anomie', 'but', 'rather', 'a', 'harmonious', 'anti', 'authoritarian', 'society', 'in', 'place', 'of', 'what', 'are', 'regarded', 'as'], ['authoritarian', 'political', 'structures', 'and', 'coercive', 'economic', 'institutions', 'anarchists', 'advocate', 'social', 'relations', 'based', 'upon', 'voluntary', 'association', 'of', 'autonomous', 'individuals', 'mutual', 'aid', 'and', 'self', 'governance', 'while', 'anarchism', 'is', 'most', 'easily', 'defined', 'by'], ['what', 'it', 'is', 'against', 'anarchists', 'also', 'offer', 'positive', 'visions', 'of', 'what', 'they', 'believe', 'to', 'be', 'a', 'truly', 'free', 'society', 'however', 'ideas', 'about', 'how', 'an', 'anarchist', 'society', 'might', 'work', 'vary', 'considerably'], ['especially', 'with', 'respect', 'to', 'economics', 'there', 'is', 'also', 'disagreement', 'about', 'how', 'a', 'free', 'society', 'might', 'be', 'brought', 'about', 'origins', 'and', 'predecessors', 'kropotkin', 'and', 'others', 'argue', 'that', 'before', 'recorded', 'history', 'human'], ['society', 'was', 'organized', 'on', 'anarchist', 'principles', 'most', 'anthropologists', 'follow', 'kropotkin', 'and', 'engels', 'in', 'believing', 'that', 'hunter', 'gatherer', 'bands', 'were', 'egalitarian', 'and', 'lacked', 'division', 'of', 'labour', 'accumulated', 'wealth', 'or', 'decreed', 'law'], ['and', 'had', 'equal', 'access', 'to', 'resources', 'william', 'godwin', 'anarchists', 'including', 'the', 'the', 'anarchy', 'organisation', 'and', 'rothbard', 'find', 'anarchist', 'attitudes', 'in', 'taoism', 'from', 'ancient', 'china', 'kropotkin', 'found', 'similar', 'ideas', 'in', 'stoic'], ['zeno', 'of', 'citium', 'according', 'to', 'kropotkin', 'zeno', 'repudiated', 'the', 'omnipotence', 'of', 'the', 'state', 'its', 'intervention', 'and', 'regimentation', 'and', 'proclaimed', 'the', 'sovereignty', 'of', 'the', 'moral', 'law', 'of', 'the', 'individual', 'the', 'anabaptists'], ['of', 'one', 'six', 'th', 'century', 'europe', 'are', 'sometimes', 'considered', 'to', 'be', 'religious', 'forerunners', 'of', 'modern', 'anarchism', 'bertrand', 'russell', 'in', 'his', 'history', 'of', 'western', 'philosophy', 'writes', 'that', 'the', 'anabaptists', 'repudiated', 'all'], ['law', 'since', 'they', 'held', 'that', 'the', 'good', 'man', 'will', 'be', 'guided', 'at', 'every', 'moment', 'by', 'the', 'holy', 'spirit', 'from', 'this', 'premise', 'they', 'arrive', 'at', 'communism', 'the', 'diggers', 'or', 'true', 'levellers'], ['were', 'an', 'early', 'communistic', 'movement', 'during', 'the', 'time', 'of', 'the', 'english', 'civil', 'war', 'and', 'are', 'considered', 'by', 'some', 'as', 'forerunners', 'of', 'modern', 'anarchism', 'in', 'the', 'modern', 'era', 'the', 'first', 'to'], ['use', 'the', 'term', 'to', 'mean', 'something', 'other', 'than', 'chaos', 'was', 'louis', 'armand', 'baron', 'de', 'lahontan', 'in', 'his', 'nouveaux', 'voyages', 'dans', 'l', 'am', 'rique', 'septentrionale', 'one', 'seven', 'zero', 'three', 'where', 'he'], ['described', 'the', 'indigenous', 'american', 'society', 'which', 'had', 'no', 'state', 'laws', 'prisons', 'priests', 'or', 'private', 'property', 'as', 'being', 'in', 'anarchy', 'russell', 'means', 'a', 'libertarian', 'and', 'leader', 'in', 'the', 'american', 'indian', 'movement'], ['has', 'repeatedly', 'stated', 'that', 'he', 'is', 'an', 'anarchist', 'and', 'so', 'are', 'all', 'his', 'ancestors', 'in', 'one', 'seven', 'nine', 'three', 'in', 'the', 'thick', 'of', 'the', 'french', 'revolution', 'william', 'godwin', 'published', 'an'], ['enquiry', 'concerning', 'political', 'justice', 'although', 'godwin', 'did', 'not', 'use', 'the', 'word', 'anarchism', 'many', 'later', 'anarchists', 'have', 'regarded', 'this', 'book', 'as', 'the', 'first', 'major', 'anarchist', 'text', 'and', 'godwin', 'as', 'the', 'founder'], ['of', 'philosophical', 'anarchism', 'but', 'at', 'this', 'point', 'no', 'anarchist', 'movement', 'yet', 'existed', 'and', 'the', 'term', 'anarchiste', 'was', 'known', 'mainly', 'as', 'an', 'insult', 'hurled', 'by', 'the', 'bourgeois', 'girondins', 'at', 'more', 'radical'], ['elements', 'in', 'the', 'french', 'revolution', 'the', 'first', 'self', 'labelled', 'anarchist', 'pierre', 'joseph', 'proudhon', 'it', 'is', 'commonly', 'held', 'that', 'it', 'wasn', 't', 'until', 'pierre', 'joseph', 'proudhon', 'published', 'what', 'is', 'property', 'in'], ['one', 'eight', 'four', 'zero', 'that', 'the', 'term', 'anarchist', 'was', 'adopted', 'as', 'a', 'self', 'description', 'it', 'is', 'for', 'this', 'reason', 'that', 'some', 'claim', 'proudhon', 'as', 'the', 'founder', 'of', 'modern', 'anarchist', 'theory'], ['in', 'what', 'is', 'property', 'proudhon', 'answers', 'with', 'the', 'famous', 'accusation', 'property', 'is', 'theft', 'in', 'this', 'work', 'he', 'opposed', 'the', 'institution', 'of', 'decreed', 'property', 'propri', 't', 'where', 'owners', 'have', 'complete', 'rights'], ['to', 'use', 'and', 'abuse', 'their', 'property', 'as', 'they', 'wish', 'such', 'as', 'exploiting', 'workers', 'for', 'profit', 'in', 'its', 'place', 'proudhon', 'supported', 'what', 'he', 'called', 'possession', 'individuals', 'can', 'have', 'limited', 'rights', 'to'], ['use', 'resources', 'capital', 'and', 'goods', 'in', 'accordance', 'with', 'principles', 'of', 'equality', 'and', 'justice', 'proudhon', 's', 'vision', 'of', 'anarchy', 'which', 'he', 'called', 'mutualism', 'mutuellisme', 'involved', 'an', 'exchange', 'economy', 'where', 'individuals', 'and'], ['groups', 'could', 'trade', 'the', 'products', 'of', 'their', 'labor', 'using', 'labor', 'notes', 'which', 'represented', 'the', 'amount', 'of', 'working', 'time', 'involved', 'in', 'production', 'this', 'would', 'ensure', 'that', 'no', 'one', 'would', 'profit', 'from'], ['the', 'labor', 'of', 'others', 'workers', 'could', 'freely', 'join', 'together', 'in', 'co', 'operative', 'workshops', 'an', 'interest', 'free', 'bank', 'would', 'be', 'set', 'up', 'to', 'provide', 'everyone', 'with', 'access', 'to', 'the', 'means', 'of'], ['production', 'proudhon', 's', 'ideas', 'were', 'influential', 'within', 'french', 'working', 'class', 'movements', 'and', 'his', 'followers', 'were', 'active', 'in', 'the', 'revolution', 'of', 'one', 'eight', 'four', 'eight', 'in', 'france', 'proudhon', 's', 'philosophy', 'of'], ['property', 'is', 'complex', 'it', 'was', 'developed', 'in', 'a', 'number', 'of', 'works', 'over', 'his', 'lifetime', 'and', 'there', 'are', 'differing', 'interpretations', 'of', 'some', 'of', 'his', 'ideas', 'for', 'more', 'detailed', 'discussion', 'see', 'here'], ['max', 'stirner', 's', 'egoism', 'in', 'his', 'the', 'ego', 'and', 'its', 'own', 'stirner', 'argued', 'that', 'most', 'commonly', 'accepted', 'social', 'institutions', 'including', 'the', 'notion', 'of', 'state', 'property', 'as', 'a', 'right', 'natural', 'rights'], ['in', 'general', 'and', 'the', 'very', 'notion', 'of', 'society', 'were', 'mere', 'illusions', 'or', 'ghosts', 'in', 'the', 'mind', 'saying', 'of', 'society', 'that', 'the', 'individuals', 'are', 'its', 'reality', 'he', 'advocated', 'egoism', 'and', 'a'], ['form', 'of', 'amoralism', 'in', 'which', 'individuals', 'would', 'unite', 'in', 'associations', 'of', 'egoists', 'only', 'when', 'it', 'was', 'in', 'their', 'self', 'interest', 'to', 'do', 'so', 'for', 'him', 'property', 'simply', 'comes', 'about', 'through'], ['might', 'whoever', 'knows', 'how', 'to', 'take', 'to', 'defend', 'the', 'thing', 'to', 'him', 'belongs', 'property', 'and', 'what', 'i', 'have', 'in', 'my', 'power', 'that', 'is', 'my', 'own', 'so', 'long', 'as', 'i', 'assert'], ['myself', 'as', 'holder', 'i', 'am', 'the', 'proprietor', 'of', 'the', 'thing', 'stirner', 'never', 'called', 'himself', 'an', 'anarchist', 'he', 'accepted', 'only', 'the', 'label', 'egoist', 'nevertheless', 'his', 'ideas', 'were', 'influential', 'on', 'many', 'individualistically'], ['inclined', 'anarchists', 'although', 'interpretations', 'of', 'his', 'thought', 'are', 'diverse', 'american', 'individualist', 'anarchism', 'benjamin', 'tucker', 'in', 'one', 'eight', 'two', 'five', 'josiah', 'warren', 'had', 'participated', 'in', 'a', 'communitarian', 'experiment', 'headed', 'by', 'robert'], ['owen', 'called', 'new', 'harmony', 'which', 'failed', 'in', 'a', 'few', 'years', 'amidst', 'much', 'internal', 'conflict', 'warren', 'blamed', 'the', 'community', 's', 'failure', 'on', 'a', 'lack', 'of', 'individual', 'sovereignty', 'and', 'a', 'lack', 'of'], ['private', 'property', 'warren', 'proceeded', 'to', 'organise', 'experimenal', 'anarchist', 'communities', 'which', 'respected', 'what', 'he', 'called', 'the', 'sovereignty', 'of', 'the', 'individual', 'at', 'utopia', 'and', 'modern', 'times', 'in', 'one', 'eight', 'three', 'three', 'warren'], ['wrote', 'and', 'published', 'the', 'peaceful', 'revolutionist', 'which', 'some', 'have', 'noted', 'to', 'be', 'the', 'first', 'anarchist', 'periodical', 'ever', 'published', 'benjamin', 'tucker', 'says', 'that', 'warren', 'was', 'the', 'first', 'man', 'to', 'expound', 'and'], ['formulate', 'the', 'doctrine', 'now', 'known', 'as', 'anarchism', 'liberty', 'xiv', 'december', 'one', 'nine', 'zero', 'zero', 'one', 'benjamin', 'tucker', 'became', 'interested', 'in', 'anarchism', 'through', 'meeting', 'josiah', 'warren', 'and', 'william', 'b', 'greene', 'he'], ['edited', 'and', 'published', 'liberty', 'from', 'august', 'one', 'eight', 'eight', 'one', 'to', 'april', 'one', 'nine', 'zero', 'eight', 'it', 'is', 'widely', 'considered', 'to', 'be', 'the', 'finest', 'individualist', 'anarchist', 'periodical', 'ever', 'issued', 'in'], ['the', 'english', 'language', 'tucker', 's', 'conception', 'of', 'individualist', 'anarchism', 'incorporated', 'the', 'ideas', 'of', 'a', 'variety', 'of', 'theorists', 'greene', 's', 'ideas', 'on', 'mutual', 'banking', 'warren', 's', 'ideas', 'on', 'cost', 'as', 'the'], ['limit', 'of', 'price', 'a', 'heterodox', 'variety', 'of', 'labour', 'theory', 'of', 'value', 'proudhon', 's', 'market', 'anarchism', 'max', 'stirner', 's', 'egoism', 'and', 'herbert', 'spencer', 's', 'law', 'of', 'equal', 'freedom', 'tucker', 'strongly', 'supported'], ['the', 'individual', 's', 'right', 'to', 'own', 'the', 'product', 'of', 'his', 'or', 'her', 'labour', 'as', 'private', 'property', 'and', 'believed', 'in', 'a', 'market', 'economy', 'for', 'trading', 'this', 'property', 'he', 'argued', 'that', 'in'], ['a', 'truly', 'free', 'market', 'system', 'without', 'the', 'state', 'the', 'abundance', 'of', 'competition', 'would', 'eliminate', 'profits', 'and', 'ensure', 'that', 'all', 'workers', 'received', 'the', 'full', 'value', 'of', 'their', 'labor', 'other', 'one', 'nine'], ['th', 'century', 'individualists', 'included', 'lysander', 'spooner', 'stephen', 'pearl', 'andrews', 'and', 'victor', 'yarros', 'the', 'first', 'international', 'mikhail', 'bakunin', 'one', 'eight', 'one', 'four', 'one', 'eight', 'seven', 'six', 'in', 'europe', 'harsh', 'reaction', 'followed'], ['the', 'revolutions', 'of', 'one', 'eight', 'four', 'eight', 'twenty', 'years', 'later', 'in', 'one', 'eight', 'six', 'four', 'the', 'international', 'workingmen', 's', 'association', 'sometimes', 'called', 'the', 'first', 'international', 'united', 'some', 'diverse', 'european', 'revolutionary'], ['currents', 'including', 'anarchism', 'due', 'to', 'its', 'genuine', 'links', 'to', 'active', 'workers', 'movements', 'the', 'international', 'became', 'signficiant', 'from', 'the', 'start', 'karl', 'marx', 'was', 'a', 'leading', 'figure', 'in', 'the', 'international', 'he', 'was'], ['elected', 'to', 'every', 'succeeding', 'general', 'council', 'of', 'the', 'association', 'the', 'first', 'objections', 'to', 'marx', 'came', 'from', 'the', 'mutualists', 'who', 'opposed', 'communism', 'and', 'statism', 'shortly', 'after', 'mikhail', 'bakunin', 'and', 'his', 'followers'], ['joined', 'in', 'one', 'eight', 'six', 'eight', 'the', 'first', 'international', 'became', 'polarised', 'into', 'two', 'camps', 'with', 'marx', 'and', 'bakunin', 'as', 'their', 'respective', 'figureheads', 'the', 'clearest', 'difference', 'between', 'the', 'camps', 'was', 'over'], ['strategy', 'the', 'anarchists', 'around', 'bakunin', 'favoured', 'in', 'kropotkin', 's', 'words', 'direct', 'economical', 'struggle', 'against', 'capitalism', 'without', 'interfering', 'in', 'the', 'political', 'parliamentary', 'agitation', 'at', 'that', 'time', 'marx', 'and', 'his', 'followers', 'focused'], ['on', 'parliamentary', 'activity', 'bakunin', 'characterised', 'marx', 's', 'ideas', 'as', 'authoritarian', 'and', 'predicted', 'that', 'if', 'a', 'marxist', 'party', 'gained', 'to', 'power', 'its', 'leaders', 'would', 'end', 'up', 'as', 'bad', 'as', 'the', 'ruling'], ['class', 'they', 'had', 'fought', 'against', 'in', 'one', 'eight', 'seven', 'two', 'the', 'conflict', 'climaxed', 'with', 'a', 'final', 'split', 'between', 'the', 'two', 'groups', 'at', 'the', 'hague', 'congress', 'this', 'is', 'often', 'cited', 'as'], ['the', 'origin', 'of', 'the', 'conflict', 'between', 'anarchists', 'and', 'marxists', 'from', 'this', 'moment', 'the', 'social', 'democratic', 'and', 'libertarian', 'currents', 'of', 'socialism', 'had', 'distinct', 'organisations', 'including', 'rival', 'internationals', 'anarchist', 'communism', 'peter', 'kropotkin'], ['proudhon', 'and', 'bakunin', 'both', 'opposed', 'communism', 'associating', 'it', 'with', 'statism', 'however', 'in', 'the', 'one', 'eight', 'seven', 'zero', 's', 'many', 'anarchists', 'moved', 'away', 'from', 'bakunin', 's', 'economic', 'thinking', 'called', 'collectivism', 'and'], ['embraced', 'communist', 'concepts', 'communists', 'believed', 'the', 'means', 'of', 'production', 'should', 'be', 'owned', 'collectively', 'and', 'that', 'goods', 'be', 'distributed', 'by', 'need', 'not', 'labor', 'an', 'early', 'anarchist', 'communist', 'was', 'joseph', 'd', 'jacque'], ['the', 'first', 'person', 'to', 'describe', 'himself', 'as', 'libertarian', 'unlike', 'proudhon', 'he', 'argued', 'that', 'it', 'is', 'not', 'the', 'product', 'of', 'his', 'or', 'her', 'labor', 'that', 'the', 'worker', 'has', 'a', 'right', 'to'], ['but', 'to', 'the', 'satisfaction', 'of', 'his', 'or', 'her', 'needs', 'whatever', 'may', 'be', 'their', 'nature', 'he', 'announced', 'his', 'ideas', 'in', 'his', 'us', 'published', 'journal', 'le', 'libertaire', 'one', 'eight', 'five', 'eight', 'one'], ['eight', 'six', 'one', 'peter', 'kropotkin', 'often', 'seen', 'as', 'the', 'most', 'important', 'theorist', 'outlined', 'his', 'economic', 'ideas', 'in', 'the', 'conquest', 'of', 'bread', 'and', 'fields', 'factories', 'and', 'workshops', 'he', 'felt', 'co', 'operation'], ['is', 'more', 'beneficial', 'than', 'competition', 'illustrated', 'in', 'nature', 'in', 'mutual', 'aid', 'a', 'factor', 'of', 'evolution', 'one', 'eight', 'nine', 'seven', 'subsequent', 'anarchist', 'communists', 'include', 'emma', 'goldman', 'and', 'alexander', 'berkman', 'many', 'in'], ['the', 'anarcho', 'syndicalist', 'movements', 'see', 'below', 'saw', 'anarchist', 'communism', 'as', 'their', 'objective', 'isaac', 'puente', 's', 'one', 'nine', 'three', 'two', 'comunismo', 'libertario', 'was', 'adopted', 'by', 'the', 'spanish', 'cnt', 'as', 'its', 'manifesto'], ['for', 'a', 'post', 'revolutionary', 'society', 'some', 'anarchists', 'disliked', 'merging', 'communism', 'with', 'anarchism', 'several', 'individualist', 'anarchists', 'maintained', 'that', 'abolition', 'of', 'private', 'property', 'was', 'not', 'consistent', 'with', 'liberty', 'for', 'example', 'benjamin', 'tucker'], ['whilst', 'professing', 'respect', 'for', 'kropotkin', 'and', 'publishing', 'his', 'work', 'described', 'communist', 'anarchism', 'as', 'pseudo', 'anarchism', 'propaganda', 'of', 'the', 'deed', 'johann', 'most', 'was', 'an', 'outspoken', 'advocate', 'of', 'violence', 'anarchists', 'have', 'often'], ['been', 'portrayed', 'as', 'dangerous', 'and', 'violent', 'due', 'mainly', 'to', 'a', 'number', 'of', 'high', 'profile', 'violent', 'acts', 'including', 'riots', 'assassinations', 'insurrections', 'and', 'terrorism', 'by', 'some', 'anarchists', 'some', 'revolutionaries', 'of', 'the', 'late'], ['one', 'nine', 'th', 'century', 'encouraged', 'acts', 'of', 'political', 'violence', 'such', 'as', 'bombings', 'and', 'the', 'assassinations', 'of', 'heads', 'of', 'state', 'to', 'further', 'anarchism', 'such', 'actions', 'have', 'sometimes', 'been', 'called', 'propaganda', 'by'], ['the', 'deed', 'one', 'of', 'the', 'more', 'outspoken', 'advocates', 'of', 'this', 'strategy', 'was', 'johann', 'most', 'who', 'said', 'the', 'existing', 'system', 'will', 'be', 'quickest', 'and', 'most', 'radically', 'overthrown', 'by', 'the', 'annihilation', 'of'], ['its', 'exponents', 'therefore', 'massacres', 'of', 'the', 'enemies', 'of', 'the', 'people', 'must', 'be', 'set', 'in', 'motion', 'most', 's', 'preferred', 'method', 'of', 'terrorism', 'dynamite', 'earned', 'him', 'the', 'moniker', 'dynamost', 'however', 'there', 'is'], ['no', 'consensus', 'on', 'the', 'legitimacy', 'or', 'utility', 'of', 'violence', 'in', 'general', 'mikhail', 'bakunin', 'and', 'errico', 'malatesta', 'for', 'example', 'wrote', 'of', 'violence', 'as', 'a', 'necessary', 'and', 'sometimes', 'desirable', 'force', 'in', 'revolutionary'], ['settings', 'but', 'at', 'the', 'same', 'time', 'they', 'denounced', 'acts', 'of', 'individual', 'terrorism', 'malatesta', 'in', 'on', 'violence', 'and', 'bakunin', 'when', 'he', 'refuted', 'nechaev', 'other', 'anarchists', 'sometimes', 'identified', 'as', 'pacifist', 'anarchists', 'advocated'], ['complete', 'nonviolence', 'leo', 'tolstoy', 'whose', 'philosophy', 'is', 'often', 'viewed', 'as', 'a', 'form', 'of', 'christian', 'anarchism', 'see', 'below', 'was', 'a', 'notable', 'exponent', 'of', 'nonviolent', 'resistance', 'anarchism', 'in', 'the', 'labour', 'movement', 'the'], ['red', 'and', 'black', 'flag', 'coming', 'from', 'the', 'experience', 'of', 'anarchists', 'in', 'the', 'labour', 'movement', 'is', 'particularly', 'associated', 'with', 'anarcho', 'syndicalism', 'anarcho', 'syndicalism', 'was', 'an', 'early', 'two', 'zero', 'th', 'century', 'working'], ['class', 'movement', 'seeking', 'to', 'overthrow', 'capitalism', 'and', 'the', 'state', 'to', 'institute', 'a', 'worker', 'controlled', 'society', 'the', 'movement', 'pursued', 'industrial', 'actions', 'such', 'as', 'general', 'strike', 'as', 'a', 'primary', 'strategy', 'many', 'anarcho'], ['syndicalists', 'believed', 'in', 'anarchist', 'communism', 'though', 'not', 'all', 'communists', 'believed', 'in', 'syndicalism', 'after', 'the', 'one', 'eight', 'seven', 'one', 'repression', 'french', 'anarchism', 'reemerged', 'influencing', 'the', 'bourses', 'de', 'travails', 'of', 'autonomous', 'workers'], ['groups', 'and', 'trade', 'unions', 'from', 'this', 'movement', 'the', 'conf', 'd', 'ration', 'g', 'n', 'rale', 'du', 'travail', 'general', 'confederation', 'of', 'work', 'cgt', 'was', 'formed', 'in', 'one', 'eight', 'nine', 'five', 'as', 'the'], ['first', 'major', 'anarcho', 'syndicalist', 'movement', 'emile', 'pataud', 'and', 'emile', 'pouget', 's', 'writing', 'for', 'the', 'cgt', 'saw', 'libertarian', 'communism', 'developing', 'from', 'a', 'general', 'strike', 'after', 'one', 'nine', 'one', 'four', 'the', 'cgt'], ['moved', 'away', 'from', 'anarcho', 'syndicalism', 'due', 'to', 'the', 'appeal', 'of', 'bolshevism', 'french', 'style', 'syndicalism', 'was', 'a', 'significant', 'movement', 'in', 'europe', 'prior', 'to', 'one', 'nine', 'two', 'one', 'and', 'remained', 'a', 'significant'], ['movement', 'in', 'spain', 'until', 'the', 'mid', 'one', 'nine', 'four', 'zero', 's', 'the', 'industrial', 'workers', 'of', 'the', 'world', 'iww', 'founded', 'in', 'one', 'nine', 'zero', 'five', 'in', 'the', 'us', 'espoused', 'unionism', 'and'], ['sought', 'a', 'general', 'strike', 'to', 'usher', 'in', 'a', 'stateless', 'society', 'in', 'one', 'nine', 'two', 'three', 'one', 'zero', 'zero', 'zero', 'zero', 'zero', 'members', 'existed', 'with', 'the', 'support', 'of', 'up', 'to', 'three'], ['zero', 'zero', 'zero', 'zero', 'zero', 'though', 'not', 'explicitly', 'anarchist', 'they', 'organized', 'by', 'rank', 'and', 'file', 'democracy', 'embodying', 'a', 'spirit', 'of', 'resistance', 'that', 'has', 'inspired', 'many', 'anglophone', 'syndicalists', 'cnt', 'propaganda', 'from'], ['april', 'two', 'zero', 'zero', 'four', 'reads', 'don', 't', 'let', 'the', 'politicians', 'rule', 'our', 'lives', 'you', 'vote', 'and', 'they', 'decide', 'don', 't', 'allow', 'it', 'unity', 'action', 'self', 'management', 'spanish', 'anarchist', 'trade'], ['union', 'federations', 'were', 'formed', 'in', 'the', 'one', 'eight', 'seven', 'zero', 's', 'one', 'nine', 'zero', 'zero', 'and', 'one', 'nine', 'one', 'zero', 'the', 'most', 'successful', 'was', 'the', 'confederaci', 'n', 'nacional', 'del', 'trabajo'], ['national', 'confederation', 'of', 'labour', 'cnt', 'founded', 'in', 'one', 'nine', 'one', 'zero', 'prior', 'to', 'the', 'one', 'nine', 'four', 'zero', 's', 'the', 'cnt', 'was', 'the', 'major', 'force', 'in', 'spanish', 'working', 'class', 'politics'], ['with', 'a', 'membership', 'of', 'one', 'five', 'eight', 'million', 'in', 'one', 'nine', 'three', 'four', 'the', 'cnt', 'played', 'a', 'major', 'role', 'in', 'the', 'spanish', 'civil', 'war', 'see', 'also', 'anarchism', 'in', 'spain', 'syndicalists'], ['like', 'ricardo', 'flores', 'mag', 'n', 'were', 'key', 'figures', 'in', 'the', 'mexican', 'revolution', 'latin', 'american', 'anarchism', 'was', 'strongly', 'influenced', 'extending', 'to', 'the', 'zapatista', 'rebellion', 'and', 'the', 'factory', 'occupation', 'movements', 'in', 'argentina'], ['in', 'berlin', 'in', 'one', 'nine', 'two', 'two', 'the', 'cnt', 'was', 'joined', 'with', 'the', 'international', 'workers', 'association', 'an', 'anarcho', 'syndicalist', 'successor', 'to', 'the', 'first', 'international', 'contemporary', 'anarcho', 'syndicalism', 'continues', 'as', 'a'], ['minor', 'force', 'in', 'many', 'socities', 'much', 'smaller', 'than', 'in', 'the', 'one', 'nine', 'one', 'zero', 's', 'two', 'zero', 's', 'and', 'three', 'zero', 's', 'the', 'largest', 'organised', 'anarchist', 'movement', 'today', 'is', 'in'], ['spain', 'in', 'the', 'form', 'of', 'the', 'confederaci', 'n', 'general', 'del', 'trabajo', 'and', 'the', 'cnt', 'the', 'cgt', 'claims', 'a', 'paid', 'up', 'membership', 'of', 'six', 'zero', 'zero', 'zero', 'zero', 'and', 'received', 'over'], ['a', 'million', 'votes', 'in', 'spanish', 'syndical', 'elections', 'other', 'active', 'syndicalist', 'movements', 'include', 'the', 'us', 'workers', 'solidarity', 'alliance', 'and', 'the', 'uk', 'solidarity', 'federation', 'the', 'revolutionary', 'industrial', 'unionist', 'industrial', 'workers', 'of', 'the'], ['world', 'also', 'exists', 'claiming', 'two', 'zero', 'zero', 'zero', 'paid', 'members', 'contemporary', 'critics', 'of', 'anarcho', 'syndicalism', 'and', 'revolutionary', 'industrial', 'unionism', 'claim', 'that', 'they', 'are', 'workerist', 'and', 'fail', 'to', 'deal', 'with', 'economic'], ['life', 'outside', 'work', 'post', 'leftist', 'critics', 'such', 'as', 'bob', 'black', 'claim', 'anarcho', 'syndicalism', 'advocates', 'oppressive', 'social', 'structures', 'such', 'as', 'work', 'and', 'the', 'workplace', 'anarcho', 'syndicalists', 'in', 'general', 'uphold', 'principles', 'of'], ['workers', 'solidarity', 'direct', 'action', 'and', 'self', 'management', 'the', 'russian', 'revolution', 'the', 'russian', 'revolution', 'of', 'one', 'nine', 'one', 'seven', 'was', 'a', 'seismic', 'event', 'in', 'the', 'development', 'of', 'anarchism', 'as', 'a', 'movement'], ['and', 'as', 'a', 'philosophy', 'anarchists', 'participated', 'alongside', 'the', 'bolsheviks', 'in', 'both', 'february', 'and', 'october', 'revolutions', 'many', 'anarchists', 'initially', 'supporting', 'the', 'bolshevik', 'coup', 'however', 'the', 'bolsheviks', 'soon', 'turned', 'against', 'the', 'anarchists'], ['and', 'other', 'left', 'wing', 'opposition', 'a', 'conflict', 'which', 'culminated', 'in', 'the', 'one', 'nine', 'one', 'eight', 'kronstadt', 'rebellion', 'anarchists', 'in', 'central', 'russia', 'were', 'imprisoned', 'or', 'driven', 'underground', 'or', 'joined', 'the', 'victorious'], ['bolsheviks', 'in', 'ukraine', 'anarchists', 'fought', 'in', 'the', 'civil', 'war', 'against', 'both', 'whites', 'and', 'bolsheviks', 'within', 'the', 'makhnovshchina', 'peasant', 'army', 'led', 'by', 'nestor', 'makhno', 'expelled', 'american', 'anarchists', 'emma', 'goldman', 'and', 'alexander'], ['berkman', 'before', 'leaving', 'russia', 'were', 'amongst', 'those', 'agitating', 'in', 'response', 'to', 'bolshevik', 'policy', 'and', 'the', 'suppression', 'of', 'the', 'kronstadt', 'uprising', 'both', 'wrote', 'classic', 'accounts', 'of', 'their', 'experiences', 'in', 'russia', 'aiming'], ['to', 'expose', 'the', 'reality', 'of', 'bolshevik', 'control', 'for', 'them', 'bakunin', 's', 'predictions', 'about', 'the', 'consequences', 'of', 'marxist', 'rule', 'had', 'proved', 'all', 'too', 'true', 'the', 'victory', 'of', 'the', 'bolsheviks', 'in', 'the'], ['october', 'revolution', 'and', 'the', 'resulting', 'russian', 'civil', 'war', 'did', 'serious', 'damage', 'to', 'anarchist', 'movements', 'internationally', 'many', 'workers', 'and', 'activists', 'saw', 'bolshevik', 'success', 'as', 'setting', 'an', 'example', 'communist', 'parties', 'grew', 'at'], ['the', 'expense', 'of', 'anarchism', 'and', 'other', 'socialist', 'movements', 'in', 'france', 'and', 'the', 'us', 'for', 'example', 'the', 'major', 'syndicalist', 'movements', 'of', 'the', 'cgt', 'and', 'iww', 'began', 'to', 'realign', 'themselves', 'away', 'from'], ['anarchism', 'and', 'towards', 'the', 'communist', 'international', 'in', 'paris', 'the', 'dielo', 'truda', 'group', 'of', 'russian', 'anarchist', 'exiles', 'which', 'included', 'nestor', 'makhno', 'concluded', 'that', 'anarchists', 'needed', 'to', 'develop', 'new', 'forms', 'of', 'organisation'], ['in', 'response', 'to', 'the', 'structures', 'of', 'bolshevism', 'their', 'one', 'nine', 'two', 'six', 'manifesto', 'known', 'as', 'the', 'organisational', 'platform', 'of', 'the', 'libertarian', 'communists', 'was', 'supported', 'by', 'some', 'communist', 'anarchists', 'though', 'opposed'], ['by', 'many', 'others', 'the', 'platform', 'continues', 'to', 'inspire', 'some', 'contemporary', 'anarchist', 'groups', 'who', 'believe', 'in', 'an', 'anarchist', 'movement', 'organised', 'around', 'its', 'principles', 'of', 'theoretical', 'unity', 'tactical', 'unity', 'collective', 'responsibility', 'and'], ['federalism', 'platformist', 'groups', 'today', 'include', 'the', 'workers', 'solidarity', 'movement', 'in', 'ireland', 'the', 'uk', 's', 'anarchist', 'federation', 'and', 'the', 'late', 'north', 'eastern', 'federation', 'of', 'anarchist', 'communists', 'in', 'the', 'northeastern', 'united', 'states'], ['and', 'bordering', 'canada', 'the', 'fight', 'against', 'fascism', 'spain', 'one', 'nine', 'three', 'six', 'members', 'of', 'the', 'cnt', 'construct', 'armoured', 'cars', 'to', 'fight', 'against', 'the', 'fascists', 'in', 'one', 'of', 'the', 'collectivised', 'factories'], ['in', 'the', 'one', 'nine', 'two', 'zero', 's', 'and', 'one', 'nine', 'three', 'zero', 's', 'the', 'familiar', 'dynamics', 'of', 'anarchism', 's', 'conflict', 'with', 'the', 'state', 'were', 'transformed', 'by', 'the', 'rise', 'of', 'fascism'], ['in', 'europe', 'in', 'many', 'cases', 'european', 'anarchists', 'faced', 'difficult', 'choices', 'should', 'they', 'join', 'in', 'popular', 'fronts', 'with', 'reformist', 'democrats', 'and', 'soviet', 'led', 'communists', 'against', 'a', 'common', 'fascist', 'enemy', 'luigi', 'fabbri'], ['an', 'exile', 'from', 'italian', 'fascism', 'was', 'amongst', 'those', 'arguing', 'that', 'fascism', 'was', 'something', 'different', 'fascism', 'is', 'not', 'just', 'another', 'form', 'of', 'government', 'which', 'like', 'all', 'others', 'uses', 'violence', 'it', 'is'], ['the', 'most', 'authoritarian', 'and', 'the', 'most', 'violent', 'form', 'of', 'government', 'imaginable', 'it', 'represents', 'the', 'utmost', 'glorification', 'of', 'the', 'theory', 'and', 'practice', 'of', 'the', 'principle', 'of', 'authority', 'in', 'france', 'where', 'the'], ['fascists', 'came', 'close', 'to', 'insurrection', 'in', 'the', 'february', 'one', 'nine', 'three', 'four', 'riots', 'anarchists', 'divided', 'over', 'a', 'united', 'front', 'policy', 'in', 'spain', 'the', 'cnt', 'initially', 'refused', 'to', 'join', 'a', 'popular'], ['front', 'electoral', 'alliance', 'and', 'abstention', 'by', 'cnt', 'supporters', 'led', 'to', 'a', 'right', 'wing', 'election', 'victory', 'but', 'in', 'one', 'nine', 'three', 'six', 'the', 'cnt', 'changed', 'its', 'policy', 'and', 'anarchist', 'votes', 'helped'], ['bring', 'the', 'popular', 'front', 'back', 'to', 'power', 'months', 'later', 'the', 'ruling', 'class', 'responded', 'with', 'an', 'attempted', 'coup', 'and', 'the', 'spanish', 'civil', 'war', 'one', 'nine', 'three', 'six', 'three', 'nine', 'was', 'underway'], ['in', 'reponse', 'to', 'the', 'army', 'rebellion', 'an', 'anarchist', 'inspired', 'movement', 'of', 'peasants', 'and', 'workers', 'supported', 'by', 'armed', 'militias', 'took', 'control', 'of', 'the', 'major', 'city', 'of', 'barcelona', 'and', 'of', 'large', 'areas'], ['of', 'rural', 'spain', 'where', 'they', 'collectivized', 'the', 'land', 'but', 'even', 'before', 'the', 'eventual', 'fascist', 'victory', 'in', 'one', 'nine', 'three', 'nine', 'the', 'anarchists', 'were', 'losing', 'ground', 'in', 'a', 'bitter', 'struggle', 'with'], ['the', 'stalinists', 'the', 'cnt', 'leadership', 'often', 'appeared', 'confused', 'and', 'divided', 'with', 'some', 'members', 'controversially', 'entering', 'the', 'government', 'stalinist', 'led', 'troops', 'suppressed', 'the', 'collectives', 'and', 'persecuted', 'both', 'dissident', 'marxists', 'and', 'anarchists'], ['since', 'the', 'late', 'one', 'nine', 'seven', 'zero', 's', 'anarchists', 'have', 'been', 'involved', 'in', 'fighting', 'the', 'rise', 'of', 'neo', 'fascist', 'groups', 'in', 'germany', 'and', 'the', 'united', 'kingdom', 'some', 'anarchists', 'worked', 'within'], ['militant', 'anti', 'fascist', 'groups', 'alongside', 'members', 'of', 'the', 'marxist', 'left', 'they', 'advocated', 'directly', 'combating', 'fascists', 'with', 'physical', 'force', 'rather', 'than', 'relying', 'on', 'the', 'state', 'since', 'the', 'late', 'one', 'nine', 'nine'], ['zero', 's', 'a', 'similar', 'tendency', 'has', 'developed', 'within', 'us', 'anarchism', 'see', 'also', 'anti', 'racist', 'action', 'us', 'anti', 'fascist', 'action', 'uk', 'antifa', 'religious', 'anarchism', 'leo', 'tolstoy', 'one', 'eight', 'two', 'eight', 'one'], ['nine', 'one', 'zero', 'most', 'anarchist', 'culture', 'tends', 'to', 'be', 'secular', 'if', 'not', 'outright', 'anti', 'religious', 'however', 'the', 'combination', 'of', 'religious', 'social', 'conscience', 'historical', 'religiousity', 'amongst', 'oppressed', 'social', 'classes', 'and', 'the'], ['compatibility', 'of', 'some', 'interpretations', 'of', 'religious', 'traditions', 'with', 'anarchism', 'has', 'resulted', 'in', 'religious', 'anarchism', 'christian', 'anarchists', 'believe', 'that', 'there', 'is', 'no', 'higher', 'authority', 'than', 'god', 'and', 'oppose', 'earthly', 'authority', 'such'], ['as', 'government', 'and', 'established', 'churches', 'they', 'believe', 'that', 'jesus', 'teachings', 'were', 'clearly', 'anarchistic', 'but', 'were', 'corrupted', 'when', 'christianity', 'was', 'declared', 'the', 'official', 'religion', 'of', 'rome', 'christian', 'anarchists', 'who', 'follow', 'jesus'], ['directive', 'to', 'turn', 'the', 'other', 'cheek', 'are', 'strict', 'pacifists', 'the', 'most', 'famous', 'advocate', 'of', 'christian', 'anarchism', 'was', 'leo', 'tolstoy', 'author', 'of', 'the', 'kingdom', 'of', 'god', 'is', 'within', 'you', 'who', 'called'], ['for', 'a', 'society', 'based', 'on', 'compassion', 'nonviolent', 'principles', 'and', 'freedom', 'christian', 'anarchists', 'tend', 'to', 'form', 'experimental', 'communities', 'they', 'also', 'occasionally', 'resist', 'taxation', 'many', 'christian', 'anarchists', 'are', 'vegetarian', 'or', 'vegan', 'christian'], ['anarchy', 'can', 'be', 'said', 'to', 'have', 'roots', 'as', 'old', 'as', 'the', 'religion', 's', 'birth', 'as', 'the', 'early', 'church', 'exhibits', 'many', 'anarchistic', 'tendencies', 'such', 'as', 'communal', 'goods', 'and', 'wealth', 'by', 'aiming'], ['to', 'obey', 'utterly', 'certain', 'of', 'the', 'bible', 's', 'teachings', 'certain', 'anabaptist', 'groups', 'of', 'sixteenth', 'century', 'europe', 'attempted', 'to', 'emulate', 'the', 'early', 'church', 's', 'social', 'economic', 'organisation', 'and', 'philosophy', 'by', 'regarding'], ['it', 'as', 'the', 'only', 'social', 'structure', 'capable', 'of', 'true', 'obediance', 'to', 'jesus', 'teachings', 'and', 'utterly', 'rejected', 'in', 'theory', 'all', 'earthly', 'hierarchies', 'and', 'authority', 'and', 'indeed', 'non', 'anabaptists', 'in', 'general', 'and'], ['violence', 'as', 'ungodly', 'such', 'groups', 'for', 'example', 'the', 'hutterites', 'typically', 'went', 'from', 'initially', 'anarchistic', 'beginnings', 'to', 'as', 'their', 'movements', 'stabalised', 'more', 'authoritarian', 'social', 'models', 'chinese', 'anarchism', 'was', 'most', 'influential', 'in'], ['the', 'one', 'nine', 'two', 'zero', 's', 'strands', 'of', 'chinese', 'anarchism', 'included', 'tai', 'xu', 's', 'buddhist', 'anarchism', 'which', 'was', 'influenced', 'by', 'tolstoy', 'and', 'the', 'well', 'field', 'system', 'neopaganism', 'with', 'its', 'focus'], ['on', 'the', 'environment', 'and', 'equality', 'along', 'with', 'its', 'often', 'decentralized', 'nature', 'has', 'lead', 'to', 'a', 'number', 'of', 'neopagan', 'anarchists', 'one', 'of', 'the', 'most', 'prominent', 'is', 'starhawk', 'who', 'writes', 'extensively', 'about'], ['both', 'spirituality', 'and', 'activism', 'anarchism', 'and', 'feminism', 'emma', 'goldman', 'early', 'french', 'feminists', 'such', 'as', 'jenny', 'd', 'h', 'ricourt', 'and', 'juliette', 'adam', 'criticised', 'the', 'mysogyny', 'in', 'the', 'anarchism', 'of', 'proudhon', 'during'], ['the', 'one', 'eight', 'five', 'zero', 's', 'anarcha', 'feminism', 'is', 'a', 'kind', 'of', 'radical', 'feminism', 'that', 'espouses', 'the', 'belief', 'that', 'patriarchy', 'is', 'a', 'fundamental', 'problem', 'in', 'society', 'while', 'anarchist', 'feminism', 'has'], ['existed', 'for', 'more', 'than', 'a', 'hundred', 'years', 'its', 'explicit', 'formulation', 'as', 'anarcha', 'feminism', 'dates', 'back', 'to', 'the', 'early', 'seven', 'zero', 's', 'during', 'the', 'second', 'wave', 'feminist', 'movement', 'anarcha', 'feminism', 'views'], ['patriarchy', 'as', 'the', 'first', 'manifestation', 'of', 'hierarchy', 'in', 'human', 'history', 'thus', 'the', 'first', 'form', 'of', 'oppression', 'occurred', 'in', 'the', 'dominance', 'of', 'male', 'over', 'female', 'anarcha', 'feminists', 'then', 'conclude', 'that', 'if'], ['feminists', 'are', 'against', 'patriarchy', 'they', 'must', 'also', 'be', 'against', 'all', 'forms', 'of', 'hierarchy', 'and', 'therefore', 'must', 'reject', 'the', 'authoritarian', 'nature', 'of', 'the', 'state', 'and', 'capitalism', 'anarcho', 'primitivists', 'see', 'the', 'creation'], ['of', 'gender', 'roles', 'and', 'patriarchy', 'a', 'creation', 'of', 'the', 'start', 'of', 'civilization', 'and', 'therefore', 'consider', 'primitivism', 'to', 'also', 'be', 'an', 'anarchist', 'school', 'of', 'thought', 'that', 'addresses', 'feminist', 'concerns', 'eco', 'feminism'], ['is', 'often', 'considered', 'a', 'feminist', 'variant', 'of', 'green', 'anarchist', 'feminist', 'thought', 'anarcha', 'feminism', 'is', 'most', 'often', 'associated', 'with', 'early', 'two', 'zero', 'th', 'century', 'authors', 'and', 'theorists', 'such', 'as', 'emma', 'goldman'], ['and', 'voltairine', 'de', 'cleyre', 'although', 'even', 'early', 'first', 'wave', 'feminist', 'mary', 'wollstonecraft', 'held', 'proto', 'anarchist', 'views', 'and', 'william', 'godwin', 'is', 'often', 'considered', 'a', 'feminist', 'anarchist', 'precursor', 'it', 'should', 'be', 'noted'], ['that', 'goldman', 'and', 'de', 'cleyre', 'though', 'they', 'both', 'opposed', 'the', 'state', 'had', 'opposing', 'philosophies', 'as', 'de', 'cleyre', 'explains', 'miss', 'goldman', 'is', 'a', 'communist', 'i', 'am', 'an', 'individualist', 'she', 'wishes', 'to'], ['destroy', 'the', 'right', 'of', 'property', 'i', 'wish', 'to', 'assert', 'it', 'i', 'make', 'my', 'war', 'upon', 'privilege', 'and', 'authority', 'whereby', 'the', 'right', 'of', 'property', 'the', 'true', 'right', 'in', 'that', 'which', 'is'], ['proper', 'to', 'the', 'individual', 'is', 'annihilated', 'she', 'believes', 'that', 'co', 'operation', 'would', 'entirely', 'supplant', 'competition', 'i', 'hold', 'that', 'competition', 'in', 'one', 'form', 'or', 'another', 'will', 'always', 'exist', 'and', 'that', 'it'], ['is', 'highly', 'desirable', 'it', 'should', 'in', 'the', 'spanish', 'civil', 'war', 'an', 'anarcha', 'feminist', 'group', 'free', 'women', 'organized', 'to', 'defend', 'both', 'anarchist', 'and', 'feminist', 'ideas', 'in', 'the', 'modern', 'day', 'anarchist', 'movement'], ['many', 'anarchists', 'male', 'or', 'female', 'consider', 'themselves', 'feminists', 'and', 'anarcha', 'feminist', 'ideas', 'are', 'growing', 'the', 'publishing', 'of', 'quiet', 'rumors', 'an', 'anarcha', 'feminist', 'reader', 'has', 'helped', 'to', 'spread', 'various', 'kinds', 'of'], ['anti', 'authoritarian', 'and', 'anarchist', 'feminist', 'ideas', 'to', 'the', 'broader', 'movement', 'wendy', 'mcelroy', 'has', 'popularized', 'an', 'individualist', 'anarchism', 'take', 'on', 'feminism', 'in', 'her', 'books', 'articles', 'and', 'individualist', 'feminist', 'website', 'anarcho', 'capitalism'], ['murray', 'rothbard', 'one', 'nine', 'two', 'six', 'one', 'nine', 'nine', 'five', 'anarcho', 'capitalism', 'is', 'a', 'predominantly', 'united', 'states', 'based', 'theoretical', 'tradition', 'that', 'desires', 'a', 'stateless', 'society', 'with', 'the', 'economic', 'system', 'of'], ['free', 'market', 'capitalism', 'unlike', 'other', 'branches', 'of', 'anarchism', 'it', 'does', 'not', 'oppose', 'profit', 'or', 'capitalism', 'consequently', 'most', 'anarchists', 'do', 'not', 'recognise', 'anarcho', 'capitalism', 'as', 'a', 'form', 'of', 'anarchism', 'murray', 'rothbard'], ['s', 'synthesis', 'of', 'classical', 'liberalism', 'and', 'austrian', 'economics', 'was', 'germinal', 'for', 'the', 'development', 'of', 'contemporary', 'anarcho', 'capitalist', 'theory', 'he', 'defines', 'anarcho', 'capitalism', 'in', 'terms', 'of', 'the', 'non', 'aggression', 'principle', 'based'], ['on', 'the', 'concept', 'of', 'natural', 'law', 'competiting', 'theorists', 'use', 'egoism', 'utilitarianism', 'used', 'by', 'david', 'friedman', 'or', 'contractarianism', 'used', 'by', 'jan', 'narveson', 'some', 'minarchists', 'such', 'as', 'ayn', 'rand', 'robert', 'nozick', 'and'], ['robert', 'a', 'heinlein', 'have', 'influenced', 'anarcho', 'capitalism', 'some', 'anarcho', 'capitalists', 'along', 'with', 'some', 'right', 'wing', 'libertarian', 'historians', 'such', 'as', 'david', 'hart', 'and', 'ralph', 'raico', 'considered', 'similar', 'philosophies', 'existing', 'prior', 'to'], ['rothbard', 'to', 'be', 'anarcho', 'capitalist', 'such', 'as', 'those', 'of', 'gustave', 'de', 'molinari', 'and', 'auberon', 'herbert', 'opponents', 'of', 'anarcho', 'capitalists', 'dispute', 'these', 'claims', 'the', 'place', 'of', 'anarcho', 'capitalism', 'within', 'anarchism', 'and'], ['indeed', 'whether', 'it', 'is', 'a', 'form', 'of', 'anarchism', 'at', 'all', 'is', 'highly', 'controversial', 'for', 'more', 'on', 'this', 'debate', 'see', 'anarchism', 'and', 'anarcho', 'capitalism', 'anarchism', 'and', 'the', 'environment', 'since', 'the', 'late'], ['one', 'nine', 'seven', 'zero', 's', 'anarchists', 'in', 'anglophone', 'and', 'european', 'countries', 'have', 'been', 'taking', 'action', 'for', 'the', 'natural', 'environment', 'eco', 'anarchists', 'or', 'green', 'anarchists', 'believe', 'in', 'deep', 'ecology', 'this', 'is'], ['a', 'worldview', 'that', 'embraces', 'biodiversity', 'and', 'sustainability', 'eco', 'anarchists', 'often', 'use', 'direct', 'action', 'against', 'what', 'they', 'see', 'as', 'earth', 'destroying', 'institutions', 'of', 'particular', 'importance', 'is', 'the', 'earth', 'first', 'movement', 'that'], ['takes', 'action', 'such', 'as', 'tree', 'sitting', 'another', 'important', 'component', 'is', 'ecofeminism', 'which', 'sees', 'the', 'domination', 'of', 'nature', 'as', 'a', 'metaphor', 'for', 'the', 'domination', 'of', 'women', 'green', 'anarchism', 'also', 'involves', 'a'], ['critique', 'of', 'industrial', 'capitalism', 'and', 'for', 'some', 'green', 'anarchists', 'civilization', 'itself', 'primitivism', 'is', 'a', 'predominantly', 'western', 'philosophy', 'that', 'advocates', 'a', 'return', 'to', 'a', 'pre', 'industrial', 'and', 'usually', 'pre', 'agricultural', 'society'], ['it', 'develops', 'a', 'critique', 'of', 'industrial', 'civilization', 'in', 'this', 'critique', 'technology', 'and', 'development', 'have', 'alienated', 'people', 'from', 'the', 'natural', 'world', 'this', 'philosophy', 'develops', 'themes', 'present', 'in', 'the', 'political', 'action', 'of'], ['the', 'luddites', 'and', 'the', 'writings', 'of', 'jean', 'jacques', 'rousseau', 'primitivism', 'developed', 'in', 'the', 'context', 'of', 'the', 'reclaim', 'the', 'streets', 'earth', 'first', 'and', 'the', 'earth', 'liberation', 'front', 'movements', 'john', 'zerzan', 'wrote'], ['that', 'civilization', 'not', 'just', 'the', 'state', 'would', 'need', 'to', 'fall', 'for', 'anarchy', 'to', 'be', 'achieved', 'anarcho', 'primitivists', 'point', 'to', 'the', 'anti', 'authoritarian', 'nature', 'of', 'many', 'primitive', 'or', 'hunter', 'gatherer', 'societies'], ['throughout', 'the', 'world', 's', 'history', 'as', 'examples', 'of', 'anarchist', 'societies', 'other', 'branches', 'and', 'offshoots', 'anarchism', 'generates', 'many', 'eclectic', 'and', 'syncretic', 'philosophies', 'and', 'movements', 'since', 'the', 'western', 'social', 'formet', 'in', 'the'], ['one', 'nine', 'six', 'zero', 's', 'and', 'one', 'nine', 'seven', 'zero', 's', 'a', 'number', 'new', 'of', 'movements', 'and', 'schools', 'have', 'appeared', 'most', 'of', 'these', 'stances', 'are', 'limited', 'to', 'even', 'smaller', 'numbers'], ['than', 'the', 'schools', 'and', 'movements', 'listed', 'above', 'hakim', 'bey', 'post', 'left', 'anarchy', 'post', 'left', 'anarchy', 'also', 'called', 'egoist', 'anarchism', 'seeks', 'to', 'distance', 'itself', 'from', 'the', 'traditional', 'left', 'communists', 'liberals', 'social'], ['democrats', 'etc', 'and', 'to', 'escape', 'the', 'confines', 'of', 'ideology', 'in', 'general', 'post', 'leftists', 'argue', 'that', 'anarchism', 'has', 'been', 'weakened', 'by', 'its', 'long', 'attachment', 'to', 'contrary', 'leftist', 'movements', 'and', 'single', 'issue'], ['causes', 'anti', 'war', 'anti', 'nuclear', 'etc', 'it', 'calls', 'for', 'a', 'synthesis', 'of', 'anarchist', 'thought', 'and', 'a', 'specifically', 'anti', 'authoritarian', 'revolutionary', 'movement', 'outside', 'of', 'the', 'leftist', 'milieu', 'it', 'often', 'focuses', 'on'], ['the', 'individual', 'rather', 'than', 'speaking', 'in', 'terms', 'of', 'class', 'or', 'other', 'broad', 'generalizations', 'and', 'shuns', 'organizational', 'tendencies', 'in', 'favor', 'of', 'the', 'complete', 'absence', 'of', 'explicit', 'hierarchy', 'important', 'groups', 'and', 'individuals'], ['associated', 'with', 'post', 'left', 'anarchy', 'include', 'crimethinc', 'the', 'magazine', 'anarchy', 'a', 'journal', 'of', 'desire', 'armed', 'and', 'its', 'editor', 'jason', 'mcquinn', 'bob', 'black', 'hakim', 'bey', 'and', 'others', 'for', 'more', 'information', 'see'], ['infoshop', 'org', 's', 'anarchy', 'after', 'leftism', 'section', 'and', 'the', 'post', 'left', 'section', 'on', 'anarchism', 'ws', 'see', 'also', 'post', 'left', 'anarchy', 'post', 'structuralism', 'the', 'term', 'postanarchism', 'was', 'originated', 'by', 'saul', 'newman'], ['first', 'receiving', 'popular', 'attention', 'in', 'his', 'book', 'from', 'bakunin', 'to', 'lacan', 'to', 'refer', 'to', 'a', 'theoretical', 'move', 'towards', 'a', 'synthesis', 'of', 'classical', 'anarchist', 'theory', 'and', 'poststructuralist', 'thought', 'subsequent', 'to', 'newman'], ['s', 'use', 'of', 'the', 'term', 'however', 'it', 'has', 'taken', 'on', 'a', 'life', 'of', 'its', 'own', 'and', 'a', 'wide', 'range', 'of', 'ideas', 'including', 'autonomism', 'post', 'left', 'anarchy', 'situationism', 'post', 'colonialism', 'and'], ['zapatismo', 'by', 'its', 'very', 'nature', 'post', 'anarchism', 'rejects', 'the', 'idea', 'that', 'it', 'should', 'be', 'a', 'coherent', 'set', 'of', 'doctrines', 'and', 'beliefs', 'as', 'such', 'it', 'is', 'difficult', 'if', 'not', 'impossible', 'to'], ['state', 'with', 'any', 'degree', 'of', 'certainty', 'who', 'should', 'or', 'shouldn', 't', 'be', 'grouped', 'under', 'the', 'rubric', 'nonetheless', 'key', 'thinkers', 'associated', 'with', 'post', 'anarchism', 'include', 'saul', 'newman', 'todd', 'may', 'gilles', 'deleuze'], ['and', 'f', 'lix', 'guattari', 'external', 'reference', 'postanarchism', 'clearinghouse', 'see', 'also', 'post', 'anarchism', 'insurrectionary', 'anarchism', 'insurrectionary', 'anarchism', 'is', 'a', 'form', 'of', 'revolutionary', 'anarchism', 'critical', 'of', 'formal', 'anarchist', 'labor', 'unions', 'and', 'federations'], ['insurrectionary', 'anarchists', 'advocate', 'informal', 'organization', 'including', 'small', 'affinity', 'groups', 'carrying', 'out', 'acts', 'of', 'resistance', 'in', 'various', 'struggles', 'and', 'mass', 'organizations', 'called', 'base', 'structures', 'which', 'can', 'include', 'exploited', 'individuals', 'who', 'are'], ['not', 'anarchists', 'proponents', 'include', 'wolfi', 'landstreicher', 'and', 'alfredo', 'm', 'bonanno', 'author', 'of', 'works', 'including', 'armed', 'joy', 'and', 'the', 'anarchist', 'tension', 'this', 'tendency', 'is', 'represented', 'in', 'the', 'us', 'in', 'magazines', 'such'], ['as', 'willful', 'disobedience', 'and', 'killing', 'king', 'abacus', 'see', 'also', 'insurrectionary', 'anarchism', 'small', 'a', 'anarchism', 'small', 'a', 'anarchism', 'is', 'a', 'term', 'used', 'in', 'two', 'different', 'but', 'not', 'unconnected', 'contexts', 'dave', 'neal'], ['posited', 'the', 'term', 'in', 'opposition', 'to', 'big', 'a', 'anarchism', 'in', 'the', 'article', 'anarchism', 'ideology', 'or', 'methodology', 'while', 'big', 'a', 'anarchism', 'referred', 'to', 'ideological', 'anarchists', 'small', 'a', 'anarchism', 'was', 'applied', 'to'], ['their', 'methodological', 'counterparts', 'those', 'who', 'viewed', 'anarchism', 'as', 'a', 'way', 'of', 'acting', 'or', 'a', 'historical', 'tendency', 'against', 'illegitimate', 'authority', 'as', 'an', 'anti', 'ideological', 'position', 'small', 'a', 'anarchism', 'shares', 'some', 'similarities'], ['with', 'post', 'left', 'anarchy', 'david', 'graeber', 'and', 'andrej', 'grubacic', 'offer', 'an', 'alternative', 'use', 'of', 'the', 'term', 'applying', 'it', 'to', 'groups', 'and', 'movements', 'organising', 'according', 'to', 'or', 'acting', 'in', 'a', 'manner'], ['consistent', 'with', 'anarchist', 'principles', 'of', 'decentralisation', 'voluntary', 'association', 'mutual', 'aid', 'the', 'network', 'model', 'and', 'crucially', 'the', 'rejection', 'of', 'any', 'idea', 'that', 'the', 'end', 'justifies', 'the', 'means', 'let', 'alone', 'that', 'the'], ['business', 'of', 'a', 'revolutionary', 'is', 'to', 'seize', 'state', 'power', 'and', 'then', 'begin', 'imposing', 'one', 's', 'vision', 'at', 'the', 'point', 'of', 'a', 'gun', 'other', 'issues', 'conceptions', 'of', 'an', 'anarchist', 'society', 'many'], ['political', 'philosophers', 'justify', 'support', 'of', 'the', 'state', 'as', 'a', 'means', 'of', 'regulating', 'violence', 'so', 'that', 'the', 'destruction', 'caused', 'by', 'human', 'conflict', 'is', 'minimized', 'and', 'fair', 'relationships', 'are', 'established', 'anarchists', 'argue'], ['that', 'pursuit', 'of', 'these', 'ends', 'does', 'not', 'justify', 'the', 'establishment', 'of', 'a', 'state', 'many', 'argue', 'that', 'the', 'state', 'is', 'incompatible', 'with', 'those', 'goals', 'and', 'the', 'cause', 'of', 'chaos', 'violence', 'and'], ['war', 'anarchists', 'argue', 'that', 'the', 'state', 'helps', 'to', 'create', 'a', 'monopoly', 'on', 'violence', 'and', 'uses', 'violence', 'to', 'advance', 'elite', 'interests', 'much', 'effort', 'has', 'been', 'dedicated', 'to', 'explaining', 'how', 'anarchist', 'societies'], ['would', 'handle', 'criminality', 'see', 'also', 'anarchism', 'and', 'society', 'civil', 'rights', 'and', 'cultural', 'sovereignty', 'black', 'anarchism', 'opposes', 'the', 'existence', 'of', 'a', 'state', 'capitalism', 'and', 'subjugation', 'and', 'domination', 'of', 'people', 'of', 'color'], ['and', 'favors', 'a', 'non', 'hierarchical', 'organization', 'of', 'society', 'theorists', 'include', 'ashanti', 'alston', 'lorenzo', 'komboa', 'ervin', 'and', 'sam', 'mbah', 'anarchist', 'people', 'of', 'color', 'was', 'created', 'as', 'a', 'forum', 'for', 'non', 'caucasian'], ['anarchists', 'to', 'express', 'their', 'thoughts', 'about', 'racial', 'issues', 'within', 'the', 'anarchist', 'movement', 'particularly', 'within', 'the', 'united', 'states', 'national', 'anarchism', 'is', 'a', 'political', 'view', 'which', 'seeks', 'to', 'unite', 'cultural', 'or', 'ethnic'], ['preservation', 'with', 'anarchist', 'views', 'its', 'adherents', 'propose', 'that', 'those', 'preventing', 'ethnic', 'groups', 'or', 'races', 'from', 'living', 'in', 'separate', 'autonomous', 'groupings', 'should', 'be', 'resisted', 'anti', 'racist', 'action', 'is', 'not', 'an', 'anarchist'], ['group', 'but', 'many', 'anarchists', 'are', 'involved', 'it', 'focuses', 'on', 'publicly', 'confronting', 'racist', 'agitators', 'the', 'zapatista', 'movement', 'of', 'chiapas', 'mexico', 'is', 'a', 'cultural', 'sovereignty', 'group', 'with', 'some', 'anarchist', 'proclivities', 'neocolonialism', 'and'], ['globalization', 'nearly', 'all', 'anarchists', 'oppose', 'neocolonialism', 'as', 'an', 'attempt', 'to', 'use', 'economic', 'coercion', 'on', 'a', 'global', 'scale', 'carried', 'out', 'through', 'state', 'institutions', 'such', 'as', 'the', 'world', 'bank', 'world', 'trade', 'organization'], ['group', 'of', 'eight', 'and', 'the', 'world', 'economic', 'forum', 'globalization', 'is', 'an', 'ambiguous', 'term', 'that', 'has', 'different', 'meanings', 'to', 'different', 'anarchist', 'factions', 'most', 'anarchists', 'use', 'the', 'term', 'to', 'mean', 'neocolonialism', 'and'], ['or', 'cultural', 'imperialism', 'which', 'they', 'may', 'see', 'as', 'related', 'many', 'are', 'active', 'in', 'the', 'anti', 'globalization', 'movement', 'others', 'particularly', 'anarcho', 'capitalists', 'use', 'globalization', 'to', 'mean', 'the', 'worldwide', 'expansion', 'of', 'the'], ['division', 'of', 'labor', 'and', 'trade', 'which', 'they', 'see', 'as', 'beneficial', 'so', 'long', 'as', 'governments', 'do', 'not', 'intervene', 'parallel', 'structures', 'many', 'anarchists', 'try', 'to', 'set', 'up', 'alternatives', 'to', 'state', 'supported', 'institutions'], ['and', 'outposts', 'such', 'as', 'food', 'not', 'bombs', 'infoshops', 'educational', 'systems', 'such', 'as', 'home', 'schooling', 'neighborhood', 'mediation', 'arbitration', 'groups', 'and', 'so', 'on', 'the', 'idea', 'is', 'to', 'create', 'the', 'structures', 'for', 'a'], ['new', 'anti', 'authoritarian', 'society', 'in', 'the', 'shell', 'of', 'the', 'old', 'authoritarian', 'one', 'technology', 'recent', 'technological', 'developments', 'have', 'made', 'the', 'anarchist', 'cause', 'both', 'easier', 'to', 'advance', 'and', 'more', 'conceivable', 'to', 'people'], ['many', 'people', 'use', 'the', 'internet', 'to', 'form', 'on', 'line', 'communities', 'intellectual', 'property', 'is', 'undermined', 'and', 'a', 'gift', 'culture', 'supported', 'by', 'sharing', 'music', 'files', 'open', 'source', 'programming', 'and', 'the', 'free', 'software'], ['movement', 'these', 'cyber', 'communities', 'include', 'the', 'gnu', 'linux', 'indymedia', 'and', 'wiki', 'some', 'anarchists', 'see', 'information', 'technology', 'as', 'the', 'best', 'weapon', 'to', 'defeat', 'authoritarianism', 'some', 'even', 'think', 'the', 'information', 'age', 'makes'], ['eventual', 'anarchy', 'inevitable', 'see', 'also', 'crypto', 'anarchism', 'and', 'cypherpunk', 'pacifism', 'some', 'anarchists', 'consider', 'pacifism', 'opposition', 'to', 'war', 'to', 'be', 'inherent', 'in', 'their', 'philosophy', 'anarcho', 'pacifists', 'take', 'it', 'further', 'and', 'follow'], ['leo', 'tolstoy', 's', 'belief', 'in', 'non', 'violence', 'anarchists', 'see', 'war', 'as', 'an', 'activity', 'in', 'which', 'the', 'state', 'seeks', 'to', 'gain', 'and', 'consolidate', 'power', 'both', 'domestically', 'and', 'in', 'foreign', 'lands', 'and'], ['subscribe', 'to', 'randolph', 'bourne', 's', 'view', 'that', 'war', 'is', 'the', 'health', 'of', 'the', 'state', 'a', 'lot', 'of', 'anarchist', 'activity', 'has', 'been', 'anti', 'war', 'based', 'parliamentarianism', 'in', 'general', 'terms', 'the', 'anarchist'], ['ethos', 'opposes', 'voting', 'in', 'elections', 'because', 'voting', 'amounts', 'to', 'condoning', 'the', 'state', 'voluntaryism', 'is', 'an', 'anarchist', 'school', 'of', 'thought', 'which', 'emphasizes', 'tending', 'your', 'own', 'garden', 'and', 'neither', 'ballots', 'nor', 'bullets'], ['the', 'anarchist', 'case', 'against', 'voting', 'is', 'explained', 'in', 'the', 'ethics', 'of', 'voting', 'by', 'george', 'h', 'smith', 'also', 'see', 'voting', 'anarchists', 'an', 'oxymoron', 'or', 'what', 'by', 'joe', 'peacott', 'and', 'writings', 'by'], ['fred', 'woodworth', 'sectarianism', 'most', 'anarchist', 'schools', 'of', 'thought', 'are', 'to', 'some', 'degree', 'sectarian', 'there', 'is', 'often', 'a', 'difference', 'of', 'opinion', 'within', 'each', 'school', 'about', 'how', 'to', 'react', 'to', 'or', 'interact'], ['with', 'other', 'schools', 'some', 'such', 'as', 'panarchists', 'believe', 'that', 'it', 'is', 'possible', 'for', 'a', 'variety', 'of', 'modes', 'of', 'social', 'life', 'to', 'coexist', 'and', 'compete', 'some', 'anarchists', 'view', 'opposing', 'schools', 'as'], ['a', 'social', 'impossibility', 'and', 'resist', 'interaction', 'others', 'see', 'opportunities', 'for', 'coalition', 'building', 'or', 'at', 'least', 'temporary', 'alliances', 'for', 'specific', 'purposes', 'see', 'anarchism', 'without', 'adjectives', 'criticisms', 'of', 'anarchism', 'main', 'article', 'criticisms'], ['of', 'anarchism', 'violence', 'since', 'anarchism', 'has', 'often', 'been', 'associated', 'with', 'violence', 'and', 'destruction', 'some', 'people', 'have', 'seen', 'it', 'as', 'being', 'too', 'violent', 'on', 'the', 'other', 'hand', 'hand', 'frederick', 'engels', 'criticsed'], ['anarchists', 'for', 'not', 'being', 'violent', 'enough', 'a', 'revolution', 'is', 'certainly', 'the', 'most', 'authoritarian', 'thing', 'there', 'is', 'it', 'is', 'the', 'act', 'whereby', 'one', 'part', 'of', 'the', 'population', 'imposes', 'its', 'will', 'upon'], ['the', 'other', 'part', 'by', 'means', 'of', 'rifles', 'bayonets', 'and', 'cannon', 'authoritarian', 'means', 'if', 'such', 'there', 'be', 'at', 'all', 'and', 'if', 'the', 'victorious', 'party', 'does', 'not', 'want', 'to', 'have', 'fought', 'in'], ['vain', 'it', 'must', 'maintain', 'this', 'rule', 'by', 'means', 'of', 'the', 'terror', 'which', 'its', 'arms', 'inspire', 'in', 'the', 'reactionists', 'would', 'the', 'paris', 'commune', 'have', 'lasted', 'a', 'single', 'day', 'if', 'it', 'had'], ['not', 'made', 'use', 'of', 'this', 'authority', 'of', 'the', 'armed', 'people', 'against', 'the', 'bourgeois', 'utopianism', 'anarchism', 'is', 'often', 'criticised', 'as', 'unfeasible', 'or', 'plain', 'utopian', 'even', 'by', 'many', 'who', 'agree', 'that', 'it'], ['s', 'a', 'nice', 'idea', 'in', 'principle', 'for', 'example', 'carl', 'landauer', 'in', 'his', 'book', 'european', 'socialism', 'criticizes', 'anarchism', 'as', 'being', 'unrealistically', 'utopian', 'and', 'holds', 'that', 'government', 'is', 'a', 'lesser', 'evil', 'than'], ['a', 'society', 'without', 'repressive', 'force', 'he', 'holds', 'that', 'the', 'belief', 'that', 'ill', 'intentions', 'will', 'cease', 'if', 'repressive', 'force', 'disappears', 'is', 'an', 'absurdity', 'however', 'it', 'must', 'be', 'noted', 'that', 'not', 'all'], ['anarchists', 'have', 'such', 'a', 'utopian', 'view', 'of', 'anarchism', 'for', 'example', 'some', 'such', 'as', 'benjamin', 'tucker', 'advocate', 'privately', 'funded', 'institutions', 'that', 'defend', 'individual', 'liberty', 'and', 'property', 'however', 'other', 'anarchists', 'such', 'as'], ['sir', 'herbert', 'read', 'proudly', 'accept', 'the', 'characterization', 'utopian', 'class', 'character', 'marxists', 'have', 'characterised', 'anarchism', 'as', 'an', 'expression', 'of', 'the', 'class', 'interests', 'of', 'the', 'petite', 'bourgeoisie', 'or', 'perhaps', 'the', 'lumpenproletariat', 'see'], ['e', 'g', 'plekhanov', 'for', 'a', 'marxist', 'critique', 'of', 'one', 'eight', 'nine', 'five', 'anarchists', 'have', 'also', 'been', 'characterised', 'as', 'spoilt', 'middle', 'class', 'dilettantes', 'most', 'recently', 'in', 'relation', 'to', 'anti', 'capitalist', 'protesters'], ['tacit', 'authoritarianism', 'in', 'recent', 'decades', 'anarchism', 'has', 'been', 'criticised', 'by', 'situationists', 'post', 'anarchists', 'and', 'others', 'of', 'preserving', 'tacitly', 'statist', 'authoritarian', 'or', 'bureaucratic', 'tendencies', 'behind', 'a', 'dogmatic', 'facade', 'hypocrisy', 'some', 'critics'], ['point', 'to', 'the', 'sexist', 'and', 'racist', 'views', 'of', 'some', 'prominent', 'anarchists', 'notably', 'proudhon', 'and', 'bakunin', 'as', 'examples', 'of', 'hypocrisy', 'inherent', 'within', 'anarchism', 'while', 'many', 'anarchists', 'however', 'dismiss', 'that', 'the', 'personal'], ['prejudices', 'of', 'one', 'nine', 'th', 'century', 'theorists', 'influence', 'the', 'beliefs', 'of', 'present', 'day', 'anarchists', 'others', 'criticise', 'modern', 'anarchism', 'for', 'continuing', 'to', 'be', 'eurocentric', 'and', 'reference', 'the', 'impact', 'of', 'anarchist', 'thinkers'], ['like', 'proudhon', 'on', 'fascism', 'through', 'groups', 'like', 'cercle', 'proudhon', 'anarcho', 'capitalist', 'bryan', 'caplan', 'argues', 'that', 'the', 'treatment', 'of', 'fascists', 'and', 'suspected', 'fascist', 'sympathizers', 'by', 'spanish', 'anarchists', 'in', 'the', 'spanish', 'civil'], ['war', 'was', 'a', 'form', 'of', 'illegitimate', 'coercion', 'making', 'the', 'proffessed', 'anarchists', 'ultimately', 'just', 'a', 'third', 'faction', 'of', 'totalitarians', 'alongside', 'the', 'communists', 'and', 'fascists', 'he', 'also', 'criticizes', 'the', 'willingness', 'of', 'the'], ['cnt', 'to', 'join', 'the', 'statist', 'republican', 'government', 'during', 'the', 'civil', 'war', 'and', 'references', 'stanley', 'g', 'payne', 's', 'book', 'on', 'the', 'franco', 'regime', 'which', 'claims', 'that', 'the', 'cnt', 'entered', 'negotiations', 'with'], ['the', 'fascist', 'government', 'six', 'years', 'after', 'the', 'war', 'cultural', 'phenomena', 'noam', 'chomsky', 'one', 'nine', 'two', 'eight', 'the', 'kind', 'of', 'anarchism', 'that', 'is', 'most', 'easily', 'encountered', 'in', 'popular', 'culture', 'is', 'represented'], ['by', 'celebrities', 'who', 'publicly', 'identify', 'themselves', 'as', 'anarchists', 'although', 'some', 'anarchists', 'reject', 'any', 'focus', 'on', 'such', 'famous', 'living', 'individuals', 'as', 'inherently', 'litist', 'the', 'following', 'figures', 'are', 'examples', 'of', 'prominent', 'publicly'], ['self', 'avowed', 'anarchists', 'the', 'mit', 'professor', 'of', 'linguistics', 'noam', 'chomsky', 'the', 'science', 'fiction', 'author', 'ursula', 'k', 'le', 'guin', 'the', 'social', 'historian', 'howard', 'zinn', 'entertainer', 'and', 'author', 'hans', 'alfredsson', 'the', 'avant'], ['garde', 'artist', 'nicol', 's', 'rossell', 'in', 'denmark', 'the', 'freetown', 'christiania', 'was', 'created', 'in', 'downtown', 'copenhagen', 'the', 'housing', 'and', 'employment', 'crisis', 'in', 'most', 'of', 'western', 'europe', 'led', 'to', 'the', 'formation', 'of'], ['communes', 'and', 'squatter', 'movements', 'like', 'the', 'one', 'still', 'thriving', 'in', 'barcelona', 'in', 'catalonia', 'militant', 'resistance', 'to', 'neo', 'nazi', 'groups', 'in', 'places', 'like', 'germany', 'and', 'the', 'uprisings', 'of', 'autonomous', 'marxism', 'situationist'], ['and', 'autonomist', 'groups', 'in', 'france', 'and', 'italy', 'also', 'helped', 'to', 'give', 'popularity', 'to', 'anti', 'authoritarian', 'non', 'capitalist', 'ideas', 'in', 'various', 'musical', 'styles', 'anarchism', 'rose', 'in', 'popularity', 'most', 'famous', 'for', 'the'], ['linking', 'of', 'anarchist', 'ideas', 'and', 'music', 'has', 'been', 'punk', 'rock', 'although', 'in', 'the', 'modern', 'age', 'hip', 'hop', 'and', 'folk', 'music', 'are', 'also', 'becoming', 'important', 'mediums', 'for', 'the', 'spreading', 'of', 'the'], ['anarchist', 'message', 'in', 'the', 'uk', 'this', 'was', 'associated', 'with', 'the', 'punk', 'rock', 'movement', 'the', 'band', 'crass', 'is', 'celebrated', 'for', 'its', 'anarchist', 'and', 'pacifist', 'ideas', 'the', 'dutch', 'punk', 'band', 'the', 'ex'], ['further', 'exemplifies', 'this', 'expression', 'for', 'further', 'details', 'see', 'anarcho', 'punk', 'see', 'also', 'there', 'are', 'many', 'concepts', 'relevant', 'to', 'the', 'topic', 'of', 'anarchism', 'this', 'is', 'a', 'brief', 'summary', 'there', 'is', 'also'], ['a', 'more', 'extensive', 'list', 'of', 'anarchist', 'concepts', 'individualist', 'anarchism', 'anarcho', 'communism', 'anarcho', 'syndicalism', 'anarcho', 'capitalism', 'mutualism', 'christian', 'anarchism', 'anarcha', 'feminism', 'green', 'anarchism', 'nihilist', 'anarchism', 'anarcho', 'nationalism', 'black', 'anarchism', 'national', 'anarchism'], ['post', 'anarchism', 'post', 'left', 'anarchism', 'libertarian', 'socialism', 'anarchist', 'symbolism', 'list', 'of', 'anarchism', 'links', 'list', 'of', 'anarchists', 'list', 'of', 'anarchist', 'organizations', 'major', 'conflicts', 'within', 'anarchist', 'thought', 'past', 'and', 'present', 'anarchist', 'communities'], ['historical', 'events', 'paris', 'commune', 'one', 'eight', 'seven', 'one', 'haymarket', 'riot', 'one', 'eight', 'eight', 'six', 'the', 'makhnovschina', 'one', 'nine', 'one', 'seven', 'one', 'nine', 'two', 'one', 'kronstadt', 'rebellion', 'one', 'nine', 'two', 'one'], ['spanish', 'revolution', 'one', 'nine', 'three', 'six', 'see', 'anarchism', 'in', 'spain', 'and', 'spanish', 'revolution', 'may', 'one', 'nine', 'six', 'eight', 'france', 'one', 'nine', 'six', 'eight', 'wto', 'meeting', 'in', 'seattle', 'one', 'nine', 'nine'], ['nine', 'books', 'the', 'following', 'is', 'a', 'sample', 'of', 'books', 'that', 'have', 'been', 'referenced', 'in', 'this', 'page', 'a', 'more', 'complete', 'list', 'can', 'be', 'found', 'at', 'the', 'list', 'of', 'anarchist', 'books', 'mikhail'], ['bakunin', 'god', 'and', 'the', 'state', 'emma', 'goldman', 'anarchism', 'other', 'essays', 'peter', 'kropotkin', 'mutual', 'aid', 'pierre', 'joseph', 'proudhon', 'what', 'is', 'property', 'rudolf', 'rocker', 'anarcho', 'syndicalism', 'murray', 'rothbard', 'the', 'ethics', 'of', 'liberty'], ['max', 'stirner', 'the', 'ego', 'and', 'its', 'own', 'leo', 'tolstoy', 'the', 'kingdom', 'of', 'god', 'is', 'within', 'you', 'anarchism', 'by', 'region', 'culture', 'african', 'anarchism', 'anarchism', 'in', 'spain', 'anarchism', 'in', 'the', 'english', 'tradition'], ['chinese', 'anarchism', 'references', 'these', 'notes', 'have', 'no', 'corresponding', 'reference', 'in', 'the', 'article', 'they', 'might', 'be', 're', 'used', 'against', 'politics', 'appleton', 'boston', 'anarchists', 'yarros', 'victor', 'liberty', 'vii', 'january', 'two', 'one', 'eight'], ['nine', 'two', 'noam', 'chomsky', 'on', 'anarchism', 'by', 'noam', 'chomsky', 'external', 'links', 'the', 'overwhelming', 'diversity', 'and', 'number', 'of', 'links', 'relating', 'to', 'anarchism', 'is', 'extensively', 'covered', 'on', 'the', 'links', 'subpage', 'anarchoblogs', 'blogs'], ['by', 'anarchists', 'anarchy', 'archives', 'extensively', 'archives', 'information', 'relating', 'to', 'famous', 'anarchists', 'this', 'includes', 'many', 'of', 'their', 'books', 'and', 'other', 'publications', 'hundreds', 'of', 'anarchists', 'are', 'listed', 'with', 'short', 'bios', 'links', 'dedicated'], ['pages', 'at', 'the', 'daily', 'bleed', 's', 'anarchist', 'encyclopedia', 'infoshop', 'org', 'wikipedia', 'page', 'industrial', 'workers', 'of', 'the', 'world', 'anarchism', 'forms', 'of', 'government', 'political', 'ideology', 'entry', 'points', 'political', 'theories', 'social', 'philosophy', 'autism'], ['is', 'classified', 'as', 'a', 'neurodevelopmental', 'disorder', 'that', 'manifests', 'itself', 'in', 'markedly', 'abnormal', 'social', 'interaction', 'communication', 'ability', 'patterns', 'of', 'interests', 'and', 'patterns', 'of', 'behavior', 'although', 'the', 'specific', 'etiology', 'of', 'autism', 'is'], ['unknown', 'many', 'researchers', 'suspect', 'that', 'autism', 'results', 'from', 'genetically', 'mediated', 'vulnerabilities', 'to', 'environmental', 'triggers', 'and', 'while', 'there', 'is', 'disagreement', 'about', 'the', 'magnitude', 'nature', 'and', 'mechanisms', 'for', 'such', 'environmental', 'factors', 'researchers'], ['have', 'found', 'at', 'least', 'seven', 'major', 'genes', 'prevalent', 'among', 'individuals', 'diagnosed', 'as', 'autistic', 'some', 'estimate', 'that', 'autism', 'occurs', 'in', 'as', 'many', 'as', 'one', 'united', 'states', 'child', 'in', 'one', 'six', 'six'], ['however', 'the', 'national', 'institute', 'of', 'mental', 'health', 'gives', 'a', 'more', 'conservative', 'estimate', 'of', 'one', 'in', 'one', 'zero', 'zero', 'zero', 'for', 'families', 'that', 'already', 'have', 'one', 'autistic', 'child', 'the', 'odds', 'of'], ['a', 'second', 'autistic', 'child', 'may', 'be', 'as', 'high', 'as', 'one', 'in', 'twenty', 'diagnosis', 'is', 'based', 'on', 'a', 'list', 'of', 'psychiatric', 'criteria', 'and', 'a', 'series', 'of', 'standardized', 'clinical', 'tests', 'may', 'also'], ['be', 'used', 'autism', 'may', 'not', 'be', 'physiologically', 'obvious', 'a', 'complete', 'physical', 'and', 'neurological', 'evaluation', 'will', 'typically', 'be', 'part', 'of', 'diagnosing', 'autism', 'some', 'now', 'speculate', 'that', 'autism', 'is', 'not', 'a', 'single'], ['condition', 'but', 'a', 'group', 'of', 'several', 'distinct', 'conditions', 'that', 'manifest', 'in', 'similar', 'ways', 'by', 'definition', 'autism', 'must', 'manifest', 'delays', 'in', 'social', 'interaction', 'language', 'as', 'used', 'in', 'social', 'communication', 'or', 'symbolic'], ['or', 'imaginative', 'play', 'with', 'onset', 'prior', 'to', 'age', 'three', 'years', 'according', 'to', 'the', 'diagnostic', 'and', 'statistical', 'manual', 'of', 'mental', 'disorders', 'the', 'icd', 'one', 'zero', 'also', 'says', 'that', 'symptoms', 'must', 'manifest'], ['before', 'the', 'age', 'of', 'three', 'years', 'there', 'have', 'been', 'large', 'increases', 'in', 'the', 'reported', 'incidence', 'of', 'autism', 'for', 'reasons', 'that', 'are', 'heavily', 'debated', 'by', 'researchers', 'in', 'psychology', 'and', 'related', 'fields'], ['within', 'the', 'scientific', 'community', 'some', 'children', 'with', 'autism', 'have', 'improved', 'their', 'social', 'and', 'other', 'skills', 'to', 'the', 'point', 'where', 'they', 'can', 'fully', 'participate', 'in', 'mainstream', 'education', 'and', 'social', 'events', 'but'], ['there', 'are', 'lingering', 'concerns', 'that', 'an', 'absolute', 'cure', 'from', 'autism', 'is', 'impossible', 'with', 'current', 'technology', 'however', 'many', 'autistic', 'children', 'and', 'adults', 'who', 'are', 'able', 'to', 'communicate', 'at', 'least', 'in', 'writing'], ['are', 'opposed', 'to', 'attempts', 'to', 'cure', 'their', 'conditions', 'and', 'see', 'such', 'conditions', 'as', 'part', 'of', 'who', 'they', 'are', 'history', 'dr', 'hans', 'asperger', 'described', 'a', 'form', 'of', 'autism', 'in', 'the', 'one'], ['nine', 'four', 'zero', 's', 'that', 'later', 'became', 'known', 'as', 'asperger', 's', 'syndrome', 'the', 'word', 'autism', 'was', 'first', 'used', 'in', 'the', 'english', 'language', 'by', 'swiss', 'psychiatrist', 'eugene', 'bleuler', 'in', 'a', 'one'], ['nine', 'one', 'two', 'number', 'of', 'the', 'american', 'journal', 'of', 'insanity', 'it', 'comes', 'from', 'the', 'greek', 'word', 'for', 'self', 'however', 'the', 'classification', 'of', 'autism', 'did', 'not', 'occur', 'until', 'the', 'middle', 'of'], ['the', 'twentieth', 'century', 'when', 'in', 'one', 'nine', 'four', 'three', 'psychiatrist', 'dr', 'leo', 'kanner', 'of', 'the', 'johns', 'hopkins', 'hospital', 'in', 'baltimore', 'reported', 'on', 'one', 'one', 'child', 'patients', 'with', 'striking', 'behavioral', 'similarities'], ['and', 'introduced', 'the', 'label', 'early', 'infantile', 'autism', 'he', 'suggested', 'autism', 'from', 'the', 'greek', 'autos', 'meaning', 'self', 'to', 'describe', 'the', 'fact', 'that', 'the', 'children', 'seemed', 'to', 'lack', 'interest', 'in', 'other', 'people'], ['although', 'kanner', 's', 'first', 'paper', 'on', 'the', 'subject', 'was', 'published', 'in', 'a', 'now', 'defunct', 'journal', 'the', 'nervous', 'child', 'almost', 'every', 'characteristic', 'he', 'originally', 'described', 'is', 'still', 'regarded', 'as', 'typical', 'of'], ['the', 'autistic', 'spectrum', 'of', 'disorders', 'at', 'the', 'same', 'time', 'an', 'austrian', 'scientist', 'dr', 'hans', 'asperger', 'described', 'a', 'different', 'form', 'of', 'autism', 'that', 'became', 'known', 'as', 'asperger', 's', 'syndrome', 'but', 'the'], ['widespread', 'recognition', 'of', 'asperger', 's', 'work', 'was', 'delayed', 'by', 'world', 'war', 'ii', 'in', 'germany', 'and', 'by', 'the', 'fact', 'that', 'his', 'seminal', 'paper', 'wasn', 't', 'translated', 'into', 'english', 'for', 'almost', 'five'], ['zero', 'years', 'the', 'majority', 'of', 'his', 'work', 'wasn', 't', 'widely', 'read', 'until', 'one', 'nine', 'nine', 'seven', 'thus', 'these', 'two', 'conditions', 'were', 'described', 'and', 'are', 'today', 'listed', 'in', 'the', 'diagnostic', 'and'], ['statistical', 'manual', 'of', 'mental', 'disorders', 'dsm', 'iv', 'tr', 'fourth', 'edition', 'text', 'revision', 'one', 'as', 'two', 'of', 'the', 'five', 'pervasive', 'developmental', 'disorders', 'pdd', 'more', 'often', 'referred', 'to', 'today', 'as', 'autism', 'spectrum'], ['disorders', 'asd', 'all', 'of', 'these', 'conditions', 'are', 'characterized', 'by', 'varying', 'degrees', 'of', 'difference', 'in', 'communication', 'skills', 'social', 'interactions', 'and', 'restricted', 'repetitive', 'and', 'stereotyped', 'patterns', 'of', 'behavior', 'few', 'clinicians', 'today', 'solely'], ['use', 'the', 'dsm', 'iv', 'criteria', 'for', 'determining', 'a', 'diagnosis', 'of', 'autism', 'which', 'are', 'based', 'on', 'the', 'absence', 'or', 'delay', 'of', 'certain', 'developmental', 'milestones', 'many', 'clinicians', 'instead', 'use', 'an', 'alternate', 'means'], ['or', 'a', 'combination', 'thereof', 'to', 'more', 'accurately', 'determine', 'a', 'diagnosis', 'terminology', 'when', 'referring', 'to', 'someone', 'diagnosed', 'with', 'autism', 'the', 'term', 'autistic', 'is', 'often', 'used', 'however', 'the', 'term', 'person', 'with', 'autism'], ['can', 'be', 'used', 'instead', 'this', 'is', 'referred', 'to', 'as', 'person', 'first', 'terminology', 'the', 'autistic', 'community', 'generally', 'prefers', 'the', 'term', 'autistic', 'for', 'reasons', 'that', 'are', 'fairly', 'controversial', 'this', 'article', 'uses', 'the'], ['term', 'autistic', 'see', 'talk', 'page', 'characteristics', 'dr', 'leo', 'kanner', 'introduced', 'the', 'label', 'early', 'infantile', 'autism', 'in', 'one', 'nine', 'four', 'three', 'there', 'is', 'a', 'great', 'diversity', 'in', 'the', 'skills', 'and', 'behaviors'], ['of', 'individuals', 'diagnosed', 'as', 'autistic', 'and', 'physicians', 'will', 'often', 'arrive', 'at', 'different', 'conclusions', 'about', 'the', 'appropriate', 'diagnosis', 'much', 'of', 'this', 'is', 'due', 'to', 'the', 'sensory', 'system', 'of', 'an', 'autistic', 'which'], ['is', 'quite', 'different', 'from', 'the', 'sensory', 'system', 'of', 'other', 'people', 'since', 'certain', 'stimulations', 'can', 'affect', 'an', 'autistic', 'differently', 'than', 'a', 'non', 'autistic', 'and', 'the', 'degree', 'to', 'which', 'the', 'sensory', 'system'], ['is', 'affected', 'varies', 'wildly', 'from', 'one', 'autistic', 'person', 'to', 'another', 'nevertheless', 'professionals', 'within', 'pediatric', 'care', 'and', 'development', 'often', 'look', 'for', 'early', 'indicators', 'of', 'autism', 'in', 'order', 'to', 'initiate', 'treatment', 'as'], ['early', 'as', 'possible', 'however', 'some', 'people', 'do', 'not', 'believe', 'in', 'treatment', 'for', 'autism', 'either', 'because', 'they', 'do', 'not', 'believe', 'autism', 'is', 'a', 'disorder', 'or', 'because', 'they', 'believe', 'treatment', 'can', 'do'], ['more', 'harm', 'than', 'good', 'social', 'development', 'typically', 'developing', 'infants', 'are', 'social', 'beings', 'early', 'in', 'life', 'they', 'do', 'such', 'things', 'as', 'gaze', 'at', 'people', 'turn', 'toward', 'voices', 'grasp', 'a', 'finger', 'and'], ['even', 'smile', 'in', 'contrast', 'most', 'autistic', 'children', 'prefer', 'objects', 'to', 'faces', 'and', 'seem', 'to', 'have', 'tremendous', 'difficulty', 'learning', 'to', 'engage', 'in', 'the', 'give', 'and', 'take', 'of', 'everyday', 'human', 'interaction', 'even'], ['in', 'the', 'first', 'few', 'months', 'of', 'life', 'many', 'seem', 'indifferent', 'to', 'other', 'people', 'because', 'they', 'avoid', 'eye', 'contact', 'and', 'do', 'not', 'interact', 'with', 'them', 'as', 'often', 'as', 'non', 'autistic', 'children'], ['children', 'with', 'autism', 'often', 'appear', 'to', 'prefer', 'being', 'alone', 'to', 'the', 'company', 'of', 'others', 'and', 'may', 'passively', 'accept', 'such', 'things', 'as', 'hugs', 'and', 'cuddling', 'without', 'reciprocating', 'or', 'resist', 'attention', 'altogether'], ['later', 'they', 'seldom', 'seek', 'comfort', 'from', 'others', 'or', 'respond', 'to', 'parents', 'displays', 'of', 'anger', 'or', 'affection', 'in', 'a', 'typical', 'way', 'research', 'has', 'suggested', 'that', 'although', 'autistic', 'children', 'are', 'attached', 'to'], ['their', 'parents', 'their', 'expression', 'of', 'this', 'attachment', 'is', 'unusual', 'and', 'difficult', 'to', 'interpret', 'parents', 'who', 'looked', 'forward', 'to', 'the', 'joys', 'of', 'cuddling', 'teaching', 'and', 'playing', 'with', 'their', 'child', 'may', 'feel'], ['crushed', 'by', 'this', 'lack', 'of', 'expected', 'attachment', 'behavior', 'children', 'with', 'autism', 'appear', 'to', 'lack', 'theory', 'of', 'mind', 'the', 'ability', 'to', 'see', 'things', 'from', 'another', 'person', 's', 'perspective', 'a', 'behavior', 'cited'], ['as', 'exclusive', 'to', 'human', 'beings', 'above', 'the', 'age', 'of', 'five', 'and', 'possibly', 'other', 'higher', 'primates', 'such', 'as', 'adult', 'gorillas', 'chimpanzees', 'and', 'bonobos', 'typical', 'five', 'year', 'olds', 'can', 'develop', 'insights', 'into'], ['other', 'people', 's', 'different', 'knowledge', 'feelings', 'and', 'intentions', 'interpretations', 'based', 'upon', 'social', 'cues', 'e', 'g', 'gestures', 'facial', 'expressions', 'an', 'individual', 'with', 'autism', 'seems', 'to', 'lack', 'these', 'interpretation', 'skills', 'an', 'inability'], ['that', 'leaves', 'them', 'unable', 'to', 'predict', 'or', 'understand', 'other', 'people', 's', 'actions', 'the', 'social', 'alienation', 'of', 'autistic', 'and', 'asperger', 's', 'people', 'is', 'so', 'intense', 'from', 'childhood', 'that', 'many', 'of', 'them'], ['have', 'imaginary', 'friends', 'as', 'companionship', 'however', 'having', 'an', 'imaginary', 'friend', 'is', 'not', 'necessarily', 'a', 'sign', 'of', 'autism', 'and', 'also', 'occurs', 'in', 'non', 'autistic', 'children', 'although', 'not', 'universal', 'it', 'is', 'common'], ['for', 'autistic', 'people', 'to', 'not', 'regulate', 'their', 'behavior', 'this', 'can', 'take', 'the', 'form', 'of', 'crying', 'or', 'verbal', 'outbursts', 'that', 'may', 'seem', 'out', 'of', 'proportion', 'to', 'the', 'situation', 'individuals', 'with', 'autism'], ['generally', 'prefer', 'consistent', 'routines', 'and', 'environments', 'they', 'may', 'react', 'negatively', 'to', 'changes', 'in', 'them', 'it', 'is', 'not', 'uncommon', 'for', 'these', 'individuals', 'to', 'exhibit', 'aggression', 'increased', 'levels', 'of', 'self', 'stimulatory', 'behavior'], ['self', 'injury', 'or', 'extensive', 'withdrawal', 'in', 'overwhelming', 'situations', 'sensory', 'system', 'a', 'key', 'indicator', 'to', 'clinicians', 'making', 'a', 'proper', 'assessment', 'for', 'autism', 'would', 'include', 'looking', 'for', 'symptoms', 'much', 'like', 'those', 'found'], ['in', 'sensory', 'integration', 'dysfunction', 'children', 'will', 'exhibit', 'problems', 'coping', 'with', 'the', 'normal', 'sensory', 'input', 'indicators', 'of', 'this', 'disorder', 'include', 'oversensitivity', 'or', 'underreactivity', 'to', 'touch', 'movement', 'sights', 'or', 'sounds', 'physical', 'clumsiness'], ['or', 'carelessness', 'poor', 'body', 'awareness', 'a', 'tendency', 'to', 'be', 'easily', 'distracted', 'impulsive', 'physical', 'or', 'verbal', 'behavior', 'an', 'activity', 'level', 'that', 'is', 'unusually', 'high', 'or', 'low', 'not', 'unwinding', 'or', 'calming', 'oneself'], ['difficulty', 'learning', 'new', 'movements', 'difficulty', 'in', 'making', 'transitions', 'from', 'one', 'situation', 'to', 'another', 'social', 'and', 'or', 'emotional', 'problems', 'delays', 'in', 'speech', 'language', 'or', 'motor', 'skills', 'specific', 'learning', 'difficulties', 'delays', 'in'], ['academic', 'achievement', 'one', 'common', 'example', 'is', 'an', 'individual', 'with', 'autism', 'hearing', 'a', 'person', 'with', 'autism', 'may', 'have', 'trouble', 'hearing', 'certain', 'people', 'while', 'other', 'people', 'are', 'louder', 'than', 'usual', 'or', 'the'], ['person', 'with', 'autism', 'may', 'be', 'unable', 'to', 'filter', 'out', 'sounds', 'in', 'certain', 'situations', 'such', 'as', 'in', 'a', 'large', 'crowd', 'of', 'people', 'see', 'cocktail', 'party', 'effect', 'however', 'this', 'is', 'perhaps', 'the'], ['part', 'of', 'the', 'autism', 'that', 'tends', 'to', 'vary', 'the', 'most', 'from', 'person', 'to', 'person', 'so', 'these', 'examples', 'may', 'not', 'apply', 'to', 'every', 'autistic', 'it', 'should', 'be', 'noted', 'that', 'sensory', 'difficulties'], ['although', 'reportedly', 'common', 'in', 'autistics', 'are', 'not', 'part', 'of', 'the', 'dsm', 'iv', 'diagnostic', 'criteria', 'for', 'autistic', 'disorder', 'communication', 'difficulties', 'by', 'age', 'three', 'typical', 'children', 'have', 'passed', 'predictable', 'language', 'learning', 'milestones'], ['one', 'of', 'the', 'earliest', 'is', 'babbling', 'by', 'the', 'first', 'birthday', 'a', 'typical', 'toddler', 'says', 'words', 'turns', 'when', 'he', 'or', 'she', 'hears', 'his', 'or', 'her', 'name', 'points', 'when', 'he', 'or', 'she'], ['wants', 'a', 'toy', 'and', 'when', 'offered', 'something', 'distasteful', 'makes', 'it', 'clear', 'that', 'the', 'answer', 'is', 'no', 'speech', 'development', 'in', 'people', 'with', 'autism', 'takes', 'different', 'paths', 'some', 'remain', 'mute', 'throughout', 'their'], ['lives', 'while', 'being', 'fully', 'literate', 'and', 'able', 'to', 'communicate', 'in', 'other', 'ways', 'images', 'sign', 'language', 'and', 'typing', 'are', 'far', 'more', 'natural', 'to', 'them', 'some', 'infants', 'who', 'later', 'show', 'signs', 'of'], ['autism', 'coo', 'and', 'babble', 'during', 'the', 'first', 'few', 'months', 'of', 'life', 'but', 'stop', 'soon', 'afterwards', 'others', 'may', 'be', 'delayed', 'developing', 'language', 'as', 'late', 'as', 'the', 'teenage', 'years', 'still', 'inability', 'to'], ['speak', 'does', 'not', 'mean', 'that', 'people', 'with', 'autism', 'are', 'unintelligent', 'or', 'unaware', 'once', 'given', 'appropriate', 'accommodations', 'many', 'will', 'happily', 'converse', 'for', 'hours', 'and', 'can', 'often', 'be', 'found', 'in', 'online', 'chat'], ['rooms', 'discussion', 'boards', 'or', 'websites', 'and', 'even', 'using', 'communication', 'devices', 'at', 'autism', 'community', 'social', 'events', 'such', 'as', 'autreat', 'those', 'who', 'do', 'speak', 'often', 'use', 'language', 'in', 'unusual', 'ways', 'retaining', 'features'], ['of', 'earlier', 'stages', 'of', 'language', 'development', 'for', 'long', 'periods', 'or', 'throughout', 'their', 'lives', 'some', 'speak', 'only', 'single', 'words', 'while', 'others', 'repeat', 'the', 'same', 'phrase', 'over', 'and', 'over', 'some', 'repeat', 'what'], ['they', 'hear', 'a', 'condition', 'called', 'echolalia', 'sing', 'song', 'repetitions', 'in', 'particular', 'are', 'a', 'calming', 'joyous', 'activity', 'that', 'many', 'autistic', 'adults', 'engage', 'in', 'many', 'people', 'with', 'autism', 'have', 'a', 'strong', 'tonal'], ['sense', 'and', 'can', 'often', 'understand', 'spoken', 'language', 'some', 'children', 'may', 'exhibit', 'only', 'slight', 'delays', 'in', 'language', 'or', 'even', 'seem', 'to', 'have', 'precocious', 'language', 'and', 'unusually', 'large', 'vocabularies', 'but', 'have', 'great'], ['difficulty', 'in', 'sustaining', 'typical', 'conversations', 'the', 'give', 'and', 'take', 'of', 'non', 'autistic', 'conversation', 'is', 'hard', 'for', 'them', 'although', 'they', 'often', 'carry', 'on', 'a', 'monologue', 'on', 'a', 'favorite', 'subject', 'giving', 'no'], ['one', 'else', 'an', 'opportunity', 'to', 'comment', 'when', 'given', 'the', 'chance', 'to', 'converse', 'with', 'other', 'autistics', 'they', 'comfortably', 'do', 'so', 'in', 'parallel', 'monologue', 'taking', 'turns', 'expressing', 'views', 'and', 'information', 'just', 'as'], ['neurotypicals', 'people', 'without', 'autism', 'have', 'trouble', 'understanding', 'autistic', 'body', 'languages', 'vocal', 'tones', 'or', 'phraseology', 'people', 'with', 'autism', 'similarly', 'have', 'trouble', 'with', 'such', 'things', 'in', 'people', 'without', 'autism', 'in', 'particular', 'autistic'], ['language', 'abilities', 'tend', 'to', 'be', 'highly', 'literal', 'people', 'without', 'autism', 'often', 'inappropriately', 'attribute', 'hidden', 'meaning', 'to', 'what', 'people', 'with', 'autism', 'say', 'or', 'expect', 'the', 'person', 'with', 'autism', 'to', 'sense', 'such'], ['unstated', 'meaning', 'in', 'their', 'own', 'words', 'the', 'body', 'language', 'of', 'people', 'with', 'autism', 'can', 'be', 'difficult', 'for', 'other', 'people', 'to', 'understand', 'facial', 'expressions', 'movements', 'and', 'gestures', 'may', 'be', 'easily', 'understood'], ['by', 'some', 'other', 'people', 'with', 'autism', 'but', 'do', 'not', 'match', 'those', 'used', 'by', 'other', 'people', 'also', 'their', 'tone', 'of', 'voice', 'has', 'a', 'much', 'more', 'subtle', 'inflection', 'in', 'reflecting', 'their', 'feelings'], ['and', 'the', 'auditory', 'system', 'of', 'a', 'person', 'without', 'autism', 'often', 'cannot', 'sense', 'the', 'fluctuations', 'what', 'seems', 'to', 'non', 'autistic', 'people', 'like', 'a', 'high', 'pitched', 'sing', 'song', 'or', 'flat', 'robot', 'like'], ['voice', 'is', 'common', 'in', 'autistic', 'children', 'some', 'autistic', 'children', 'with', 'relatively', 'good', 'language', 'skills', 'speak', 'like', 'little', 'adults', 'rather', 'than', 'communicating', 'at', 'their', 'current', 'age', 'level', 'which', 'is', 'one', 'of'], ['the', 'things', 'that', 'can', 'lead', 'to', 'problems', 'since', 'non', 'autistic', 'people', 'are', 'often', 'unfamiliar', 'with', 'the', 'autistic', 'body', 'language', 'and', 'since', 'autistic', 'natural', 'language', 'may', 'not', 'tend', 'towards', 'speech', 'autistic'], ['people', 'often', 'struggle', 'to', 'let', 'other', 'people', 'know', 'what', 'they', 'need', 'as', 'anybody', 'might', 'do', 'in', 'such', 'a', 'situation', 'they', 'may', 'scream', 'in', 'frustration', 'or', 'resort', 'to', 'grabbing', 'what', 'they'], ['want', 'while', 'waiting', 'for', 'non', 'autistic', 'people', 'to', 'learn', 'to', 'communicate', 'with', 'them', 'people', 'with', 'autism', 'do', 'whatever', 'they', 'can', 'to', 'get', 'through', 'to', 'them', 'communication', 'difficulties', 'may', 'contribute', 'to'], ['autistic', 'people', 'becoming', 'socially', 'anxious', 'or', 'depressed', 'repetitive', 'behaviors', 'although', 'people', 'with', 'autism', 'usually', 'appear', 'physically', 'normal', 'and', 'have', 'good', 'muscle', 'control', 'unusual', 'repetitive', 'motions', 'known', 'as', 'self', 'stimulation', 'or'], ['stimming', 'may', 'set', 'them', 'apart', 'these', 'behaviors', 'might', 'be', 'extreme', 'and', 'highly', 'apparent', 'or', 'more', 'subtle', 'some', 'children', 'and', 'older', 'individuals', 'spend', 'a', 'lot', 'of', 'time', 'repeatedly', 'flapping', 'their', 'arms'], ['or', 'wiggling', 'their', 'toes', 'others', 'suddenly', 'freeze', 'in', 'position', 'as', 'children', 'they', 'might', 'spend', 'hours', 'lining', 'up', 'their', 'cars', 'and', 'trains', 'in', 'a', 'certain', 'way', 'not', 'using', 'them', 'for', 'pretend'], ['play', 'if', 'someone', 'accidentally', 'moves', 'one', 'of', 'these', 'toys', 'the', 'child', 'may', 'be', 'tremendously', 'upset', 'autistic', 'children', 'often', 'need', 'and', 'demand', 'absolute', 'consistency', 'in', 'their', 'environment', 'a', 'slight', 'change', 'in'], ['any', 'routine', 'in', 'mealtimes', 'dressing', 'taking', 'a', 'bath', 'or', 'going', 'to', 'school', 'at', 'a', 'certain', 'time', 'and', 'by', 'the', 'same', 'route', 'can', 'be', 'extremely', 'disturbing', 'people', 'with', 'autism', 'sometimes', 'have'], ['a', 'persistent', 'intense', 'preoccupation', 'for', 'example', 'the', 'child', 'might', 'be', 'obsessed', 'with', 'learning', 'all', 'about', 'vacuum', 'cleaners', 'train', 'schedules', 'or', 'lighthouses', 'often', 'they', 'show', 'great', 'interest', 'in', 'different', 'languages', 'numbers'], ['symbols', 'or', 'science', 'topics', 'repetitive', 'behaviors', 'can', 'also', 'extend', 'into', 'the', 'spoken', 'word', 'as', 'well', 'perseveration', 'of', 'a', 'single', 'word', 'or', 'phrase', 'even', 'for', 'a', 'specific', 'number', 'of', 'times', 'can'], ['also', 'become', 'a', 'part', 'of', 'the', 'child', 's', 'daily', 'routine', 'effects', 'in', 'education', 'children', 'with', 'autism', 'are', 'affected', 'with', 'these', 'symptoms', 'every', 'day', 'these', 'unusual', 'characteristics', 'set', 'them', 'apart', 'from'], ['the', 'everyday', 'normal', 'student', 'because', 'they', 'have', 'trouble', 'understanding', 'people', 's', 'thoughts', 'and', 'feelings', 'they', 'have', 'trouble', 'understanding', 'what', 'their', 'teacher', 'may', 'be', 'telling', 'them', 'they', 'do', 'not', 'understand', 'that'], ['facial', 'expressions', 'and', 'vocal', 'variations', 'hold', 'meanings', 'and', 'may', 'misinterpret', 'what', 'emotion', 'their', 'instructor', 'is', 'displaying', 'this', 'inability', 'to', 'fully', 'decipher', 'the', 'world', 'around', 'them', 'makes', 'education', 'stressful', 'teachers', 'need'], ['to', 'be', 'aware', 'of', 'a', 'student', 's', 'disorder', 'so', 'that', 'they', 'are', 'able', 'to', 'help', 'the', 'student', 'get', 'the', 'best', 'out', 'of', 'the', 'lessons', 'being', 'taught', 'some', 'students', 'learn', 'better'], ['with', 'visual', 'aids', 'as', 'they', 'are', 'better', 'able', 'to', 'understand', 'material', 'presented', 'this', 'way', 'because', 'of', 'this', 'many', 'teachers', 'create', 'visual', 'schedules', 'for', 'their', 'autistic', 'students', 'this', 'allows', 'the', 'student'], ['to', 'know', 'what', 'is', 'going', 'on', 'throughout', 'the', 'day', 'so', 'they', 'know', 'what', 'to', 'prepare', 'for', 'and', 'what', 'activity', 'they', 'will', 'be', 'doing', 'next', 'some', 'autistic', 'children', 'have', 'trouble', 'going'], ['from', 'one', 'activity', 'to', 'the', 'next', 'so', 'this', 'visual', 'schedule', 'can', 'help', 'to', 'reduce', 'stress', 'research', 'has', 'shown', 'that', 'working', 'in', 'pairs', 'may', 'be', 'beneficial', 'to', 'autistic', 'children', 'autistic', 'students'], ['have', 'problems', 'in', 'schools', 'not', 'only', 'with', 'language', 'and', 'communication', 'but', 'with', 'socialization', 'as', 'well', 'they', 'feel', 'self', 'conscious', 'about', 'themselves', 'and', 'many', 'feel', 'that', 'they', 'will', 'always', 'be', 'outcasts'], ['by', 'allowing', 'them', 'to', 'work', 'with', 'peers', 'they', 'can', 'make', 'friends', 'which', 'in', 'turn', 'can', 'help', 'them', 'cope', 'with', 'the', 'problems', 'that', 'arise', 'by', 'doing', 'so', 'they', 'can', 'become', 'more'], ['integrated', 'into', 'the', 'mainstream', 'environment', 'of', 'the', 'classroom', 'a', 'teacher', 's', 'aide', 'can', 'also', 'be', 'useful', 'to', 'the', 'student', 'the', 'aide', 'is', 'able', 'to', 'give', 'more', 'elaborate', 'directions', 'that', 'the'], ['teacher', 'may', 'not', 'have', 'time', 'to', 'explain', 'to', 'the', 'autistic', 'child', 'the', 'aide', 'can', 'also', 'facilitate', 'the', 'autistic', 'child', 'in', 'such', 'a', 'way', 'as', 'to', 'allow', 'them', 'to', 'stay', 'at'], ['a', 'similar', 'level', 'to', 'the', 'rest', 'of', 'the', 'class', 'this', 'allows', 'a', 'partially', 'one', 'on', 'one', 'lesson', 'structure', 'so', 'that', 'the', 'child', 'is', 'still', 'able', 'to', 'stay', 'in', 'a', 'normal'], ['classroom', 'but', 'be', 'given', 'the', 'extra', 'help', 'that', 'they', 'need', 'there', 'are', 'many', 'different', 'techniques', 'that', 'teachers', 'can', 'use', 'to', 'assist', 'their', 'students', 'a', 'teacher', 'needs', 'to', 'become', 'familiar', 'with'], ['the', 'child', 's', 'disorder', 'to', 'know', 'what', 'will', 'work', 'best', 'with', 'that', 'particular', 'child', 'every', 'child', 'is', 'going', 'to', 'be', 'different', 'and', 'teachers', 'have', 'to', 'be', 'able', 'to', 'adjust', 'with'], ['every', 'one', 'of', 'them', 'students', 'with', 'autism', 'spectrum', 'disorders', 'typically', 'have', 'high', 'levels', 'of', 'anxiety', 'and', 'stress', 'particularly', 'in', 'social', 'environments', 'like', 'school', 'if', 'a', 'student', 'exhibits', 'aggressive', 'or', 'explosive'], ['behavior', 'it', 'is', 'important', 'for', 'educational', 'teams', 'to', 'recognize', 'the', 'impact', 'of', 'stress', 'and', 'anxiety', 'preparing', 'students', 'for', 'new', 'situations', 'by', 'writing', 'social', 'stories', 'can', 'lower', 'anxiety', 'teaching', 'social', 'and'], ['emotional', 'concepts', 'using', 'systematic', 'teaching', 'approaches', 'such', 'as', 'the', 'incredible', 'five', 'point', 'scale', 'or', 'other', 'cognitive', 'behavioral', 'strategies', 'can', 'increase', 'a', 'student', 's', 'ability', 'to', 'control', 'excessive', 'behavioral', 'reactions', 'dsm'], ['definition', 'autism', 'is', 'defined', 'in', 'section', 'two', 'nine', 'nine', 'zero', 'zero', 'of', 'the', 'diagnostic', 'and', 'statistical', 'manual', 'of', 'mental', 'disorders', 'dsm', 'iv', 'as', 'a', 'total', 'of', 'six', 'or', 'more', 'items'], ['from', 'one', 'two', 'and', 'three', 'with', 'at', 'least', 'two', 'from', 'one', 'and', 'one', 'each', 'from', 'two', 'and', 'three', 'qualitative', 'impairment', 'in', 'social', 'interaction', 'as', 'manifested', 'by', 'at', 'least', 'two', 'of'], ['the', 'following', 'marked', 'impairment', 'in', 'the', 'use', 'of', 'multiple', 'nonverbal', 'behaviors', 'such', 'as', 'eye', 'to', 'eye', 'gaze', 'facial', 'expression', 'body', 'postures', 'and', 'gestures', 'to', 'regulate', 'social', 'interaction', 'failure', 'to', 'develop'], ['peer', 'relationships', 'appropriate', 'to', 'developmental', 'level', 'a', 'lack', 'of', 'spontaneous', 'seeking', 'to', 'share', 'enjoyment', 'interests', 'or', 'achievements', 'with', 'other', 'people', 'e', 'g', 'by', 'a', 'lack', 'of', 'showing', 'bringing', 'or', 'pointing']]\n"
     ]
    }
   ],
   "source": [
    "print(text8_first_sentence)"
   ]
  },
  {
   "cell_type": "code",
   "execution_count": 225,
   "metadata": {},
   "outputs": [
    {
     "data": {
      "text/plain": [
       "torch.Size([1])"
      ]
     },
     "execution_count": 225,
     "metadata": {},
     "output_type": "execute_result"
    }
   ],
   "source": [
    "w2v.data.dataset_tensors[0][0].size()\n"
   ]
  },
  {
   "cell_type": "code",
   "execution_count": 226,
   "metadata": {},
   "outputs": [
    {
     "name": "stdout",
     "output_type": "stream",
     "text": [
      "starting training\n",
      "loss = tensor(2.0763, grad_fn=<DivBackward0>)\n",
      "2 epoch of 10\n",
      "loss = tensor(2.0773, grad_fn=<DivBackward0>)\n",
      "3 epoch of 10\n",
      "loss = tensor(2.0666, grad_fn=<DivBackward0>)\n",
      "4 epoch of 10\n",
      "loss = tensor(2.0611, grad_fn=<DivBackward0>)\n",
      "5 epoch of 10\n",
      "loss = tensor(2.0623, grad_fn=<DivBackward0>)\n",
      "6 epoch of 10\n",
      "loss = tensor(2.0610, grad_fn=<DivBackward0>)\n",
      "7 epoch of 10\n",
      "loss = tensor(2.0736, grad_fn=<DivBackward0>)\n",
      "8 epoch of 10\n",
      "loss = tensor(2.0371, grad_fn=<DivBackward0>)\n",
      "9 epoch of 10\n",
      "loss = tensor(2.0458, grad_fn=<DivBackward0>)\n",
      "10 epoch of 10\n"
     ]
    }
   ],
   "source": [
    "w2v.train_with_loader()"
   ]
  },
  {
   "cell_type": "markdown",
   "metadata": {},
   "source": [
    "### EVALUATION"
   ]
  },
  {
   "cell_type": "code",
   "execution_count": 70,
   "metadata": {},
   "outputs": [],
   "source": [
    "dict_emb = get_embedding(model, text8_dataset)"
   ]
  },
  {
   "cell_type": "code",
   "execution_count": 110,
   "metadata": {},
   "outputs": [
    {
     "name": "stdout",
     "output_type": "stream",
     "text": [
      "0.9448586255311966\n",
      "0.7955727875232697\n"
     ]
    }
   ],
   "source": [
    "from scipy import spatial\n",
    "\n",
    "x = spatial.distance.cosine(dict_emb['artist'], dict_emb['music'])\n",
    "y = spatial.distance.cosine(dict_emb['anarchism'],dict_emb['music'])\n",
    "print(x)\n",
    "print(y)"
   ]
  },
  {
   "cell_type": "code",
   "execution_count": 111,
   "metadata": {
    "scrolled": true
   },
   "outputs": [
    {
     "name": "stdout",
     "output_type": "stream",
     "text": [
      "0\n",
      "1000000\n",
      "2000000\n",
      "3000000\n",
      "4000000\n"
     ]
    },
    {
     "ename": "KeyboardInterrupt",
     "evalue": "",
     "output_type": "error",
     "traceback": [
      "\u001b[0;31m---------------------------------------------------------------\u001b[0m",
      "\u001b[0;31mKeyboardInterrupt\u001b[0m             Traceback (most recent call last)",
      "\u001b[0;32m<ipython-input-111-1626a600654d>\u001b[0m in \u001b[0;36m<module>\u001b[0;34m\u001b[0m\n\u001b[1;32m      6\u001b[0m     \u001b[0;32mif\u001b[0m\u001b[0;34m(\u001b[0m\u001b[0mi\u001b[0m\u001b[0;34m%\u001b[0m\u001b[0;36m1000000\u001b[0m\u001b[0;34m==\u001b[0m\u001b[0;36m0\u001b[0m\u001b[0;34m)\u001b[0m\u001b[0;34m:\u001b[0m\u001b[0;34m\u001b[0m\u001b[0;34m\u001b[0m\u001b[0m\n\u001b[1;32m      7\u001b[0m         \u001b[0mprint\u001b[0m\u001b[0;34m(\u001b[0m\u001b[0mi\u001b[0m\u001b[0;34m)\u001b[0m\u001b[0;34m\u001b[0m\u001b[0;34m\u001b[0m\u001b[0m\n\u001b[0;32m----> 8\u001b[0;31m     \u001b[0mdistance\u001b[0m \u001b[0;34m=\u001b[0m \u001b[0mspatial\u001b[0m\u001b[0;34m.\u001b[0m\u001b[0mdistance\u001b[0m\u001b[0;34m.\u001b[0m\u001b[0mcosine\u001b[0m\u001b[0;34m(\u001b[0m\u001b[0mdict_emb\u001b[0m\u001b[0;34m[\u001b[0m\u001b[0mx\u001b[0m\u001b[0;34m]\u001b[0m\u001b[0;34m,\u001b[0m \u001b[0mdict_emb\u001b[0m\u001b[0;34m[\u001b[0m\u001b[0my\u001b[0m\u001b[0;34m]\u001b[0m\u001b[0;34m)\u001b[0m\u001b[0;34m\u001b[0m\u001b[0;34m\u001b[0m\u001b[0m\n\u001b[0m\u001b[1;32m      9\u001b[0m     \u001b[0mscore_dict\u001b[0m\u001b[0;34m[\u001b[0m\u001b[0;34m(\u001b[0m\u001b[0mx\u001b[0m\u001b[0;34m,\u001b[0m\u001b[0my\u001b[0m\u001b[0;34m)\u001b[0m\u001b[0;34m]\u001b[0m \u001b[0;34m=\u001b[0m \u001b[0mdistance\u001b[0m\u001b[0;34m\u001b[0m\u001b[0;34m\u001b[0m\u001b[0m\n\u001b[1;32m     10\u001b[0m     \u001b[0mscore\u001b[0m\u001b[0;34m.\u001b[0m\u001b[0mappend\u001b[0m\u001b[0;34m(\u001b[0m\u001b[0mdistance\u001b[0m\u001b[0;34m)\u001b[0m\u001b[0;34m\u001b[0m\u001b[0;34m\u001b[0m\u001b[0m\n",
      "\u001b[0;32m/usr/lib/python3.7/site-packages/scipy/spatial/distance.py\u001b[0m in \u001b[0;36mcosine\u001b[0;34m(u, v, w)\u001b[0m\n\u001b[1;32m    746\u001b[0m     \u001b[0;31m# cosine distance is also referred to as 'uncentered correlation',\u001b[0m\u001b[0;34m\u001b[0m\u001b[0;34m\u001b[0m\u001b[0;34m\u001b[0m\u001b[0m\n\u001b[1;32m    747\u001b[0m     \u001b[0;31m#   or 'reflective correlation'\u001b[0m\u001b[0;34m\u001b[0m\u001b[0;34m\u001b[0m\u001b[0;34m\u001b[0m\u001b[0m\n\u001b[0;32m--> 748\u001b[0;31m     \u001b[0;32mreturn\u001b[0m \u001b[0mcorrelation\u001b[0m\u001b[0;34m(\u001b[0m\u001b[0mu\u001b[0m\u001b[0;34m,\u001b[0m \u001b[0mv\u001b[0m\u001b[0;34m,\u001b[0m \u001b[0mw\u001b[0m\u001b[0;34m=\u001b[0m\u001b[0mw\u001b[0m\u001b[0;34m,\u001b[0m \u001b[0mcentered\u001b[0m\u001b[0;34m=\u001b[0m\u001b[0;32mFalse\u001b[0m\u001b[0;34m)\u001b[0m\u001b[0;34m\u001b[0m\u001b[0;34m\u001b[0m\u001b[0m\n\u001b[0m\u001b[1;32m    749\u001b[0m \u001b[0;34m\u001b[0m\u001b[0m\n\u001b[1;32m    750\u001b[0m \u001b[0;34m\u001b[0m\u001b[0m\n",
      "\u001b[0;32m/usr/lib/python3.7/site-packages/scipy/spatial/distance.py\u001b[0m in \u001b[0;36mcorrelation\u001b[0;34m(u, v, w, centered)\u001b[0m\n\u001b[1;32m    697\u001b[0m         \u001b[0mu\u001b[0m \u001b[0;34m=\u001b[0m \u001b[0mu\u001b[0m \u001b[0;34m-\u001b[0m \u001b[0mumu\u001b[0m\u001b[0;34m\u001b[0m\u001b[0;34m\u001b[0m\u001b[0m\n\u001b[1;32m    698\u001b[0m         \u001b[0mv\u001b[0m \u001b[0;34m=\u001b[0m \u001b[0mv\u001b[0m \u001b[0;34m-\u001b[0m \u001b[0mvmu\u001b[0m\u001b[0;34m\u001b[0m\u001b[0;34m\u001b[0m\u001b[0m\n\u001b[0;32m--> 699\u001b[0;31m     \u001b[0muv\u001b[0m \u001b[0;34m=\u001b[0m \u001b[0mnp\u001b[0m\u001b[0;34m.\u001b[0m\u001b[0maverage\u001b[0m\u001b[0;34m(\u001b[0m\u001b[0mu\u001b[0m \u001b[0;34m*\u001b[0m \u001b[0mv\u001b[0m\u001b[0;34m,\u001b[0m \u001b[0mweights\u001b[0m\u001b[0;34m=\u001b[0m\u001b[0mw\u001b[0m\u001b[0;34m)\u001b[0m\u001b[0;34m\u001b[0m\u001b[0;34m\u001b[0m\u001b[0m\n\u001b[0m\u001b[1;32m    700\u001b[0m     \u001b[0muu\u001b[0m \u001b[0;34m=\u001b[0m \u001b[0mnp\u001b[0m\u001b[0;34m.\u001b[0m\u001b[0maverage\u001b[0m\u001b[0;34m(\u001b[0m\u001b[0mnp\u001b[0m\u001b[0;34m.\u001b[0m\u001b[0msquare\u001b[0m\u001b[0;34m(\u001b[0m\u001b[0mu\u001b[0m\u001b[0;34m)\u001b[0m\u001b[0;34m,\u001b[0m \u001b[0mweights\u001b[0m\u001b[0;34m=\u001b[0m\u001b[0mw\u001b[0m\u001b[0;34m)\u001b[0m\u001b[0;34m\u001b[0m\u001b[0;34m\u001b[0m\u001b[0m\n\u001b[1;32m    701\u001b[0m     \u001b[0mvv\u001b[0m \u001b[0;34m=\u001b[0m \u001b[0mnp\u001b[0m\u001b[0;34m.\u001b[0m\u001b[0maverage\u001b[0m\u001b[0;34m(\u001b[0m\u001b[0mnp\u001b[0m\u001b[0;34m.\u001b[0m\u001b[0msquare\u001b[0m\u001b[0;34m(\u001b[0m\u001b[0mv\u001b[0m\u001b[0;34m)\u001b[0m\u001b[0;34m,\u001b[0m \u001b[0mweights\u001b[0m\u001b[0;34m=\u001b[0m\u001b[0mw\u001b[0m\u001b[0;34m)\u001b[0m\u001b[0;34m\u001b[0m\u001b[0;34m\u001b[0m\u001b[0m\n",
      "\u001b[0;32m/usr/lib/python3.7/site-packages/numpy/lib/function_base.py\u001b[0m in \u001b[0;36maverage\u001b[0;34m(a, axis, weights, returned)\u001b[0m\n\u001b[1;32m    390\u001b[0m \u001b[0;34m\u001b[0m\u001b[0m\n\u001b[1;32m    391\u001b[0m     \u001b[0;32mif\u001b[0m \u001b[0mweights\u001b[0m \u001b[0;32mis\u001b[0m \u001b[0;32mNone\u001b[0m\u001b[0;34m:\u001b[0m\u001b[0;34m\u001b[0m\u001b[0;34m\u001b[0m\u001b[0m\n\u001b[0;32m--> 392\u001b[0;31m         \u001b[0mavg\u001b[0m \u001b[0;34m=\u001b[0m \u001b[0ma\u001b[0m\u001b[0;34m.\u001b[0m\u001b[0mmean\u001b[0m\u001b[0;34m(\u001b[0m\u001b[0maxis\u001b[0m\u001b[0;34m)\u001b[0m\u001b[0;34m\u001b[0m\u001b[0;34m\u001b[0m\u001b[0m\n\u001b[0m\u001b[1;32m    393\u001b[0m         \u001b[0mscl\u001b[0m \u001b[0;34m=\u001b[0m \u001b[0mavg\u001b[0m\u001b[0;34m.\u001b[0m\u001b[0mdtype\u001b[0m\u001b[0;34m.\u001b[0m\u001b[0mtype\u001b[0m\u001b[0;34m(\u001b[0m\u001b[0ma\u001b[0m\u001b[0;34m.\u001b[0m\u001b[0msize\u001b[0m\u001b[0;34m/\u001b[0m\u001b[0mavg\u001b[0m\u001b[0;34m.\u001b[0m\u001b[0msize\u001b[0m\u001b[0;34m)\u001b[0m\u001b[0;34m\u001b[0m\u001b[0;34m\u001b[0m\u001b[0m\n\u001b[1;32m    394\u001b[0m     \u001b[0;32melse\u001b[0m\u001b[0;34m:\u001b[0m\u001b[0;34m\u001b[0m\u001b[0;34m\u001b[0m\u001b[0m\n",
      "\u001b[0;32m/usr/lib/python3.7/site-packages/numpy/core/_methods.py\u001b[0m in \u001b[0;36m_mean\u001b[0;34m(a, axis, dtype, out, keepdims)\u001b[0m\n\u001b[1;32m     56\u001b[0m     \u001b[0;32mreturn\u001b[0m \u001b[0mitems\u001b[0m\u001b[0;34m\u001b[0m\u001b[0;34m\u001b[0m\u001b[0m\n\u001b[1;32m     57\u001b[0m \u001b[0;34m\u001b[0m\u001b[0m\n\u001b[0;32m---> 58\u001b[0;31m \u001b[0;32mdef\u001b[0m \u001b[0m_mean\u001b[0m\u001b[0;34m(\u001b[0m\u001b[0ma\u001b[0m\u001b[0;34m,\u001b[0m \u001b[0maxis\u001b[0m\u001b[0;34m=\u001b[0m\u001b[0;32mNone\u001b[0m\u001b[0;34m,\u001b[0m \u001b[0mdtype\u001b[0m\u001b[0;34m=\u001b[0m\u001b[0;32mNone\u001b[0m\u001b[0;34m,\u001b[0m \u001b[0mout\u001b[0m\u001b[0;34m=\u001b[0m\u001b[0;32mNone\u001b[0m\u001b[0;34m,\u001b[0m \u001b[0mkeepdims\u001b[0m\u001b[0;34m=\u001b[0m\u001b[0;32mFalse\u001b[0m\u001b[0;34m)\u001b[0m\u001b[0;34m:\u001b[0m\u001b[0;34m\u001b[0m\u001b[0;34m\u001b[0m\u001b[0m\n\u001b[0m\u001b[1;32m     59\u001b[0m     \u001b[0marr\u001b[0m \u001b[0;34m=\u001b[0m \u001b[0masanyarray\u001b[0m\u001b[0;34m(\u001b[0m\u001b[0ma\u001b[0m\u001b[0;34m)\u001b[0m\u001b[0;34m\u001b[0m\u001b[0;34m\u001b[0m\u001b[0m\n\u001b[1;32m     60\u001b[0m \u001b[0;34m\u001b[0m\u001b[0m\n",
      "\u001b[0;31mKeyboardInterrupt\u001b[0m: "
     ]
    }
   ],
   "source": [
    "import itertools\n",
    "import numpy as np\n",
    "score = []\n",
    "score_dict = dict()\n",
    "for i,(x,y) in enumerate(itertools.product(text8_dataset.vocab,text8_dataset.vocab)):\n",
    "    if(i%1000000==0):\n",
    "        print(i)\n",
    "    distance = spatial.distance.cosine(dict_emb[x], dict_emb[y])\n",
    "    score_dict[(x,y)] = distance\n",
    "    score.append(distance)\n",
    "print(np.mean(score))\n",
    "    \n"
   ]
  },
  {
   "cell_type": "code",
   "execution_count": 77,
   "metadata": {
    "scrolled": true
   },
   "outputs": [
    {
     "data": {
      "text/plain": [
       "0.11336667971198654"
      ]
     },
     "execution_count": 77,
     "metadata": {},
     "output_type": "execute_result"
    }
   ],
   "source": [
    "np.std(score)\n",
    "#print(score_dict[('anarchism','music')])"
   ]
  },
  {
   "cell_type": "code",
   "execution_count": 221,
   "metadata": {},
   "outputs": [],
   "source": [
    "import random\n",
    "def get_closest(score_dict, word):\n",
    "    closest = ()\n",
    "    distance = 3\n",
    "    for (x,y),score in score_dict.items():\n",
    "        #print(x,y,score)\n",
    "        if((x != y) and ((x==word)or(y==word))):\n",
    "            if (distance > score):\n",
    "                closest = (x,y)\n",
    "                distance = score\n",
    "    return closest\n",
    "\n",
    "def get_closest_with_score(dict_emb,y):\n",
    "    distance = 100\n",
    "    for x,emb in dict_emb.items():\n",
    "        if(spatial.distance.cosine(dict_emb[x], dict_emb[y])<distance):\n",
    "            closest = x\n",
    "    return x\n",
    "        "
   ]
  },
  {
   "cell_type": "code",
   "execution_count": 204,
   "metadata": {},
   "outputs": [],
   "source": [
    "file = open(\"./data/questions-words.txt\")\n",
    "questions = file.readlines()\n",
    "for i,x in enumerate(questions): \n",
    "    questions[i] = x.rstrip(\"\\n\").split()\n",
    "    if x[0]==':':\n",
    "        del questions[i]\n",
    "    \n"
   ]
  },
  {
   "cell_type": "code",
   "execution_count": 213,
   "metadata": {},
   "outputs": [],
   "source": [
    "def analogy_task(questions,dict_emb):\n",
    "    score = []\n",
    "    if all(word in dict_emb for word in questions):\n",
    "        y = dict_emb[questions[0]] -  dict_emb[questions[1]] +  dict_emb[questions[2]]\n",
    "        x = get_closest_with_score(dict_emb,y)\n",
    "        if x == questions[3]:\n",
    "            score.append(1)\n",
    "        else: \n",
    "            score.append(0)\n",
    "    return score\n",
    "        "
   ]
  },
  {
   "cell_type": "code",
   "execution_count": 216,
   "metadata": {},
   "outputs": [
    {
     "name": "stdout",
     "output_type": "stream",
     "text": [
      "[]\n"
     ]
    }
   ],
   "source": [
    "score = analogy_task(questions,dict_emb)\n",
    "print(score)"
   ]
  },
  {
   "cell_type": "code",
   "execution_count": 218,
   "metadata": {},
   "outputs": [],
   "source": [
    "words = random.sample(dict_emb.keys(),10)"
   ]
  },
  {
   "cell_type": "code",
   "execution_count": 222,
   "metadata": {},
   "outputs": [
    {
     "name": "stdout",
     "output_type": "stream",
     "text": [
      "('armed', 'with')\n",
      "('zerzan', 'developments')\n",
      "('writings', 'increase')\n",
      "('list', 'women')\n",
      "('science', 'archons')\n",
      "('mysogyny', 'coo')\n",
      "('dominance', 'existing')\n",
      "('chomsky', 'controlled')\n",
      "('interact', 'assist')\n",
      "('operative', 'cgt')\n"
     ]
    }
   ],
   "source": [
    "for x in words:\n",
    "    print(get_closest(score_dict,x))"
   ]
  },
  {
   "cell_type": "code",
   "execution_count": 7,
   "metadata": {},
   "outputs": [
    {
     "data": {
      "text/plain": [
       "tensor([[3, 3],\n",
       "        [1, 2],\n",
       "        [3, 1],\n",
       "        [1, 2],\n",
       "        [1, 3],\n",
       "        [2, 3],\n",
       "        [3, 0],\n",
       "        [2, 2],\n",
       "        [0, 2],\n",
       "        [0, 1]])"
      ]
     },
     "execution_count": 7,
     "metadata": {},
     "output_type": "execute_result"
    }
   ],
   "source": [
    "import numpy as np\n",
    "import torch\n",
    "import random\n"
   ]
  },
  {
   "cell_type": "code",
   "execution_count": 21,
   "metadata": {},
   "outputs": [
    {
     "ename": "KeyboardInterrupt",
     "evalue": "",
     "output_type": "error",
     "traceback": [
      "\u001b[0;31m---------------------------------------------------------------------------\u001b[0m",
      "\u001b[0;31mKeyboardInterrupt\u001b[0m                         Traceback (most recent call last)",
      "\u001b[0;32m<timed exec>\u001b[0m in \u001b[0;36m<module>\u001b[0;34m\u001b[0m\n",
      "\u001b[0;32mmtrand.pyx\u001b[0m in \u001b[0;36mmtrand.RandomState.choice\u001b[0;34m()\u001b[0m\n",
      "\u001b[0;32m/usr/lib/python3.7/site-packages/numpy/core/fromnumeric.py\u001b[0m in \u001b[0;36mprod\u001b[0;34m(a, axis, dtype, out, keepdims, initial)\u001b[0m\n\u001b[1;32m   2662\u001b[0m \u001b[0;34m\u001b[0m\u001b[0m\n\u001b[1;32m   2663\u001b[0m \u001b[0;34m\u001b[0m\u001b[0m\n\u001b[0;32m-> 2664\u001b[0;31m \u001b[0;34m@\u001b[0m\u001b[0marray_function_dispatch\u001b[0m\u001b[0;34m(\u001b[0m\u001b[0m_prod_dispatcher\u001b[0m\u001b[0;34m)\u001b[0m\u001b[0;34m\u001b[0m\u001b[0;34m\u001b[0m\u001b[0m\n\u001b[0m\u001b[1;32m   2665\u001b[0m \u001b[0;32mdef\u001b[0m \u001b[0mprod\u001b[0m\u001b[0;34m(\u001b[0m\u001b[0ma\u001b[0m\u001b[0;34m,\u001b[0m \u001b[0maxis\u001b[0m\u001b[0;34m=\u001b[0m\u001b[0;32mNone\u001b[0m\u001b[0;34m,\u001b[0m \u001b[0mdtype\u001b[0m\u001b[0;34m=\u001b[0m\u001b[0;32mNone\u001b[0m\u001b[0;34m,\u001b[0m \u001b[0mout\u001b[0m\u001b[0;34m=\u001b[0m\u001b[0;32mNone\u001b[0m\u001b[0;34m,\u001b[0m \u001b[0mkeepdims\u001b[0m\u001b[0;34m=\u001b[0m\u001b[0mnp\u001b[0m\u001b[0;34m.\u001b[0m\u001b[0m_NoValue\u001b[0m\u001b[0;34m,\u001b[0m \u001b[0minitial\u001b[0m\u001b[0;34m=\u001b[0m\u001b[0mnp\u001b[0m\u001b[0;34m.\u001b[0m\u001b[0m_NoValue\u001b[0m\u001b[0;34m)\u001b[0m\u001b[0;34m:\u001b[0m\u001b[0;34m\u001b[0m\u001b[0;34m\u001b[0m\u001b[0m\n\u001b[1;32m   2666\u001b[0m     \"\"\"\n",
      "\u001b[0;31mKeyboardInterrupt\u001b[0m: "
     ]
    }
   ],
   "source": [
    "%%time\n",
    "for x in range(1,100000):\n",
    "    tmp = []\n",
    "    for x in range(1,11):\n",
    "        tmp.append(np.random.choice(range(0,10000000),5))\n",
    "    t = torch.tensor(tmp)\n",
    "    t.view(10,-1)"
   ]
  },
  {
   "cell_type": "code",
   "execution_count": 20,
   "metadata": {},
   "outputs": [
    {
     "ename": "IndentationError",
     "evalue": "unindent does not match any outer indentation level (<tokenize>, line 3)",
     "output_type": "error",
     "traceback": [
      "Traceback \u001b[0;36m(most recent call last)\u001b[0m:\n",
      "  File \u001b[1;32m\"/usr/lib/python3.7/site-packages/IPython/core/interactiveshell.py\"\u001b[0m, line \u001b[1;32m3291\u001b[0m, in \u001b[1;35mrun_code\u001b[0m\n    exec(code_obj, self.user_global_ns, self.user_ns)\n",
      "  File \u001b[1;32m\"<ipython-input-20-a8d30616b072>\"\u001b[0m, line \u001b[1;32m1\u001b[0m, in \u001b[1;35m<module>\u001b[0m\n    get_ipython().run_cell_magic('time', '', 'for x in range(1,100000):\\n      tmp = []\\n    for x in range(1,11):\\n    tmp.append(random.sample(range(0,10000000),5))\\n    t = torch.tensor(tmp)\\n    t.view(10,-1)\\n    \\n')\n",
      "  File \u001b[1;32m\"/usr/lib/python3.7/site-packages/IPython/core/interactiveshell.py\"\u001b[0m, line \u001b[1;32m2347\u001b[0m, in \u001b[1;35mrun_cell_magic\u001b[0m\n    result = fn(magic_arg_s, cell)\n",
      "  File \u001b[1;32m\"</usr/lib/python3.7/site-packages/decorator.py:decorator-gen-61>\"\u001b[0m, line \u001b[1;32m2\u001b[0m, in \u001b[1;35mtime\u001b[0m\n",
      "  File \u001b[1;32m\"/usr/lib/python3.7/site-packages/IPython/core/magic.py\"\u001b[0m, line \u001b[1;32m187\u001b[0m, in \u001b[1;35m<lambda>\u001b[0m\n    call = lambda f, *a, **k: f(*a, **k)\n",
      "  File \u001b[1;32m\"/usr/lib/python3.7/site-packages/IPython/core/magics/execution.py\"\u001b[0m, line \u001b[1;32m1248\u001b[0m, in \u001b[1;35mtime\u001b[0m\n    expr = self.shell.transform_cell(cell)\n",
      "  File \u001b[1;32m\"/usr/lib/python3.7/site-packages/IPython/core/interactiveshell.py\"\u001b[0m, line \u001b[1;32m3076\u001b[0m, in \u001b[1;35mtransform_cell\u001b[0m\n    cell = self.input_transformer_manager.transform_cell(raw_cell)\n",
      "  File \u001b[1;32m\"/usr/lib/python3.7/site-packages/IPython/core/inputtransformer2.py\"\u001b[0m, line \u001b[1;32m576\u001b[0m, in \u001b[1;35mtransform_cell\u001b[0m\n    lines = self.do_token_transforms(lines)\n",
      "  File \u001b[1;32m\"/usr/lib/python3.7/site-packages/IPython/core/inputtransformer2.py\"\u001b[0m, line \u001b[1;32m561\u001b[0m, in \u001b[1;35mdo_token_transforms\u001b[0m\n    changed, lines = self.do_one_token_transform(lines)\n",
      "  File \u001b[1;32m\"/usr/lib/python3.7/site-packages/IPython/core/inputtransformer2.py\"\u001b[0m, line \u001b[1;32m541\u001b[0m, in \u001b[1;35mdo_one_token_transform\u001b[0m\n    tokens_by_line = make_tokens_by_line(lines)\n",
      "  File \u001b[1;32m\"/usr/lib/python3.7/site-packages/IPython/core/inputtransformer2.py\"\u001b[0m, line \u001b[1;32m471\u001b[0m, in \u001b[1;35mmake_tokens_by_line\u001b[0m\n    for token in tokenize.generate_tokens(iter(lines).__next__):\n",
      "\u001b[0;36m  File \u001b[0;32m\"/usr/lib/python3.7/tokenize.py\"\u001b[0;36m, line \u001b[0;32m572\u001b[0;36m, in \u001b[0;35m_tokenize\u001b[0;36m\u001b[0m\n\u001b[0;31m    (\"<tokenize>\", lnum, pos, line))\u001b[0m\n",
      "\u001b[0;36m  File \u001b[0;32m\"<tokenize>\"\u001b[0;36m, line \u001b[0;32m3\u001b[0m\n\u001b[0;31m    for x in range(1,11):\u001b[0m\n\u001b[0m    ^\u001b[0m\n\u001b[0;31mIndentationError\u001b[0m\u001b[0;31m:\u001b[0m unindent does not match any outer indentation level\n"
     ]
    }
   ],
   "source": [
    "%%time\n",
    "for x in range(1,100000):\n",
    "    tmp = []\n",
    "    for x in range(1,11):\n",
    "        tmp.append(random.sample(range(0,10000000),5))\n",
    "    t = torch.tensor(tmp)\n",
    "    t.view(10,-1)\n",
    "    "
   ]
  },
  {
   "cell_type": "code",
   "execution_count": null,
   "metadata": {},
   "outputs": [],
   "source": []
  },
  {
   "cell_type": "code",
   "execution_count": 38,
   "metadata": {},
   "outputs": [],
   "source": [
    "### TABLE FOR CHOOSING NEG SAMPLES\n",
    "def make_cum_table(power):\n",
    "    pow_frequency = np.array([text8_dataset_first_sentence.word_count[text8_dataset_first_sentence.idx2word[i]] for i in range(len(text8_dataset_first_sentence.vocab))])**power\n",
    "    return pow_frequency / pow_frequency.sum()"
   ]
  },
  {
   "cell_type": "code",
   "execution_count": 39,
   "metadata": {},
   "outputs": [
    {
     "name": "stdout",
     "output_type": "stream",
     "text": [
      "[0.00017816 0.00017816 0.00017816 ... 0.00029963 0.00107612 0.00040612]\n"
     ]
    }
   ],
   "source": [
    "print(make_cum_table(0.75))"
   ]
  },
  {
   "cell_type": "code",
   "execution_count": 108,
   "metadata": {},
   "outputs": [],
   "source": [
    "import math\n"
   ]
  },
  {
   "cell_type": "code",
   "execution_count": 170,
   "metadata": {},
   "outputs": [
    {
     "data": {
      "text/plain": [
       "[(102, 0.9010298123715242, 'anarchism'),\n",
       " (2, 0.2932114884917837, 'originated'),\n",
       " (133, 0.913328031779658, 'as'),\n",
       " (184, 0.9263122038302961, 'a'),\n",
       " (16, 0.750112525323897, 'term'),\n",
       " (355, 0.9469493996529437, 'of'),\n",
       " (2, 0.2932114884917837, 'abuse'),\n",
       " (25, 0.8000900202591177, 'first'),\n",
       " (13, 0.7227747375258775, 'used'),\n",
       " (16, 0.750112525323897, 'against'),\n",
       " (15, 0.7419173259076335, 'early'),\n",
       " (6, 0.5919354626205964, 'working'),\n",
       " (11, 0.6986243660690654, 'class'),\n",
       " (1, 0.0004501012955880901, 'radicals'),\n",
       " (9, 0.6668167004318627, 'including'),\n",
       " (521, 0.9562089238619531, 'the'),\n",
       " (2, 0.2932114884917837, 'diggers'),\n",
       " (6, 0.5919354626205964, 'english'),\n",
       " (12, 0.7114547984572723, 'revolution'),\n",
       " (302, 0.9424823666542567, 'and'),\n",
       " (1, 0.0004501012955880901, 'sans'),\n",
       " (1, 0.0004501012955880901, 'culottes'),\n",
       " (7, 0.6222056492897605, 'french'),\n",
       " (2, 0.2932114884917837, 'whilst'),\n",
       " (110, 0.9046966565501122, 'is'),\n",
       " (5, 0.5529876959187812, 'still'),\n",
       " (250, 0.9367829137020695, 'in'),\n",
       " (1, 0.0004501012955880901, 'pejorative'),\n",
       " (6, 0.5919354626205964, 'way'),\n",
       " (227, 0.9336575431122491, 'to'),\n",
       " (3, 0.42290959691454466, 'describe'),\n",
       " (5, 0.5529876959187812, 'any'),\n",
       " (2, 0.2932114884917837, 'act'),\n",
       " (102, 0.9010298123715242, 'that'),\n",
       " (6, 0.5919354626205964, 'violent'),\n",
       " (11, 0.6986243660690654, 'means'),\n",
       " (2, 0.2932114884917837, 'destroy'),\n",
       " (4, 0.5002250506477941, 'organization'),\n",
       " (21, 0.7818803299191234, 'society'),\n",
       " (43, 0.8475700694714774, 'it'),\n",
       " (21, 0.7818803299191234, 'has'),\n",
       " (32, 0.823302872122946, 'also'),\n",
       " (14, 0.7328590527188209, 'been'),\n",
       " (2, 0.2932114884917837, 'taken'),\n",
       " (7, 0.6222056492897605, 'up'),\n",
       " (2, 0.2932114884917837, 'positive'),\n",
       " (4, 0.5002250506477941, 'label'),\n",
       " (57, 0.867606381666492, 'by'),\n",
       " (14, 0.7328590527188209, 'self'),\n",
       " (3, 0.42290959691454466, 'defined')]"
      ]
     },
     "execution_count": 170,
     "metadata": {},
     "output_type": "execute_result"
    }
   ],
   "source": [
    "\n",
    "\n",
    "\n",
    "p = one\n",
    "x = list(zip(count,one, text8_dataset_first_sentence.word_count))[0:50]\n",
    "x"
   ]
  },
  {
   "cell_type": "code",
   "execution_count": 142,
   "metadata": {},
   "outputs": [
    {
     "data": {
      "text/plain": [
       "0.9010298123715242"
      ]
     },
     "execution_count": 142,
     "metadata": {},
     "output_type": "execute_result"
    }
   ],
   "source": [
    "p[0]"
   ]
  },
  {
   "cell_type": "code",
   "execution_count": 215,
   "metadata": {},
   "outputs": [],
   "source": [
    "x = list(range(0,3))\n",
    "y = [0.1,0.4,0.8,1]\n",
    "z = []\n",
    "for x in range(0,100000):\n",
    "    z.append([a for i,a in enumerate(y) if random.random() < y[i]])"
   ]
  },
  {
   "cell_type": "code",
   "execution_count": 216,
   "metadata": {},
   "outputs": [],
   "source": [
    "x = [1 for x in z if 0.1 in x]\n",
    "y = [1 for x in z if 0.4 in x]\n",
    "a = [1 for x in z if 0.8 in x]"
   ]
  },
  {
   "cell_type": "code",
   "execution_count": 214,
   "metadata": {},
   "outputs": [
    {
     "name": "stdout",
     "output_type": "stream",
     "text": [
      "0.09784\n",
      "0.39883\n",
      "0.80003\n"
     ]
    }
   ],
   "source": [
    "print(len(x)/len(z))\n",
    "print(len(y)/len(z))\n",
    "print(len(a)/len(z))"
   ]
  },
  {
   "cell_type": "code",
   "execution_count": null,
   "metadata": {},
   "outputs": [],
   "source": []
  }
 ],
 "metadata": {
  "kernelspec": {
   "display_name": "Python 3",
   "language": "python",
   "name": "python3"
  },
  "language_info": {
   "codemirror_mode": {
    "name": "ipython",
    "version": 3
   },
   "file_extension": ".py",
   "mimetype": "text/x-python",
   "name": "python",
   "nbconvert_exporter": "python",
   "pygments_lexer": "ipython3",
   "version": "3.7.2"
  }
 },
 "nbformat": 4,
 "nbformat_minor": 2
}
