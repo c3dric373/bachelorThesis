{
 "cells": [
  {
   "cell_type": "code",
   "execution_count": 14,
   "metadata": {},
   "outputs": [],
   "source": [
    "%config IPCompleter.greedy=True"
   ]
  },
  {
   "cell_type": "markdown",
   "metadata": {},
   "source": [
    "### Tensors"
   ]
  },
  {
   "cell_type": "code",
   "execution_count": 74,
   "metadata": {
    "scrolled": false
   },
   "outputs": [
    {
     "name": "stdout",
     "output_type": "stream",
     "text": [
      "tensor([[ 1,  1],\n",
      "        [-1, -1]])\n",
      "tensor([[0, 0],\n",
      "        [1, 1]])\n",
      "tensor([[1, 1],\n",
      "        [0, 0]])\n",
      "tensor([[1, 1],\n",
      "        [0, 0]])\n",
      "tensor([ 1,  1, -1, -1])\n",
      "torch.Size([4, 8, 2])\n",
      "False\n"
     ]
    }
   ],
   "source": [
    "from __future__ import print_function\n",
    "import torch\n",
    "import torch.nn as nn\n",
    "import torch.nn.functional as F\n",
    "import torch.optim as optim\n",
    "\n",
    "x=torch.tensor([[1,1],[-1,-1]])\n",
    "print(x)\n",
    "y=torch.tensor([[0,0],[1,1]])\n",
    "print(y)\n",
    "print(torch.add(x,y))\n",
    "print(y.add_(x))\n",
    "x0 = x.view(4)\n",
    "print(x0)\n",
    "x=torch.empty(5,3)\n",
    "z = torch.randn(4,4,4)\n",
    "z0 = z.view(-1,8,2)\n",
    "print(z0.size())\n",
    "print(torch.cuda.is_available())"
   ]
  },
  {
   "cell_type": "markdown",
   "metadata": {},
   "source": [
    "###  AutoGrad"
   ]
  },
  {
   "cell_type": "code",
   "execution_count": 42,
   "metadata": {},
   "outputs": [
    {
     "name": "stdout",
     "output_type": "stream",
     "text": [
      "<AddBackward0 object at 0x7fe15c66ec88>\n",
      "tensor([[14.7668, 20.4317],\n",
      "        [17.1685, 23.1552]], grad_fn=<MulBackward0>)\n",
      "tensor(18.8806, grad_fn=<MeanBackward1>)\n",
      "tensor([[3.3279, 3.9146],\n",
      "        [3.5884, 4.1673]])\n"
     ]
    }
   ],
   "source": [
    "x = torch.rand(2,2,requires_grad=True)\n",
    "#print(x)\n",
    "y = x + 2\n",
    "print(y.grad_fn)\n",
    "z = y * y * 3\n",
    "z_mean = z.mean()\n",
    "print(z)\n",
    "print(z_mean)\n",
    "z_mean.backward()\n",
    "print(x.grad)"
   ]
  },
  {
   "cell_type": "code",
   "execution_count": 43,
   "metadata": {},
   "outputs": [
    {
     "name": "stdout",
     "output_type": "stream",
     "text": [
      "tensor([[-0.7367, -1.2929,  0.1704],\n",
      "        [-0.4890, -0.2523,  0.0469],\n",
      "        [-0.2459,  0.2969, -2.6363]], requires_grad=True)\n"
     ]
    }
   ],
   "source": [
    "x = torch.randn(3,3,requires_grad=True)\n",
    "print(x)"
   ]
  },
  {
   "cell_type": "markdown",
   "metadata": {},
   "source": [
    "### Neural Networks"
   ]
  },
  {
   "cell_type": "code",
   "execution_count": 78,
   "metadata": {},
   "outputs": [
    {
     "name": "stdout",
     "output_type": "stream",
     "text": [
      "Net(\n",
      "  (fc1): Linear(in_features=28, out_features=15, bias=True)\n",
      "  (fc2): Linear(in_features=15, out_features=10, bias=True)\n",
      "  (fc3): Linear(in_features=10, out_features=10, bias=True)\n",
      ")\n",
      "torch.Size([28, 28])\n"
     ]
    }
   ],
   "source": [
    "class Net(nn.Module):\n",
    "    def __init__(self):\n",
    "        super(Net,self).__init__()\n",
    "        # an affine operation: y = Wx + b\n",
    "        self.fc1 = nn.Linear(28,15)\n",
    "        self.fc2 = nn.Linear(15,10)\n",
    "        self.fc3 = nn.Linear(10,10)\n",
    "        \n",
    "    def forward(self,x):\n",
    "        x=torch.sigmoid(self.fc1(x))\n",
    "        x=torch.sigmoid(self.fc2(x))\n",
    "        x=torch.sigmoid(self.fc3(x))\n",
    "        return x\n",
    "    \n",
    "net = Net()\n",
    "print(net)\n",
    "params = list(net.parameters())\n",
    "input_data = torch.randn(28,28, requires_grad=True)\n",
    "print(input_data.size())\n",
    "out = net(input_data)\n",
    "net.zero_grad()\n",
    "#out.backward(torch.randn(28,10))\n",
    "target = torch.randn(10)\n",
    "target = target.view(1,-1)\n",
    "criterion = nn.MSELoss()\n",
    "\n",
    "\n",
    "# Creating the optimizer\n",
    "optimizer = optim.SGD(net.parameters(), lr=0.01)\n",
    "optimizer.zero_grad()\n",
    "output = net(input_data)\n",
    "loss = criterion(output, target)\n",
    "loss.backward()\n",
    "optimizer.step()\n"
   ]
  },
  {
   "cell_type": "markdown",
   "metadata": {},
   "source": [
    "### MNIST TASK"
   ]
  },
  {
   "cell_type": "code",
   "execution_count": null,
   "metadata": {},
   "outputs": [],
   "source": [
    "from pathlib import Path\n",
    "import requests\n",
    "\n",
    "\n",
    "DATA_PATH = Path(\"data\")\n",
    "PATH = DATA_PATH / \"mnist\"\n",
    "\n",
    "PATH.mkdir(parents=True, exist_ok=True)\n",
    "\n",
    "URL = \"http://deeplearning.net/data/mnist/\"\n",
    "FILENAME = \"mnist.pkl.gz\"\n",
    "\n",
    "if not (PATH / FILENAME).exists():\n",
    "        content = requests.get(URL + FILENAME).content\n",
    "        (PATH / FILENAME).open(\"wb\").write(content)"
   ]
  },
  {
   "cell_type": "code",
   "execution_count": null,
   "metadata": {},
   "outputs": [],
   "source": []
  }
 ],
 "metadata": {
  "kernelspec": {
   "display_name": "Python 3",
   "language": "python",
   "name": "python3"
  },
  "language_info": {
   "codemirror_mode": {
    "name": "ipython",
    "version": 3
   },
   "file_extension": ".py",
   "mimetype": "text/x-python",
   "name": "python",
   "nbconvert_exporter": "python",
   "pygments_lexer": "ipython3",
   "version": "3.7.2"
  }
 },
 "nbformat": 4,
 "nbformat_minor": 2
}
