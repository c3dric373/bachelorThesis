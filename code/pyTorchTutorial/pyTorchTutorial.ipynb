{
 "cells": [
  {
   "cell_type": "code",
   "execution_count": 14,
   "metadata": {},
   "outputs": [],
   "source": [
    "%config IPCompleter.greedy=True"
   ]
  },
  {
   "cell_type": "markdown",
   "metadata": {},
   "source": [
    "### Tensors"
   ]
  },
  {
   "cell_type": "code",
   "execution_count": 1,
   "metadata": {
    "scrolled": false
   },
   "outputs": [
    {
     "name": "stdout",
     "output_type": "stream",
     "text": [
      "tensor([[ 1,  1],\n",
      "        [-1, -1]])\n",
      "tensor([[0, 0],\n",
      "        [1, 1]])\n",
      "tensor([[1, 1],\n",
      "        [0, 0]])\n",
      "tensor([[1, 1],\n",
      "        [0, 0]])\n",
      "tensor([ 1,  1, -1, -1])\n",
      "torch.Size([4, 8, 2])\n",
      "False\n"
     ]
    }
   ],
   "source": [
    "from __future__ import print_function\n",
    "import torch\n",
    "\n",
    "x=torch.tensor([[1,1],[-1,-1]])\n",
    "print(x)\n",
    "y=torch.tensor([[0,0],[1,1]])\n",
    "print(y)\n",
    "print(torch.add(x,y))\n",
    "print(y.add_(x))\n",
    "x0 = x.view(4)\n",
    "print(x0)\n",
    "x=torch.empty(5,3)\n",
    "z = torch.randn(4,4,4)\n",
    "z0 = z.view(-1,8,2)\n",
    "print(z0.size())\n",
    "print(torch.cuda.is_available())"
   ]
  },
  {
   "cell_type": "markdown",
   "metadata": {},
   "source": [
    "###  AutoGrad"
   ]
  },
  {
   "cell_type": "code",
   "execution_count": 22,
   "metadata": {},
   "outputs": [
    {
     "name": "stdout",
     "output_type": "stream",
     "text": [
      "<AddBackward0 object at 0x7fe15c1cdf98>\n",
      "tensor([[26.2780, 20.5255],\n",
      "        [21.8914, 21.6872]], grad_fn=<MulBackward0>)\n",
      "tensor(22.5955, grad_fn=<MeanBackward1>)\n",
      "tensor([[4.4394, 3.9235],\n",
      "        [4.0520, 4.0330]])\n"
     ]
    }
   ],
   "source": [
    "x = torch.rand(2,2,requires_grad=True)\n",
    "#print(x)\n",
    "y = x + 2\n",
    "print(y.grad_fn)\n",
    "z = y * y * 3\n",
    "z_mean = z.mean()\n",
    "print(z)\n",
    "print(z_mean)\n",
    "z_mean.backward()\n",
    "print(x.grad)"
   ]
  },
  {
   "cell_type": "code",
   "execution_count": 37,
   "metadata": {},
   "outputs": [
    {
     "name": "stdout",
     "output_type": "stream",
     "text": [
      "tensor([[-0.7201,  2.1970, -0.0980],\n",
      "        [ 0.9116, -0.3588,  0.3907],\n",
      "        [ 0.1504,  0.7995, -0.0346]], requires_grad=True)\n"
     ]
    }
   ],
   "source": [
    "x = torch.randn(3,3,requires_grad=True)\n",
    "print(x)"
   ]
  },
  {
   "cell_type": "code",
   "execution_count": null,
   "metadata": {},
   "outputs": [],
   "source": []
  }
 ],
 "metadata": {
  "kernelspec": {
   "display_name": "Python 3",
   "language": "python",
   "name": "python3"
  },
  "language_info": {
   "codemirror_mode": {
    "name": "ipython",
    "version": 3
   },
   "file_extension": ".py",
   "mimetype": "text/x-python",
   "name": "python",
   "nbconvert_exporter": "python",
   "pygments_lexer": "ipython3",
   "version": "3.7.2"
  }
 },
 "nbformat": 4,
 "nbformat_minor": 2
}
